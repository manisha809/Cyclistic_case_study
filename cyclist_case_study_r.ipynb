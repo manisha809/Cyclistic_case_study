{
  "cells": [
    {
      "cell_type": "markdown",
      "metadata": {
        "id": "f-QpGuNqGUg2"
      },
      "source": [
        "#Google Data Analytics Capestone - Case Study-1\n",
        "\n",
        "##Scenario\n",
        "You are a junior data analyst working in the marketing analyst team at Cyclistic, a bike-share company in Chicago. The director\n",
        "of marketing believes the company’s future success depends on maximizing the number of annual memberships. Therefore,\n",
        "your team wants to understand how casual riders and annual members use Cyclistic bikes differently. From these insights,\n",
        "your team will design a new marketing strategy to convert casual riders into annual members. But first, Cyclistic executives\n",
        "must approve your recommendations, so they must be backed up with compelling data insights and professional data\n",
        "visualizations.\n",
        "\n",
        "##Characters and teams\n",
        "● Cyclistic: A bike-share program that features more than 5,800 bicycles and 600 docking stations. Cyclistic sets itself\n",
        "apart by also offering reclining bikes, hand tricycles, and cargo bikes, making bike-share more inclusive to people with\n",
        "disabilities and riders who can’t use a standard two-wheeled bike. The majority of riders opt for traditional bikes; about\n",
        "8% of riders use the assistive options. Cyclistic users are more likely to ride for leisure, but about 30% use them to\n",
        "commute to work each day.\n",
        "\n",
        "● Lily Moreno: The director of marketing and your manager. Moreno is responsible for the development of campaigns\n",
        "and initiatives to promote the bike-share program. These may include email, social media, and other channels.\n",
        "\n",
        "\n",
        "● Cyclistic marketing analytics team: A team of data analysts who are responsible for collecting, analyzing, and\n",
        "reporting data that helps guide Cyclistic marketing strategy. You joined this team six months ago and have been busy\n",
        "learning about Cyclistic’s mission and business goals — as well as how you, as a junior data analyst, can help Cyclistic\n",
        "achieve them.\n",
        "\n",
        "\n",
        "● Cyclistic executive team: The notoriously detail-oriented executive team will decide whether to approve the\n",
        "recommended marketing program.\n",
        "\n",
        "\n",
        "About the company\n",
        "In 2016, Cyclistic launched a successful bike-share offering. Since then, the program has grown to a fleet of 5,824 bicycles that\n",
        "are geotracked and locked into a network of 692 stations across Chicago. The bikes can be unlocked from one station and\n",
        "returned to any other station in the system anytime.\n",
        "Until now, Cyclistic’s marketing strategy relied on building general awareness and appealing to broad consumer segments.\n",
        "One approach that helped make these things possible was the flexibility of its pricing plans: single-ride passes, full-day passes,\n",
        "and annual memberships. Customers who purchase single-ride or full-day passes are referred to as casual riders. Customers\n",
        "who purchase annual memberships are Cyclistic members.\n",
        "Cyclistic’s finance analysts have concluded that annual members are much more profitable than casual riders. Although the\n",
        "pricing flexibility helps Cyclistic attract more customers, Moreno believes that maximizing the number of annual members will\n",
        "be key to future growth. Rather than creating a marketing campaign that targets all-new customers, Moreno believes there is a\n",
        "very good chance to convert casual riders into members. She notes that casual riders are already aware of the Cyclistic\n",
        "program and have chosen Cyclistic for their mobility needs.\n",
        "Moreno has set a clear goal: Design marketing strategies aimed at converting casual riders into annual members. In order to\n",
        "do that, however, the marketing analyst team needs to better understand how annual members and casual riders differ, why\n",
        "casual riders would buy a membership, and how digital media could affect their marketing tactics. Moreno and her team are\n",
        "interested in analyzing the Cyclistic historical bike trip data to identify trends.\n",
        "Ask\n",
        "Three questions will guide the future marketing program:\n",
        "1. How do annual members and casual riders use Cyclistic bikes differently?\n",
        "2. Why would casual riders buy Cyclistic annual memberships?\n",
        "3. How can Cyclistic use digital media to influence casual riders to become members?\n",
        "\n",
        "\n",
        "\n",
        "\n",
        "Moreno has assigned you the first question to answer: How do annual members and casual riders use Cyclistic bikes\n",
        "differently?\n",
        "\n",
        "\n",
        "\n",
        "\n",
        "\n",
        " WE WILL WALK THROUGH EVERY PHASE OF DATA ANALYTICS BY SOLVING THE CASE STUDY ."
      ]
    },
    {
      "cell_type": "markdown",
      "metadata": {
        "id": "J0Ipvrw9HF9w"
      },
      "source": [
        "PHASE 1-ASK\n",
        "\n",
        "The Ask step is the most important step in the data analysis process. If you don't clearly define your question or problem, you won't be able to collect the right data or analyze it effectively.\n",
        "###Guiding questions\n",
        "● What is the problem you are trying to solve?\n",
        "  \n",
        "  The primary goal is to devise a method for creating profiles of yearly subscribers and identifying effective marketing approaches to convert occasional bike riders into annual members.\n",
        "\n",
        "  ● How can your insights drive business decisions?\n",
        "\n",
        "  The information obtained will support the marketing team in boosting the number of annual members.\n",
        "#Key tasks\n",
        " 1. Identify the business task.\n",
        "   The company aims to enhance their revenue by targeting \"casual\" riders and, to achieve this, they need to examine the distinct characteristics that differentiate \"casual\" customers from annual subscribers. This analysis will enable them to craft a targeted and effective marketing message tailored specifically to the \"casual\" riders, encouraging them to transition to the annual subscription model.\n",
        "\n",
        " 2. Consider key stakeholders.\n",
        "   The key stakeholders in this project include the marketing director, Lily Moreno (manager), the entire marketing analytics team, and the Cyclistic executive team.\n",
        "  \n",
        "###Deliverable\n",
        "A clear statement of the business task-Identify the significant distinctions between casual riders and members and explore how digital media can impact their preferences and behaviors.\n",
        "\n",
        "\n",
        "\n",
        "\n",
        "\n",
        "\n"
      ]
    },
    {
      "cell_type": "markdown",
      "metadata": {
        "id": "lZ9DMMJLHvL1"
      },
      "source": [
        "\n",
        "##PHASE 2-PREPARE\n",
        "  The Prepare step is also important. If your data is not clean and prepared, it will be difficult to analyze and draw accurate conclusions.\n",
        "\n",
        "##Guiding questions\n",
        "● Where is your data located?\n",
        "\n",
        "   Data is located in the github folder\n",
        "\n",
        " ● How is the data organized?\n",
        "\n",
        "The data is organized by month, with each month's information stored in its own CSV file.\n",
        "\n",
        " ● Are there issues with bias or credibility in this data? Does your data ROCCC?\n",
        "\n",
        " The dataset is free from bias as it solely comprises the bike riders who are the company's own clients. It possesses complete credibility due to this fact. Moreover, the dataset is ROCCC-compliant, being reliable, original, comprehensive, current, and properly cited.\n",
        "\n",
        " ● How are you addressing licensing, privacy, security, and accessibility?\n",
        "\n",
        "The company holds exclusive ownership of the dataset, and importantly, it does not contain any personal information about the riders.\n",
        "\n",
        " ● How did you verify the data’s integrity?\n",
        "\n",
        " Each month's data is consistent and organised\n",
        "\n",
        " ● How does it help you answer your question?\n",
        "\n",
        "The dataset potentially contains valuable insights regarding the riders and their biking habits.\n",
        "\n",
        " ● Are there any problems with the data?\n",
        "\n",
        " No,for this case scenario ,we have enough data for analysis.\n",
        "\n",
        "##Key tasks\n",
        "1. Download data and store it appropriately.\n",
        "2. Identify how it’s organized.\n",
        "3. Sort and filter the data.\n",
        "4. Determine the credibility of the data.\n",
        "\n",
        "\n",
        "\n",
        "\n",
        "\n",
        "##Deliverable\n",
        " A description of all data sources used\n",
        " The primary data source consists of riding data spanning 12 months, ranging from April 2020 to March 2021 ,and is supplied by the Cicylistic company."
      ]
    },
    {
      "cell_type": "code",
      "execution_count": null,
      "metadata": {
        "id": "CmckqZkLIkfm"
      },
      "outputs": [],
      "source": [
        "#Fist import the required libraries-\n",
        "#tidyverse\n",
        "#ggplot2\n",
        "#dplyr\n",
        "#lubridate\n",
        "#janitor\n"
      ]
    },
    {
      "cell_type": "code",
      "execution_count": null,
      "metadata": {
        "colab": {
          "base_uri": "https://localhost:8080/"
        },
        "id": "WpD9YtTIYeDP",
        "outputId": "ab9102a2-9593-4c40-bd96-16d326e7c343"
      },
      "outputs": [
        {
          "output_type": "stream",
          "name": "stderr",
          "text": [
            "Installing package into ‘/usr/local/lib/R/site-library’\n",
            "(as ‘lib’ is unspecified)\n",
            "\n"
          ]
        }
      ],
      "source": [
        "install.packages(\"tidyverse\")"
      ]
    },
    {
      "cell_type": "code",
      "execution_count": null,
      "metadata": {
        "colab": {
          "base_uri": "https://localhost:8080/"
        },
        "id": "Ez2fUhmbI-Dn",
        "outputId": "ed4945e3-64ba-4b96-d0bc-b33959b190e5"
      },
      "outputs": [
        {
          "output_type": "stream",
          "name": "stderr",
          "text": [
            "Installing package into ‘/usr/local/lib/R/site-library’\n",
            "(as ‘lib’ is unspecified)\n",
            "\n"
          ]
        }
      ],
      "source": [
        "install.packages(\"ggplot2\")"
      ]
    },
    {
      "cell_type": "code",
      "execution_count": null,
      "metadata": {
        "id": "yVK0CJAuJJdM",
        "colab": {
          "base_uri": "https://localhost:8080/"
        },
        "outputId": "190bee79-b97a-4f68-f740-ce9375be3b49"
      },
      "outputs": [
        {
          "output_type": "stream",
          "name": "stderr",
          "text": [
            "── \u001b[1mAttaching core tidyverse packages\u001b[22m ──────────────────────── tidyverse 2.0.0 ──\n",
            "\u001b[32m✔\u001b[39m \u001b[34mdplyr    \u001b[39m 1.1.2     \u001b[32m✔\u001b[39m \u001b[34mreadr    \u001b[39m 2.1.4\n",
            "\u001b[32m✔\u001b[39m \u001b[34mforcats  \u001b[39m 1.0.0     \u001b[32m✔\u001b[39m \u001b[34mstringr  \u001b[39m 1.5.0\n",
            "\u001b[32m✔\u001b[39m \u001b[34mggplot2  \u001b[39m 3.4.2     \u001b[32m✔\u001b[39m \u001b[34mtibble   \u001b[39m 3.2.1\n",
            "\u001b[32m✔\u001b[39m \u001b[34mlubridate\u001b[39m 1.9.2     \u001b[32m✔\u001b[39m \u001b[34mtidyr    \u001b[39m 1.3.0\n",
            "\u001b[32m✔\u001b[39m \u001b[34mpurrr    \u001b[39m 1.0.1     \n",
            "── \u001b[1mConflicts\u001b[22m ────────────────────────────────────────── tidyverse_conflicts() ──\n",
            "\u001b[31m✖\u001b[39m \u001b[34mdplyr\u001b[39m::\u001b[32mfilter()\u001b[39m masks \u001b[34mstats\u001b[39m::filter()\n",
            "\u001b[31m✖\u001b[39m \u001b[34mdplyr\u001b[39m::\u001b[32mlag()\u001b[39m    masks \u001b[34mstats\u001b[39m::lag()\n",
            "\u001b[36mℹ\u001b[39m Use the conflicted package (\u001b[3m\u001b[34m<http://conflicted.r-lib.org/>\u001b[39m\u001b[23m) to force all conflicts to become errors\n"
          ]
        }
      ],
      "source": [
        "\n",
        "library(tidyverse)\n",
        "library(ggplot2)"
      ]
    },
    {
      "cell_type": "code",
      "execution_count": null,
      "metadata": {
        "id": "A3kv9qTHJTjQ"
      },
      "outputs": [],
      "source": [
        "library(lubridate)\n",
        "library(dplyr)"
      ]
    },
    {
      "cell_type": "code",
      "execution_count": null,
      "metadata": {
        "colab": {
          "base_uri": "https://localhost:8080/"
        },
        "id": "UR91M08bJXyw",
        "outputId": "50c417db-7057-40ef-c320-04e933490667"
      },
      "outputs": [
        {
          "output_type": "stream",
          "name": "stderr",
          "text": [
            "Installing package into ‘/usr/local/lib/R/site-library’\n",
            "(as ‘lib’ is unspecified)\n",
            "\n",
            "also installing the dependency ‘snakecase’\n",
            "\n",
            "\n"
          ]
        }
      ],
      "source": [
        "install.packages(\"janitor\")"
      ]
    },
    {
      "cell_type": "code",
      "execution_count": null,
      "metadata": {
        "id": "4QISexYMJdey",
        "colab": {
          "base_uri": "https://localhost:8080/"
        },
        "outputId": "0f9c44ae-5f1e-412d-cd8f-dd46ea356a78"
      },
      "outputs": [
        {
          "output_type": "stream",
          "name": "stderr",
          "text": [
            "\n",
            "Attaching package: ‘janitor’\n",
            "\n",
            "\n",
            "The following objects are masked from ‘package:stats’:\n",
            "\n",
            "    chisq.test, fisher.test\n",
            "\n",
            "\n"
          ]
        }
      ],
      "source": [
        "library(janitor)"
      ]
    },
    {
      "cell_type": "code",
      "execution_count": null,
      "metadata": {
        "id": "QQugVetwJgu7"
      },
      "outputs": [],
      "source": [
        "#load the datasets\n",
        "\n",
        "trip_jan = read.csv(\"/content/sample_data/202101-divvy-tripdata.csv\")\n",
        "trip_feb = read.csv(\"/content/sample_data/202102-divvy-tripdata.csv\")\n",
        "trip_mar = read.csv(\"/content/sample_data/202103-divvy-tripdata.csv\")\n",
        "\n",
        "trip_apr = read.csv(\"/content/sample_data/202104-divvy-tripdata.csv\")\n",
        "trip_may = read.csv(\"/content/sample_data/202105-divvy-tripdata.csv\")\n",
        "trip_jun = read.csv(\"/content/sample_data/202106-divvy-tripdata.csv\")\n",
        "\n",
        "trip_jul = read.csv(\"/content/sample_data/202107-divvy-tripdata.csv\")\n",
        "trip_aug = read.csv(\"/content/sample_data/202108-divvy-tripdata.csv\")\n",
        "trip_sep = read.csv(\"/content/sample_data/202109-divvy-tripdata.csv\")\n",
        "\n",
        "trip_oct = read.csv(\"/content/sample_data/202110-divvy-tripdata.csv\")\n",
        "trip_nov = read.csv(\"/content/sample_data/202111-divvy-tripdata.csv\")\n",
        "trip_dec = read.csv(\"/content/sample_data/202112-divvy-tripdata.csv\")"
      ]
    },
    {
      "cell_type": "code",
      "execution_count": null,
      "metadata": {
        "colab": {
          "base_uri": "https://localhost:8080/",
          "height": 4114
        },
        "id": "vfyqi_oFMhHw",
        "outputId": "f8168eb3-0365-4260-a6aa-f2dc2bc5b111"
      },
      "outputs": [
        {
          "output_type": "display_data",
          "data": {
            "text/plain": [
              "        ride_id          rideable_type started_at          ended_at           \n",
              "1       E19E6F1B8D4C42ED electric_bike 2021-01-23 16:14:19 2021-01-23 16:24:44\n",
              "2       DC88F20C2C55F27F electric_bike 2021-01-27 18:43:08 2021-01-27 18:47:12\n",
              "3       EC45C94683FE3F27 electric_bike 2021-01-21 22:35:54 2021-01-21 22:37:14\n",
              "4       4FA453A75AE377DB electric_bike 2021-01-07 13:31:13 2021-01-07 13:42:55\n",
              "5       BE5E8EB4E7263A0B electric_bike 2021-01-23 02:24:02 2021-01-23 02:24:45\n",
              "6       5D8969F88C773979 electric_bike 2021-01-09 14:24:07 2021-01-09 15:17:54\n",
              "7       09275CC10F854E9E electric_bike 2021-01-04 05:05:04 2021-01-04 05:10:39\n",
              "8       DF7A32A217AEFB14 electric_bike 2021-01-14 15:07:00 2021-01-14 15:13:40\n",
              "9       C2EFC62379EB716C electric_bike 2021-01-09 09:57:55 2021-01-09 10:00:26\n",
              "10      B9F73448DFBE0D45 classic_bike  2021-01-24 19:15:38 2021-01-24 19:22:51\n",
              "11      457C7F4B5D3DA135 electric_bike 2021-01-23 12:57:38 2021-01-23 13:02:10\n",
              "12      57C750326F9FDABE electric_bike 2021-01-09 15:28:04 2021-01-09 15:37:51\n",
              "13      4D518C65E338D070 electric_bike 2021-01-09 15:28:57 2021-01-09 15:37:54\n",
              "14      9D08A3AFF410474D classic_bike  2021-01-24 15:56:59 2021-01-24 16:07:08\n",
              "15      49FCE1F8598F12C6 electric_bike 2021-01-22 15:15:28 2021-01-22 15:36:01\n",
              "16      0FEED5C2C8749A1C classic_bike  2021-01-05 10:33:12 2021-01-05 10:39:12\n",
              "17      E276FD43BDED6420 classic_bike  2021-01-30 11:59:16 2021-01-30 12:03:44\n",
              "18      88BFCF66C2D585EC electric_bike 2021-01-27 07:27:09 2021-01-27 07:45:32\n",
              "19      8BD6F6510F5C8BD2 electric_bike 2021-01-15 08:54:41 2021-01-15 09:11:46\n",
              "20      84F11CC620F83254 electric_bike 2021-01-10 08:05:47 2021-01-10 08:13:24\n",
              "21      C84E5DD4D74F4FC0 electric_bike 2021-01-18 13:30:07 2021-01-18 13:37:19\n",
              "22      00AEF8EE4622147F electric_bike 2021-01-07 09:45:00 2021-01-07 09:52:30\n",
              "23      55DAB9E709B61EA5 classic_bike  2021-01-11 11:20:38 2021-01-11 11:29:33\n",
              "24      3E41D6E4EFE87DD9 classic_bike  2021-01-22 21:54:15 2021-01-22 22:04:27\n",
              "25      FCE0D29EB2DF84DA electric_bike 2021-01-16 01:05:07 2021-01-16 01:19:43\n",
              "26      77E53236C1F0EA3F classic_bike  2021-01-28 20:35:56 2021-01-28 21:06:32\n",
              "27      72335684BF7A0943 electric_bike 2021-01-09 00:35:55 2021-01-09 00:43:55\n",
              "28      625DDA8DCCCCB3E2 classic_bike  2021-01-17 15:07:57 2021-01-17 15:20:54\n",
              "29      61C6977EA354684C electric_bike 2021-01-25 15:39:54 2021-01-25 15:52:11\n",
              "30      07F1F6A27AB0436E classic_bike  2021-01-11 15:32:41 2021-01-11 15:35:26\n",
              "⋮       ⋮                ⋮             ⋮                   ⋮                  \n",
              "3412271 16F69B146347EFA9 classic_bike  2021-12-04 18:08:54 2021-12-04 18:18:11\n",
              "3412272 A826EF8672C13219 classic_bike  2021-12-04 08:55:37 2021-12-04 09:03:11\n",
              "3412273 65CF5A2AE0315E42 classic_bike  2021-12-27 17:35:25 2021-12-27 17:58:14\n",
              "3412274 0895B9FF3614A57C docked_bike   2021-12-09 21:59:12 2021-12-09 22:09:51\n",
              "3412275 9108B70FA744A74A electric_bike 2021-12-16 23:32:51 2021-12-16 23:39:11\n",
              "3412276 FBF9CD2D3DD2BE5B electric_bike 2021-12-01 22:20:38 2021-12-01 22:25:59\n",
              "3412277 16732303CA60B23B electric_bike 2021-12-11 10:06:17 2021-12-11 10:06:34\n",
              "3412278 431890135BCDFFCD classic_bike  2021-12-14 17:49:16 2021-12-14 18:02:43\n",
              "3412279 22DE9719A8E04A77 classic_bike  2021-12-20 18:06:49 2021-12-20 18:23:26\n",
              "3412280 0D1E9F2B92566BA1 electric_bike 2021-12-15 12:09:17 2021-12-15 12:24:54\n",
              "3412281 7F774EDC64D82CBD classic_bike  2021-12-03 01:50:23 2021-12-03 02:06:14\n",
              "3412282 A8292DF24FBDC31F classic_bike  2021-12-04 09:02:17 2021-12-04 09:09:46\n",
              "3412283 330C8D21AB310516 electric_bike 2021-12-13 11:19:46 2021-12-13 11:26:31\n",
              "3412284 9620EBD63FC1C2EF electric_bike 2021-12-18 16:37:11 2021-12-18 16:59:14\n",
              "3412285 B6404BB2035684DF electric_bike 2021-12-04 13:31:42 2021-12-04 13:38:19\n",
              "3412286 968D60ECAD55BDBC classic_bike  2021-12-06 12:35:13 2021-12-06 12:43:48\n",
              "3412287 D01B0992F10BB9FD classic_bike  2021-12-31 15:46:26 2021-12-31 15:53:34\n",
              "3412288 9ADBA4AFFF567E2E classic_bike  2021-12-01 06:14:26 2021-12-01 06:34:27\n",
              "3412289 C9BEFF28FC28AB16 electric_bike 2021-12-01 12:21:04 2021-12-01 12:37:32\n",
              "3412290 9CB69429BEC6E514 classic_bike  2021-12-14 15:45:14 2021-12-14 15:59:42\n",
              "3412291 8AC98A4909917CFF electric_bike 2021-12-21 16:07:11 2021-12-21 16:10:13\n",
              "3412292 20C5F174BCE0F327 classic_bike  2021-12-31 04:43:38 2021-12-31 05:11:37\n",
              "3412293 F49BF664C66FA934 electric_bike 2021-12-09 20:50:41 2021-12-09 21:09:23\n",
              "3412294 7E21820E8C171AF8 electric_bike 2021-12-03 19:36:08 2021-12-03 19:47:26\n",
              "3412295 E49DFCD750EFF0E7 classic_bike  2021-12-15 14:56:32 2021-12-15 15:10:16\n",
              "3412296 D918694B7D795B04 electric_bike 2021-12-13 17:42:39 2021-12-13 18:15:50\n",
              "3412297 6F223111CFB46D19 electric_bike 2021-12-02 21:08:36 2021-12-02 21:12:54\n",
              "3412298 3F159579A30FFE0D electric_bike 2021-12-20 21:28:55 2021-12-20 22:03:57\n",
              "3412299 049979697E40C124 classic_bike  2021-12-12 00:15:44 2021-12-12 00:19:03\n",
              "3412300 0ABEA3232BDA9CF5 electric_bike 2021-12-19 23:49:31 2021-12-19 23:51:32\n",
              "        start_station_name             start_station_id\n",
              "1       California Ave & Cortez St     17660           \n",
              "2       California Ave & Cortez St     17660           \n",
              "3       California Ave & Cortez St     17660           \n",
              "4       California Ave & Cortez St     17660           \n",
              "5       California Ave & Cortez St     17660           \n",
              "6       California Ave & Cortez St     17660           \n",
              "7       California Ave & Cortez St     17660           \n",
              "8       California Ave & Cortez St     17660           \n",
              "9       California Ave & Cortez St     17660           \n",
              "10      California Ave & Cortez St     17660           \n",
              "11      California Ave & Cortez St     17660           \n",
              "12      California Ave & Cortez St     17660           \n",
              "13      California Ave & Cortez St     17660           \n",
              "14      California Ave & Cortez St     17660           \n",
              "15      California Ave & Cortez St     17660           \n",
              "16      California Ave & Cortez St     17660           \n",
              "17      California Ave & Cortez St     17660           \n",
              "18      California Ave & Cortez St     17660           \n",
              "19      California Ave & Cortez St     17660           \n",
              "20      California Ave & Cortez St     17660           \n",
              "21      California Ave & Cortez St     17660           \n",
              "22      California Ave & Cortez St     17660           \n",
              "23      California Ave & Cortez St     17660           \n",
              "24      California Ave & Cortez St     17660           \n",
              "25      California Ave & Cortez St     17660           \n",
              "26      Halsted St & North Branch St   KA1504000117    \n",
              "27      Halsted St & North Branch St   KA1504000117    \n",
              "28      Glenwood Ave & Touhy Ave       525             \n",
              "29      Halsted St & North Branch St   KA1504000117    \n",
              "30      California Ave & Cortez St     17660           \n",
              "⋮       ⋮                              ⋮               \n",
              "3412271 Winthrop Ave & Lawrence Ave    TA1308000021    \n",
              "3412272 Clark St & Schiller St         TA1309000024    \n",
              "3412273 Sheridan Rd & Montrose Ave     TA1307000107    \n",
              "3412274 Wabash Ave & 16th St           SL-012          \n",
              "3412275 Peoria St & Jackson Blvd       13158           \n",
              "3412276 Peoria St & Jackson Blvd       13158           \n",
              "3412277 Damen Ave & Sunnyside Ave      TA1309000012    \n",
              "3412278 Broadway & Cornelia Ave        13278           \n",
              "3412279 Wells St & Hubbard St          TA1307000151    \n",
              "3412280 Wells St & Hubbard St          TA1307000151    \n",
              "3412281 LaSalle Dr & Huron St          KP1705001026    \n",
              "3412282 Clark St & Schiller St         TA1309000024    \n",
              "3412283 Clark St & Schiller St         TA1309000024    \n",
              "3412284 Milwaukee Ave & Grand Ave      13033           \n",
              "3412285 Ashland Ave & 13th St          13354           \n",
              "3412286 Ashland Ave & 13th St          13354           \n",
              "3412287 Michigan Ave & 14th St         TA1307000124    \n",
              "3412288 Ashland Ave & 13th St          13354           \n",
              "3412289 Wells St & 19th St             SL-006          \n",
              "3412290 Wells St & 19th St             SL-006          \n",
              "3412291 Western Ave & Leland Ave       TA1307000140    \n",
              "3412292 Wells St & 19th St             SL-006          \n",
              "3412293 Ashland Ave & Division St      13061           \n",
              "3412294 Michigan Ave & 14th St         TA1307000124    \n",
              "3412295 Wells St & 19th St             SL-006          \n",
              "3412296 Sheffield Ave & Kingsbury St   13154           \n",
              "3412297 State St & Randolph St         TA1305000029    \n",
              "3412298 Theater on the Lake            TA1308000001    \n",
              "3412299 Lincoln Ave & Belle Plaine Ave TA1309000026    \n",
              "3412300 Lincoln Ave & Belle Plaine Ave TA1309000026    \n",
              "        end_station_name                end_station_id start_lat start_lng\n",
              "1                                                      41.90034  -87.69674\n",
              "2                                                      41.90033  -87.69671\n",
              "3                                                      41.90031  -87.69664\n",
              "4                                                      41.90040  -87.69666\n",
              "5                                                      41.90033  -87.69670\n",
              "6                                                      41.90041  -87.69676\n",
              "7                                                      41.90039  -87.69676\n",
              "8                                                      41.90039  -87.69673\n",
              "9                                                      41.90031  -87.69680\n",
              "10      Wood St & Augusta Blvd          657            41.90036  -87.69670\n",
              "11      California Ave & North Ave      13258          41.90041  -87.69673\n",
              "12      Wood St & Augusta Blvd          657            41.90037  -87.69669\n",
              "13      Wood St & Augusta Blvd          657            41.90038  -87.69672\n",
              "14      Wood St & Augusta Blvd          657            41.90036  -87.69670\n",
              "15      Wells St & Elm St               KA1504000135   41.90037  -87.69679\n",
              "16      Sacramento Blvd & Franklin Blvd KA1504000113   41.90036  -87.69670\n",
              "17      Western Ave & Walton St         KA1504000103   41.90036  -87.69670\n",
              "18      Damen Ave & Clybourn Ave        13271          41.90031  -87.69679\n",
              "19      Damen Ave & Clybourn Ave        13271          41.90036  -87.69663\n",
              "20      Leavitt St & North Ave          TA1308000005   41.90040  -87.69671\n",
              "21      Leavitt St & North Ave          TA1308000005   41.90041  -87.69671\n",
              "22      Leavitt St & North Ave          TA1308000005   41.90041  -87.69685\n",
              "23      Leavitt St & North Ave          TA1308000005   41.90036  -87.69670\n",
              "24      Honore St & Division St         TA1305000034   41.90036  -87.69670\n",
              "25      Ogden Ave & Chicago Ave         TA1305000020   41.90031  -87.69683\n",
              "26      Southport Ave & Clark St        TA1308000047   41.89937  -87.64848\n",
              "27      Bissell St & Armitage Ave       13059          41.89936  -87.64849\n",
              "28      Broadway & Granville Ave        15571          42.01270  -87.66606\n",
              "29      Clark St & Lincoln Ave          13179          41.89933  -87.64847\n",
              "30      California Ave & Division St    13256          41.90036  -87.69670\n",
              "⋮       ⋮                               ⋮              ⋮         ⋮        \n",
              "3412271 Damen Ave & Sunnyside Ave       TA1309000012   41.96881  -87.65766\n",
              "3412272 Lincoln Park Conservatory       LP-            41.90799  -87.63150\n",
              "3412273 Lincoln Park Conservatory       LP-            41.96167  -87.65464\n",
              "3412274 State St & Harrison St          SL-007         41.86038  -87.62581\n",
              "3412275 Racine Ave & 15th St            13304          41.87762  -87.64935\n",
              "3412276 Racine Ave & 15th St            13304          41.87754  -87.64949\n",
              "3412277 Damen Ave & Sunnyside Ave       TA1309000012   41.96329  -87.67927\n",
              "3412278 Lincoln Park Conservatory       LP-            41.94553  -87.64644\n",
              "3412279 State St & Harrison St          SL-007         41.88991  -87.63427\n",
              "3412280 Racine Ave & 15th St            13304          41.88998  -87.63430\n",
              "3412281 Lincoln Park Conservatory       LP-            41.89488  -87.63233\n",
              "3412282 Lincoln Park Conservatory       LP-            41.90799  -87.63150\n",
              "3412283 Lincoln Park Conservatory       LP-            41.90792  -87.63162\n",
              "3412284 State St & Harrison St          SL-007         41.89160  -87.64823\n",
              "3412285 Racine Ave & 15th St            13304          41.86526  -87.66654\n",
              "3412286 Racine Ave & 15th St            13304          41.86523  -87.66651\n",
              "3412287 State St & Harrison St          SL-007         41.86406  -87.62373\n",
              "3412288 Racine Ave & 15th St            13304          41.86523  -87.66651\n",
              "3412289 State St & Harrison St          SL-007         41.85678  -87.63376\n",
              "3412290 State St & Harrison St          SL-007         41.85680  -87.63388\n",
              "3412291 Damen Ave & Sunnyside Ave       TA1309000012   41.96645  -87.68869\n",
              "3412292 State St & Harrison St          SL-007         41.85680  -87.63388\n",
              "3412293 Racine Ave & 15th St            13304          41.90360  -87.66795\n",
              "3412294 Racine Ave & 15th St            13304          41.86437  -87.62362\n",
              "3412295 State St & Harrison St          SL-007         41.85680  -87.63388\n",
              "3412296 Oakley Ave & Irving Park Rd     KA1504000158   41.91064  -87.65318\n",
              "3412297 State St & Harrison St          SL-007         41.88478  -87.62803\n",
              "3412298 State St & Harrison St          SL-007         41.92628  -87.63113\n",
              "3412299 Oakley Ave & Irving Park Rd     KA1504000158   41.95600  -87.68016\n",
              "3412300 Oakley Ave &                                         NA         NA\n",
              "        end_lat  end_lng   member_casual\n",
              "1       41.89000 -87.72000 member       \n",
              "2       41.90000 -87.69000 member       \n",
              "3       41.90000 -87.70000 member       \n",
              "4       41.92000 -87.69000 member       \n",
              "5       41.90000 -87.70000 casual       \n",
              "6       41.94000 -87.71000 casual       \n",
              "7       41.90000 -87.71000 member       \n",
              "8       41.91000 -87.70000 member       \n",
              "9       41.90000 -87.70000 member       \n",
              "10      41.89918 -87.67220 member       \n",
              "11      41.91044 -87.69689 member       \n",
              "12      41.89918 -87.67218 casual       \n",
              "13      41.89915 -87.67218 casual       \n",
              "14      41.89918 -87.67220 casual       \n",
              "15      41.90327 -87.63446 member       \n",
              "16      41.89047 -87.70261 member       \n",
              "17      41.89842 -87.68660 member       \n",
              "18      41.93184 -87.67781 member       \n",
              "19      41.93192 -87.67786 member       \n",
              "20      41.91012 -87.68240 casual       \n",
              "21      41.91015 -87.68246 casual       \n",
              "22      41.91013 -87.68244 casual       \n",
              "23      41.91051 -87.68239 casual       \n",
              "24      41.90312 -87.67394 casual       \n",
              "25      41.89636 -87.65421 casual       \n",
              "26      41.95708 -87.66420 member       \n",
              "27      41.91799 -87.65250 member       \n",
              "28      41.99478 -87.66028 member       \n",
              "29      41.91576 -87.63480 member       \n",
              "30      41.90303 -87.69747 member       \n",
              "⋮       ⋮        ⋮         ⋮            \n",
              "3412271 41.96325 -87.67926 member       \n",
              "3412272 41.92393 -87.63582 member       \n",
              "3412273 41.92393 -87.63582 member       \n",
              "3412274 41.87405 -87.62772 casual       \n",
              "3412275 41.86127 -87.65663 member       \n",
              "3412276 41.86125 -87.65664 member       \n",
              "3412277 41.96325 -87.67926 casual       \n",
              "3412278 41.92393 -87.63582 member       \n",
              "3412279 41.87405 -87.62772 casual       \n",
              "3412280 41.86127 -87.65663 member       \n",
              "3412281 41.92393 -87.63582 member       \n",
              "3412282 41.92393 -87.63582 member       \n",
              "3412283 41.92393 -87.63582 casual       \n",
              "3412284 41.87405 -87.62772 casual       \n",
              "3412285 41.86127 -87.65664 member       \n",
              "3412286 41.86127 -87.65663 member       \n",
              "3412287 41.87405 -87.62772 member       \n",
              "3412288 41.86127 -87.65663 member       \n",
              "3412289 41.87406 -87.62761 casual       \n",
              "3412290 41.87405 -87.62772 member       \n",
              "3412291 41.96325 -87.67926 member       \n",
              "3412292 41.87405 -87.62772 casual       \n",
              "3412293 41.86127 -87.65663 member       \n",
              "3412294 41.86131 -87.65630 member       \n",
              "3412295 41.87405 -87.62772 member       \n",
              "3412296 41.95434 -87.68608 member       \n",
              "3412297 41.87449 -87.62743 member       \n",
              "3412298 41.87405 -87.62772 casual       \n",
              "3412299 41.95434 -87.68608 member       \n",
              "3412300       NA        NA              "
            ],
            "text/html": [
              "<table class=\"dataframe\">\n",
              "<caption>A data.frame: 3412300 × 13</caption>\n",
              "<thead>\n",
              "\t<tr><th scope=col>ride_id</th><th scope=col>rideable_type</th><th scope=col>started_at</th><th scope=col>ended_at</th><th scope=col>start_station_name</th><th scope=col>start_station_id</th><th scope=col>end_station_name</th><th scope=col>end_station_id</th><th scope=col>start_lat</th><th scope=col>start_lng</th><th scope=col>end_lat</th><th scope=col>end_lng</th><th scope=col>member_casual</th></tr>\n",
              "\t<tr><th scope=col>&lt;chr&gt;</th><th scope=col>&lt;chr&gt;</th><th scope=col>&lt;chr&gt;</th><th scope=col>&lt;chr&gt;</th><th scope=col>&lt;chr&gt;</th><th scope=col>&lt;chr&gt;</th><th scope=col>&lt;chr&gt;</th><th scope=col>&lt;chr&gt;</th><th scope=col>&lt;dbl&gt;</th><th scope=col>&lt;dbl&gt;</th><th scope=col>&lt;dbl&gt;</th><th scope=col>&lt;dbl&gt;</th><th scope=col>&lt;chr&gt;</th></tr>\n",
              "</thead>\n",
              "<tbody>\n",
              "\t<tr><td>E19E6F1B8D4C42ED</td><td>electric_bike</td><td>2021-01-23 16:14:19</td><td>2021-01-23 16:24:44</td><td><span style=white-space:pre-wrap>California Ave &amp; Cortez St  </span></td><td><span style=white-space:pre-wrap>17660       </span></td><td><span style=white-space:pre-wrap>                               </span></td><td><span style=white-space:pre-wrap>            </span></td><td>41.90034</td><td>-87.69674</td><td>41.89000</td><td>-87.72000</td><td>member</td></tr>\n",
              "\t<tr><td>DC88F20C2C55F27F</td><td>electric_bike</td><td>2021-01-27 18:43:08</td><td>2021-01-27 18:47:12</td><td><span style=white-space:pre-wrap>California Ave &amp; Cortez St  </span></td><td><span style=white-space:pre-wrap>17660       </span></td><td><span style=white-space:pre-wrap>                               </span></td><td><span style=white-space:pre-wrap>            </span></td><td>41.90033</td><td>-87.69671</td><td>41.90000</td><td>-87.69000</td><td>member</td></tr>\n",
              "\t<tr><td>EC45C94683FE3F27</td><td>electric_bike</td><td>2021-01-21 22:35:54</td><td>2021-01-21 22:37:14</td><td><span style=white-space:pre-wrap>California Ave &amp; Cortez St  </span></td><td><span style=white-space:pre-wrap>17660       </span></td><td><span style=white-space:pre-wrap>                               </span></td><td><span style=white-space:pre-wrap>            </span></td><td>41.90031</td><td>-87.69664</td><td>41.90000</td><td>-87.70000</td><td>member</td></tr>\n",
              "\t<tr><td>4FA453A75AE377DB</td><td>electric_bike</td><td>2021-01-07 13:31:13</td><td>2021-01-07 13:42:55</td><td><span style=white-space:pre-wrap>California Ave &amp; Cortez St  </span></td><td><span style=white-space:pre-wrap>17660       </span></td><td><span style=white-space:pre-wrap>                               </span></td><td><span style=white-space:pre-wrap>            </span></td><td>41.90040</td><td>-87.69666</td><td>41.92000</td><td>-87.69000</td><td>member</td></tr>\n",
              "\t<tr><td>BE5E8EB4E7263A0B</td><td>electric_bike</td><td>2021-01-23 02:24:02</td><td>2021-01-23 02:24:45</td><td><span style=white-space:pre-wrap>California Ave &amp; Cortez St  </span></td><td><span style=white-space:pre-wrap>17660       </span></td><td><span style=white-space:pre-wrap>                               </span></td><td><span style=white-space:pre-wrap>            </span></td><td>41.90033</td><td>-87.69670</td><td>41.90000</td><td>-87.70000</td><td>casual</td></tr>\n",
              "\t<tr><td>5D8969F88C773979</td><td>electric_bike</td><td>2021-01-09 14:24:07</td><td>2021-01-09 15:17:54</td><td><span style=white-space:pre-wrap>California Ave &amp; Cortez St  </span></td><td><span style=white-space:pre-wrap>17660       </span></td><td><span style=white-space:pre-wrap>                               </span></td><td><span style=white-space:pre-wrap>            </span></td><td>41.90041</td><td>-87.69676</td><td>41.94000</td><td>-87.71000</td><td>casual</td></tr>\n",
              "\t<tr><td>09275CC10F854E9E</td><td>electric_bike</td><td>2021-01-04 05:05:04</td><td>2021-01-04 05:10:39</td><td><span style=white-space:pre-wrap>California Ave &amp; Cortez St  </span></td><td><span style=white-space:pre-wrap>17660       </span></td><td><span style=white-space:pre-wrap>                               </span></td><td><span style=white-space:pre-wrap>            </span></td><td>41.90039</td><td>-87.69676</td><td>41.90000</td><td>-87.71000</td><td>member</td></tr>\n",
              "\t<tr><td>DF7A32A217AEFB14</td><td>electric_bike</td><td>2021-01-14 15:07:00</td><td>2021-01-14 15:13:40</td><td><span style=white-space:pre-wrap>California Ave &amp; Cortez St  </span></td><td><span style=white-space:pre-wrap>17660       </span></td><td><span style=white-space:pre-wrap>                               </span></td><td><span style=white-space:pre-wrap>            </span></td><td>41.90039</td><td>-87.69673</td><td>41.91000</td><td>-87.70000</td><td>member</td></tr>\n",
              "\t<tr><td>C2EFC62379EB716C</td><td>electric_bike</td><td>2021-01-09 09:57:55</td><td>2021-01-09 10:00:26</td><td><span style=white-space:pre-wrap>California Ave &amp; Cortez St  </span></td><td><span style=white-space:pre-wrap>17660       </span></td><td><span style=white-space:pre-wrap>                               </span></td><td><span style=white-space:pre-wrap>            </span></td><td>41.90031</td><td>-87.69680</td><td>41.90000</td><td>-87.70000</td><td>member</td></tr>\n",
              "\t<tr><td>B9F73448DFBE0D45</td><td>classic_bike </td><td>2021-01-24 19:15:38</td><td>2021-01-24 19:22:51</td><td><span style=white-space:pre-wrap>California Ave &amp; Cortez St  </span></td><td><span style=white-space:pre-wrap>17660       </span></td><td><span style=white-space:pre-wrap>Wood St &amp; Augusta Blvd         </span></td><td><span style=white-space:pre-wrap>657         </span></td><td>41.90036</td><td>-87.69670</td><td>41.89918</td><td>-87.67220</td><td>member</td></tr>\n",
              "\t<tr><td>457C7F4B5D3DA135</td><td>electric_bike</td><td>2021-01-23 12:57:38</td><td>2021-01-23 13:02:10</td><td><span style=white-space:pre-wrap>California Ave &amp; Cortez St  </span></td><td><span style=white-space:pre-wrap>17660       </span></td><td><span style=white-space:pre-wrap>California Ave &amp; North Ave     </span></td><td><span style=white-space:pre-wrap>13258       </span></td><td>41.90041</td><td>-87.69673</td><td>41.91044</td><td>-87.69689</td><td>member</td></tr>\n",
              "\t<tr><td>57C750326F9FDABE</td><td>electric_bike</td><td>2021-01-09 15:28:04</td><td>2021-01-09 15:37:51</td><td><span style=white-space:pre-wrap>California Ave &amp; Cortez St  </span></td><td><span style=white-space:pre-wrap>17660       </span></td><td><span style=white-space:pre-wrap>Wood St &amp; Augusta Blvd         </span></td><td><span style=white-space:pre-wrap>657         </span></td><td>41.90037</td><td>-87.69669</td><td>41.89918</td><td>-87.67218</td><td>casual</td></tr>\n",
              "\t<tr><td>4D518C65E338D070</td><td>electric_bike</td><td>2021-01-09 15:28:57</td><td>2021-01-09 15:37:54</td><td><span style=white-space:pre-wrap>California Ave &amp; Cortez St  </span></td><td><span style=white-space:pre-wrap>17660       </span></td><td><span style=white-space:pre-wrap>Wood St &amp; Augusta Blvd         </span></td><td><span style=white-space:pre-wrap>657         </span></td><td>41.90038</td><td>-87.69672</td><td>41.89915</td><td>-87.67218</td><td>casual</td></tr>\n",
              "\t<tr><td>9D08A3AFF410474D</td><td>classic_bike </td><td>2021-01-24 15:56:59</td><td>2021-01-24 16:07:08</td><td><span style=white-space:pre-wrap>California Ave &amp; Cortez St  </span></td><td><span style=white-space:pre-wrap>17660       </span></td><td><span style=white-space:pre-wrap>Wood St &amp; Augusta Blvd         </span></td><td><span style=white-space:pre-wrap>657         </span></td><td>41.90036</td><td>-87.69670</td><td>41.89918</td><td>-87.67220</td><td>casual</td></tr>\n",
              "\t<tr><td>49FCE1F8598F12C6</td><td>electric_bike</td><td>2021-01-22 15:15:28</td><td>2021-01-22 15:36:01</td><td><span style=white-space:pre-wrap>California Ave &amp; Cortez St  </span></td><td><span style=white-space:pre-wrap>17660       </span></td><td><span style=white-space:pre-wrap>Wells St &amp; Elm St              </span></td><td>KA1504000135</td><td>41.90037</td><td>-87.69679</td><td>41.90327</td><td>-87.63446</td><td>member</td></tr>\n",
              "\t<tr><td>0FEED5C2C8749A1C</td><td>classic_bike </td><td>2021-01-05 10:33:12</td><td>2021-01-05 10:39:12</td><td><span style=white-space:pre-wrap>California Ave &amp; Cortez St  </span></td><td><span style=white-space:pre-wrap>17660       </span></td><td>Sacramento Blvd &amp; Franklin Blvd</td><td>KA1504000113</td><td>41.90036</td><td>-87.69670</td><td>41.89047</td><td>-87.70261</td><td>member</td></tr>\n",
              "\t<tr><td>E276FD43BDED6420</td><td>classic_bike </td><td>2021-01-30 11:59:16</td><td>2021-01-30 12:03:44</td><td><span style=white-space:pre-wrap>California Ave &amp; Cortez St  </span></td><td><span style=white-space:pre-wrap>17660       </span></td><td><span style=white-space:pre-wrap>Western Ave &amp; Walton St        </span></td><td>KA1504000103</td><td>41.90036</td><td>-87.69670</td><td>41.89842</td><td>-87.68660</td><td>member</td></tr>\n",
              "\t<tr><td>88BFCF66C2D585EC</td><td>electric_bike</td><td>2021-01-27 07:27:09</td><td>2021-01-27 07:45:32</td><td><span style=white-space:pre-wrap>California Ave &amp; Cortez St  </span></td><td><span style=white-space:pre-wrap>17660       </span></td><td><span style=white-space:pre-wrap>Damen Ave &amp; Clybourn Ave       </span></td><td><span style=white-space:pre-wrap>13271       </span></td><td>41.90031</td><td>-87.69679</td><td>41.93184</td><td>-87.67781</td><td>member</td></tr>\n",
              "\t<tr><td>8BD6F6510F5C8BD2</td><td>electric_bike</td><td>2021-01-15 08:54:41</td><td>2021-01-15 09:11:46</td><td><span style=white-space:pre-wrap>California Ave &amp; Cortez St  </span></td><td><span style=white-space:pre-wrap>17660       </span></td><td><span style=white-space:pre-wrap>Damen Ave &amp; Clybourn Ave       </span></td><td><span style=white-space:pre-wrap>13271       </span></td><td>41.90036</td><td>-87.69663</td><td>41.93192</td><td>-87.67786</td><td>member</td></tr>\n",
              "\t<tr><td>84F11CC620F83254</td><td>electric_bike</td><td>2021-01-10 08:05:47</td><td>2021-01-10 08:13:24</td><td><span style=white-space:pre-wrap>California Ave &amp; Cortez St  </span></td><td><span style=white-space:pre-wrap>17660       </span></td><td><span style=white-space:pre-wrap>Leavitt St &amp; North Ave         </span></td><td>TA1308000005</td><td>41.90040</td><td>-87.69671</td><td>41.91012</td><td>-87.68240</td><td>casual</td></tr>\n",
              "\t<tr><td>C84E5DD4D74F4FC0</td><td>electric_bike</td><td>2021-01-18 13:30:07</td><td>2021-01-18 13:37:19</td><td><span style=white-space:pre-wrap>California Ave &amp; Cortez St  </span></td><td><span style=white-space:pre-wrap>17660       </span></td><td><span style=white-space:pre-wrap>Leavitt St &amp; North Ave         </span></td><td>TA1308000005</td><td>41.90041</td><td>-87.69671</td><td>41.91015</td><td>-87.68246</td><td>casual</td></tr>\n",
              "\t<tr><td>00AEF8EE4622147F</td><td>electric_bike</td><td>2021-01-07 09:45:00</td><td>2021-01-07 09:52:30</td><td><span style=white-space:pre-wrap>California Ave &amp; Cortez St  </span></td><td><span style=white-space:pre-wrap>17660       </span></td><td><span style=white-space:pre-wrap>Leavitt St &amp; North Ave         </span></td><td>TA1308000005</td><td>41.90041</td><td>-87.69685</td><td>41.91013</td><td>-87.68244</td><td>casual</td></tr>\n",
              "\t<tr><td>55DAB9E709B61EA5</td><td>classic_bike </td><td>2021-01-11 11:20:38</td><td>2021-01-11 11:29:33</td><td><span style=white-space:pre-wrap>California Ave &amp; Cortez St  </span></td><td><span style=white-space:pre-wrap>17660       </span></td><td><span style=white-space:pre-wrap>Leavitt St &amp; North Ave         </span></td><td>TA1308000005</td><td>41.90036</td><td>-87.69670</td><td>41.91051</td><td>-87.68239</td><td>casual</td></tr>\n",
              "\t<tr><td>3E41D6E4EFE87DD9</td><td>classic_bike </td><td>2021-01-22 21:54:15</td><td>2021-01-22 22:04:27</td><td><span style=white-space:pre-wrap>California Ave &amp; Cortez St  </span></td><td><span style=white-space:pre-wrap>17660       </span></td><td><span style=white-space:pre-wrap>Honore St &amp; Division St        </span></td><td>TA1305000034</td><td>41.90036</td><td>-87.69670</td><td>41.90312</td><td>-87.67394</td><td>casual</td></tr>\n",
              "\t<tr><td>FCE0D29EB2DF84DA</td><td>electric_bike</td><td>2021-01-16 01:05:07</td><td>2021-01-16 01:19:43</td><td><span style=white-space:pre-wrap>California Ave &amp; Cortez St  </span></td><td><span style=white-space:pre-wrap>17660       </span></td><td><span style=white-space:pre-wrap>Ogden Ave &amp; Chicago Ave        </span></td><td>TA1305000020</td><td>41.90031</td><td>-87.69683</td><td>41.89636</td><td>-87.65421</td><td>casual</td></tr>\n",
              "\t<tr><td>77E53236C1F0EA3F</td><td>classic_bike </td><td>2021-01-28 20:35:56</td><td>2021-01-28 21:06:32</td><td>Halsted St &amp; North Branch St</td><td>KA1504000117</td><td><span style=white-space:pre-wrap>Southport Ave &amp; Clark St       </span></td><td>TA1308000047</td><td>41.89937</td><td>-87.64848</td><td>41.95708</td><td>-87.66420</td><td>member</td></tr>\n",
              "\t<tr><td>72335684BF7A0943</td><td>electric_bike</td><td>2021-01-09 00:35:55</td><td>2021-01-09 00:43:55</td><td>Halsted St &amp; North Branch St</td><td>KA1504000117</td><td><span style=white-space:pre-wrap>Bissell St &amp; Armitage Ave      </span></td><td><span style=white-space:pre-wrap>13059       </span></td><td>41.89936</td><td>-87.64849</td><td>41.91799</td><td>-87.65250</td><td>member</td></tr>\n",
              "\t<tr><td>625DDA8DCCCCB3E2</td><td>classic_bike </td><td>2021-01-17 15:07:57</td><td>2021-01-17 15:20:54</td><td><span style=white-space:pre-wrap>Glenwood Ave &amp; Touhy Ave    </span></td><td><span style=white-space:pre-wrap>525         </span></td><td><span style=white-space:pre-wrap>Broadway &amp; Granville Ave       </span></td><td><span style=white-space:pre-wrap>15571       </span></td><td>42.01270</td><td>-87.66606</td><td>41.99478</td><td>-87.66028</td><td>member</td></tr>\n",
              "\t<tr><td>61C6977EA354684C</td><td>electric_bike</td><td>2021-01-25 15:39:54</td><td>2021-01-25 15:52:11</td><td>Halsted St &amp; North Branch St</td><td>KA1504000117</td><td><span style=white-space:pre-wrap>Clark St &amp; Lincoln Ave         </span></td><td><span style=white-space:pre-wrap>13179       </span></td><td>41.89933</td><td>-87.64847</td><td>41.91576</td><td>-87.63480</td><td>member</td></tr>\n",
              "\t<tr><td>07F1F6A27AB0436E</td><td>classic_bike </td><td>2021-01-11 15:32:41</td><td>2021-01-11 15:35:26</td><td><span style=white-space:pre-wrap>California Ave &amp; Cortez St  </span></td><td><span style=white-space:pre-wrap>17660       </span></td><td><span style=white-space:pre-wrap>California Ave &amp; Division St   </span></td><td><span style=white-space:pre-wrap>13256       </span></td><td>41.90036</td><td>-87.69670</td><td>41.90303</td><td>-87.69747</td><td>member</td></tr>\n",
              "\t<tr><td>⋮</td><td>⋮</td><td>⋮</td><td>⋮</td><td>⋮</td><td>⋮</td><td>⋮</td><td>⋮</td><td>⋮</td><td>⋮</td><td>⋮</td><td>⋮</td><td>⋮</td></tr>\n",
              "\t<tr><td>16F69B146347EFA9</td><td>classic_bike </td><td>2021-12-04 18:08:54</td><td>2021-12-04 18:18:11</td><td><span style=white-space:pre-wrap>Winthrop Ave &amp; Lawrence Ave   </span></td><td>TA1308000021</td><td><span style=white-space:pre-wrap>Damen Ave &amp; Sunnyside Ave  </span></td><td>TA1309000012</td><td>41.96881</td><td>-87.65766</td><td>41.96325</td><td>-87.67926</td><td>member</td></tr>\n",
              "\t<tr><td>A826EF8672C13219</td><td>classic_bike </td><td>2021-12-04 08:55:37</td><td>2021-12-04 09:03:11</td><td><span style=white-space:pre-wrap>Clark St &amp; Schiller St        </span></td><td>TA1309000024</td><td><span style=white-space:pre-wrap>Lincoln Park Conservatory  </span></td><td><span style=white-space:pre-wrap>LP-         </span></td><td>41.90799</td><td>-87.63150</td><td>41.92393</td><td>-87.63582</td><td>member</td></tr>\n",
              "\t<tr><td>65CF5A2AE0315E42</td><td>classic_bike </td><td>2021-12-27 17:35:25</td><td>2021-12-27 17:58:14</td><td><span style=white-space:pre-wrap>Sheridan Rd &amp; Montrose Ave    </span></td><td>TA1307000107</td><td><span style=white-space:pre-wrap>Lincoln Park Conservatory  </span></td><td><span style=white-space:pre-wrap>LP-         </span></td><td>41.96167</td><td>-87.65464</td><td>41.92393</td><td>-87.63582</td><td>member</td></tr>\n",
              "\t<tr><td>0895B9FF3614A57C</td><td><span style=white-space:pre-wrap>docked_bike  </span></td><td>2021-12-09 21:59:12</td><td>2021-12-09 22:09:51</td><td><span style=white-space:pre-wrap>Wabash Ave &amp; 16th St          </span></td><td><span style=white-space:pre-wrap>SL-012      </span></td><td><span style=white-space:pre-wrap>State St &amp; Harrison St     </span></td><td><span style=white-space:pre-wrap>SL-007      </span></td><td>41.86038</td><td>-87.62581</td><td>41.87405</td><td>-87.62772</td><td>casual</td></tr>\n",
              "\t<tr><td>9108B70FA744A74A</td><td>electric_bike</td><td>2021-12-16 23:32:51</td><td>2021-12-16 23:39:11</td><td><span style=white-space:pre-wrap>Peoria St &amp; Jackson Blvd      </span></td><td><span style=white-space:pre-wrap>13158       </span></td><td><span style=white-space:pre-wrap>Racine Ave &amp; 15th St       </span></td><td><span style=white-space:pre-wrap>13304       </span></td><td>41.87762</td><td>-87.64935</td><td>41.86127</td><td>-87.65663</td><td>member</td></tr>\n",
              "\t<tr><td>FBF9CD2D3DD2BE5B</td><td>electric_bike</td><td>2021-12-01 22:20:38</td><td>2021-12-01 22:25:59</td><td><span style=white-space:pre-wrap>Peoria St &amp; Jackson Blvd      </span></td><td><span style=white-space:pre-wrap>13158       </span></td><td><span style=white-space:pre-wrap>Racine Ave &amp; 15th St       </span></td><td><span style=white-space:pre-wrap>13304       </span></td><td>41.87754</td><td>-87.64949</td><td>41.86125</td><td>-87.65664</td><td>member</td></tr>\n",
              "\t<tr><td>16732303CA60B23B</td><td>electric_bike</td><td>2021-12-11 10:06:17</td><td>2021-12-11 10:06:34</td><td><span style=white-space:pre-wrap>Damen Ave &amp; Sunnyside Ave     </span></td><td>TA1309000012</td><td><span style=white-space:pre-wrap>Damen Ave &amp; Sunnyside Ave  </span></td><td>TA1309000012</td><td>41.96329</td><td>-87.67927</td><td>41.96325</td><td>-87.67926</td><td>casual</td></tr>\n",
              "\t<tr><td>431890135BCDFFCD</td><td>classic_bike </td><td>2021-12-14 17:49:16</td><td>2021-12-14 18:02:43</td><td><span style=white-space:pre-wrap>Broadway &amp; Cornelia Ave       </span></td><td><span style=white-space:pre-wrap>13278       </span></td><td><span style=white-space:pre-wrap>Lincoln Park Conservatory  </span></td><td><span style=white-space:pre-wrap>LP-         </span></td><td>41.94553</td><td>-87.64644</td><td>41.92393</td><td>-87.63582</td><td>member</td></tr>\n",
              "\t<tr><td>22DE9719A8E04A77</td><td>classic_bike </td><td>2021-12-20 18:06:49</td><td>2021-12-20 18:23:26</td><td><span style=white-space:pre-wrap>Wells St &amp; Hubbard St         </span></td><td>TA1307000151</td><td><span style=white-space:pre-wrap>State St &amp; Harrison St     </span></td><td><span style=white-space:pre-wrap>SL-007      </span></td><td>41.88991</td><td>-87.63427</td><td>41.87405</td><td>-87.62772</td><td>casual</td></tr>\n",
              "\t<tr><td>0D1E9F2B92566BA1</td><td>electric_bike</td><td>2021-12-15 12:09:17</td><td>2021-12-15 12:24:54</td><td><span style=white-space:pre-wrap>Wells St &amp; Hubbard St         </span></td><td>TA1307000151</td><td><span style=white-space:pre-wrap>Racine Ave &amp; 15th St       </span></td><td><span style=white-space:pre-wrap>13304       </span></td><td>41.88998</td><td>-87.63430</td><td>41.86127</td><td>-87.65663</td><td>member</td></tr>\n",
              "\t<tr><td>7F774EDC64D82CBD</td><td>classic_bike </td><td>2021-12-03 01:50:23</td><td>2021-12-03 02:06:14</td><td><span style=white-space:pre-wrap>LaSalle Dr &amp; Huron St         </span></td><td>KP1705001026</td><td><span style=white-space:pre-wrap>Lincoln Park Conservatory  </span></td><td><span style=white-space:pre-wrap>LP-         </span></td><td>41.89488</td><td>-87.63233</td><td>41.92393</td><td>-87.63582</td><td>member</td></tr>\n",
              "\t<tr><td>A8292DF24FBDC31F</td><td>classic_bike </td><td>2021-12-04 09:02:17</td><td>2021-12-04 09:09:46</td><td><span style=white-space:pre-wrap>Clark St &amp; Schiller St        </span></td><td>TA1309000024</td><td><span style=white-space:pre-wrap>Lincoln Park Conservatory  </span></td><td><span style=white-space:pre-wrap>LP-         </span></td><td>41.90799</td><td>-87.63150</td><td>41.92393</td><td>-87.63582</td><td>member</td></tr>\n",
              "\t<tr><td>330C8D21AB310516</td><td>electric_bike</td><td>2021-12-13 11:19:46</td><td>2021-12-13 11:26:31</td><td><span style=white-space:pre-wrap>Clark St &amp; Schiller St        </span></td><td>TA1309000024</td><td><span style=white-space:pre-wrap>Lincoln Park Conservatory  </span></td><td><span style=white-space:pre-wrap>LP-         </span></td><td>41.90792</td><td>-87.63162</td><td>41.92393</td><td>-87.63582</td><td>casual</td></tr>\n",
              "\t<tr><td>9620EBD63FC1C2EF</td><td>electric_bike</td><td>2021-12-18 16:37:11</td><td>2021-12-18 16:59:14</td><td><span style=white-space:pre-wrap>Milwaukee Ave &amp; Grand Ave     </span></td><td><span style=white-space:pre-wrap>13033       </span></td><td><span style=white-space:pre-wrap>State St &amp; Harrison St     </span></td><td><span style=white-space:pre-wrap>SL-007      </span></td><td>41.89160</td><td>-87.64823</td><td>41.87405</td><td>-87.62772</td><td>casual</td></tr>\n",
              "\t<tr><td>B6404BB2035684DF</td><td>electric_bike</td><td>2021-12-04 13:31:42</td><td>2021-12-04 13:38:19</td><td><span style=white-space:pre-wrap>Ashland Ave &amp; 13th St         </span></td><td><span style=white-space:pre-wrap>13354       </span></td><td><span style=white-space:pre-wrap>Racine Ave &amp; 15th St       </span></td><td><span style=white-space:pre-wrap>13304       </span></td><td>41.86526</td><td>-87.66654</td><td>41.86127</td><td>-87.65664</td><td>member</td></tr>\n",
              "\t<tr><td>968D60ECAD55BDBC</td><td>classic_bike </td><td>2021-12-06 12:35:13</td><td>2021-12-06 12:43:48</td><td><span style=white-space:pre-wrap>Ashland Ave &amp; 13th St         </span></td><td><span style=white-space:pre-wrap>13354       </span></td><td><span style=white-space:pre-wrap>Racine Ave &amp; 15th St       </span></td><td><span style=white-space:pre-wrap>13304       </span></td><td>41.86523</td><td>-87.66651</td><td>41.86127</td><td>-87.65663</td><td>member</td></tr>\n",
              "\t<tr><td>D01B0992F10BB9FD</td><td>classic_bike </td><td>2021-12-31 15:46:26</td><td>2021-12-31 15:53:34</td><td><span style=white-space:pre-wrap>Michigan Ave &amp; 14th St        </span></td><td>TA1307000124</td><td><span style=white-space:pre-wrap>State St &amp; Harrison St     </span></td><td><span style=white-space:pre-wrap>SL-007      </span></td><td>41.86406</td><td>-87.62373</td><td>41.87405</td><td>-87.62772</td><td>member</td></tr>\n",
              "\t<tr><td>9ADBA4AFFF567E2E</td><td>classic_bike </td><td>2021-12-01 06:14:26</td><td>2021-12-01 06:34:27</td><td><span style=white-space:pre-wrap>Ashland Ave &amp; 13th St         </span></td><td><span style=white-space:pre-wrap>13354       </span></td><td><span style=white-space:pre-wrap>Racine Ave &amp; 15th St       </span></td><td><span style=white-space:pre-wrap>13304       </span></td><td>41.86523</td><td>-87.66651</td><td>41.86127</td><td>-87.65663</td><td>member</td></tr>\n",
              "\t<tr><td>C9BEFF28FC28AB16</td><td>electric_bike</td><td>2021-12-01 12:21:04</td><td>2021-12-01 12:37:32</td><td><span style=white-space:pre-wrap>Wells St &amp; 19th St            </span></td><td><span style=white-space:pre-wrap>SL-006      </span></td><td><span style=white-space:pre-wrap>State St &amp; Harrison St     </span></td><td><span style=white-space:pre-wrap>SL-007      </span></td><td>41.85678</td><td>-87.63376</td><td>41.87406</td><td>-87.62761</td><td>casual</td></tr>\n",
              "\t<tr><td>9CB69429BEC6E514</td><td>classic_bike </td><td>2021-12-14 15:45:14</td><td>2021-12-14 15:59:42</td><td><span style=white-space:pre-wrap>Wells St &amp; 19th St            </span></td><td><span style=white-space:pre-wrap>SL-006      </span></td><td><span style=white-space:pre-wrap>State St &amp; Harrison St     </span></td><td><span style=white-space:pre-wrap>SL-007      </span></td><td>41.85680</td><td>-87.63388</td><td>41.87405</td><td>-87.62772</td><td>member</td></tr>\n",
              "\t<tr><td>8AC98A4909917CFF</td><td>electric_bike</td><td>2021-12-21 16:07:11</td><td>2021-12-21 16:10:13</td><td><span style=white-space:pre-wrap>Western Ave &amp; Leland Ave      </span></td><td>TA1307000140</td><td><span style=white-space:pre-wrap>Damen Ave &amp; Sunnyside Ave  </span></td><td>TA1309000012</td><td>41.96645</td><td>-87.68869</td><td>41.96325</td><td>-87.67926</td><td>member</td></tr>\n",
              "\t<tr><td>20C5F174BCE0F327</td><td>classic_bike </td><td>2021-12-31 04:43:38</td><td>2021-12-31 05:11:37</td><td><span style=white-space:pre-wrap>Wells St &amp; 19th St            </span></td><td><span style=white-space:pre-wrap>SL-006      </span></td><td><span style=white-space:pre-wrap>State St &amp; Harrison St     </span></td><td><span style=white-space:pre-wrap>SL-007      </span></td><td>41.85680</td><td>-87.63388</td><td>41.87405</td><td>-87.62772</td><td>casual</td></tr>\n",
              "\t<tr><td>F49BF664C66FA934</td><td>electric_bike</td><td>2021-12-09 20:50:41</td><td>2021-12-09 21:09:23</td><td><span style=white-space:pre-wrap>Ashland Ave &amp; Division St     </span></td><td><span style=white-space:pre-wrap>13061       </span></td><td><span style=white-space:pre-wrap>Racine Ave &amp; 15th St       </span></td><td><span style=white-space:pre-wrap>13304       </span></td><td>41.90360</td><td>-87.66795</td><td>41.86127</td><td>-87.65663</td><td>member</td></tr>\n",
              "\t<tr><td>7E21820E8C171AF8</td><td>electric_bike</td><td>2021-12-03 19:36:08</td><td>2021-12-03 19:47:26</td><td><span style=white-space:pre-wrap>Michigan Ave &amp; 14th St        </span></td><td>TA1307000124</td><td><span style=white-space:pre-wrap>Racine Ave &amp; 15th St       </span></td><td><span style=white-space:pre-wrap>13304       </span></td><td>41.86437</td><td>-87.62362</td><td>41.86131</td><td>-87.65630</td><td>member</td></tr>\n",
              "\t<tr><td>E49DFCD750EFF0E7</td><td>classic_bike </td><td>2021-12-15 14:56:32</td><td>2021-12-15 15:10:16</td><td><span style=white-space:pre-wrap>Wells St &amp; 19th St            </span></td><td><span style=white-space:pre-wrap>SL-006      </span></td><td><span style=white-space:pre-wrap>State St &amp; Harrison St     </span></td><td><span style=white-space:pre-wrap>SL-007      </span></td><td>41.85680</td><td>-87.63388</td><td>41.87405</td><td>-87.62772</td><td>member</td></tr>\n",
              "\t<tr><td>D918694B7D795B04</td><td>electric_bike</td><td>2021-12-13 17:42:39</td><td>2021-12-13 18:15:50</td><td><span style=white-space:pre-wrap>Sheffield Ave &amp; Kingsbury St  </span></td><td><span style=white-space:pre-wrap>13154       </span></td><td>Oakley Ave &amp; Irving Park Rd</td><td>KA1504000158</td><td>41.91064</td><td>-87.65318</td><td>41.95434</td><td>-87.68608</td><td>member</td></tr>\n",
              "\t<tr><td>6F223111CFB46D19</td><td>electric_bike</td><td>2021-12-02 21:08:36</td><td>2021-12-02 21:12:54</td><td><span style=white-space:pre-wrap>State St &amp; Randolph St        </span></td><td>TA1305000029</td><td><span style=white-space:pre-wrap>State St &amp; Harrison St     </span></td><td><span style=white-space:pre-wrap>SL-007      </span></td><td>41.88478</td><td>-87.62803</td><td>41.87449</td><td>-87.62743</td><td>member</td></tr>\n",
              "\t<tr><td>3F159579A30FFE0D</td><td>electric_bike</td><td>2021-12-20 21:28:55</td><td>2021-12-20 22:03:57</td><td><span style=white-space:pre-wrap>Theater on the Lake           </span></td><td>TA1308000001</td><td><span style=white-space:pre-wrap>State St &amp; Harrison St     </span></td><td><span style=white-space:pre-wrap>SL-007      </span></td><td>41.92628</td><td>-87.63113</td><td>41.87405</td><td>-87.62772</td><td>casual</td></tr>\n",
              "\t<tr><td>049979697E40C124</td><td>classic_bike </td><td>2021-12-12 00:15:44</td><td>2021-12-12 00:19:03</td><td>Lincoln Ave &amp; Belle Plaine Ave</td><td>TA1309000026</td><td>Oakley Ave &amp; Irving Park Rd</td><td>KA1504000158</td><td>41.95600</td><td>-87.68016</td><td>41.95434</td><td>-87.68608</td><td>member</td></tr>\n",
              "\t<tr><td>0ABEA3232BDA9CF5</td><td>electric_bike</td><td>2021-12-19 23:49:31</td><td>2021-12-19 23:51:32</td><td>Lincoln Ave &amp; Belle Plaine Ave</td><td>TA1309000026</td><td><span style=white-space:pre-wrap>Oakley Ave &amp;               </span></td><td><span style=white-space:pre-wrap>            </span></td><td><span style=white-space:pre-wrap>      NA</span></td><td><span style=white-space:pre-wrap>       NA</span></td><td><span style=white-space:pre-wrap>      NA</span></td><td><span style=white-space:pre-wrap>       NA</span></td><td><span style=white-space:pre-wrap>      </span></td></tr>\n",
              "</tbody>\n",
              "</table>\n"
            ],
            "text/markdown": "\nA data.frame: 3412300 × 13\n\n| ride_id &lt;chr&gt; | rideable_type &lt;chr&gt; | started_at &lt;chr&gt; | ended_at &lt;chr&gt; | start_station_name &lt;chr&gt; | start_station_id &lt;chr&gt; | end_station_name &lt;chr&gt; | end_station_id &lt;chr&gt; | start_lat &lt;dbl&gt; | start_lng &lt;dbl&gt; | end_lat &lt;dbl&gt; | end_lng &lt;dbl&gt; | member_casual &lt;chr&gt; |\n|---|---|---|---|---|---|---|---|---|---|---|---|---|\n| E19E6F1B8D4C42ED | electric_bike | 2021-01-23 16:14:19 | 2021-01-23 16:24:44 | California Ave &amp; Cortez St   | 17660        | <!----> | <!----> | 41.90034 | -87.69674 | 41.89000 | -87.72000 | member |\n| DC88F20C2C55F27F | electric_bike | 2021-01-27 18:43:08 | 2021-01-27 18:47:12 | California Ave &amp; Cortez St   | 17660        | <!----> | <!----> | 41.90033 | -87.69671 | 41.90000 | -87.69000 | member |\n| EC45C94683FE3F27 | electric_bike | 2021-01-21 22:35:54 | 2021-01-21 22:37:14 | California Ave &amp; Cortez St   | 17660        | <!----> | <!----> | 41.90031 | -87.69664 | 41.90000 | -87.70000 | member |\n| 4FA453A75AE377DB | electric_bike | 2021-01-07 13:31:13 | 2021-01-07 13:42:55 | California Ave &amp; Cortez St   | 17660        | <!----> | <!----> | 41.90040 | -87.69666 | 41.92000 | -87.69000 | member |\n| BE5E8EB4E7263A0B | electric_bike | 2021-01-23 02:24:02 | 2021-01-23 02:24:45 | California Ave &amp; Cortez St   | 17660        | <!----> | <!----> | 41.90033 | -87.69670 | 41.90000 | -87.70000 | casual |\n| 5D8969F88C773979 | electric_bike | 2021-01-09 14:24:07 | 2021-01-09 15:17:54 | California Ave &amp; Cortez St   | 17660        | <!----> | <!----> | 41.90041 | -87.69676 | 41.94000 | -87.71000 | casual |\n| 09275CC10F854E9E | electric_bike | 2021-01-04 05:05:04 | 2021-01-04 05:10:39 | California Ave &amp; Cortez St   | 17660        | <!----> | <!----> | 41.90039 | -87.69676 | 41.90000 | -87.71000 | member |\n| DF7A32A217AEFB14 | electric_bike | 2021-01-14 15:07:00 | 2021-01-14 15:13:40 | California Ave &amp; Cortez St   | 17660        | <!----> | <!----> | 41.90039 | -87.69673 | 41.91000 | -87.70000 | member |\n| C2EFC62379EB716C | electric_bike | 2021-01-09 09:57:55 | 2021-01-09 10:00:26 | California Ave &amp; Cortez St   | 17660        | <!----> | <!----> | 41.90031 | -87.69680 | 41.90000 | -87.70000 | member |\n| B9F73448DFBE0D45 | classic_bike  | 2021-01-24 19:15:38 | 2021-01-24 19:22:51 | California Ave &amp; Cortez St   | 17660        | Wood St &amp; Augusta Blvd          | 657          | 41.90036 | -87.69670 | 41.89918 | -87.67220 | member |\n| 457C7F4B5D3DA135 | electric_bike | 2021-01-23 12:57:38 | 2021-01-23 13:02:10 | California Ave &amp; Cortez St   | 17660        | California Ave &amp; North Ave      | 13258        | 41.90041 | -87.69673 | 41.91044 | -87.69689 | member |\n| 57C750326F9FDABE | electric_bike | 2021-01-09 15:28:04 | 2021-01-09 15:37:51 | California Ave &amp; Cortez St   | 17660        | Wood St &amp; Augusta Blvd          | 657          | 41.90037 | -87.69669 | 41.89918 | -87.67218 | casual |\n| 4D518C65E338D070 | electric_bike | 2021-01-09 15:28:57 | 2021-01-09 15:37:54 | California Ave &amp; Cortez St   | 17660        | Wood St &amp; Augusta Blvd          | 657          | 41.90038 | -87.69672 | 41.89915 | -87.67218 | casual |\n| 9D08A3AFF410474D | classic_bike  | 2021-01-24 15:56:59 | 2021-01-24 16:07:08 | California Ave &amp; Cortez St   | 17660        | Wood St &amp; Augusta Blvd          | 657          | 41.90036 | -87.69670 | 41.89918 | -87.67220 | casual |\n| 49FCE1F8598F12C6 | electric_bike | 2021-01-22 15:15:28 | 2021-01-22 15:36:01 | California Ave &amp; Cortez St   | 17660        | Wells St &amp; Elm St               | KA1504000135 | 41.90037 | -87.69679 | 41.90327 | -87.63446 | member |\n| 0FEED5C2C8749A1C | classic_bike  | 2021-01-05 10:33:12 | 2021-01-05 10:39:12 | California Ave &amp; Cortez St   | 17660        | Sacramento Blvd &amp; Franklin Blvd | KA1504000113 | 41.90036 | -87.69670 | 41.89047 | -87.70261 | member |\n| E276FD43BDED6420 | classic_bike  | 2021-01-30 11:59:16 | 2021-01-30 12:03:44 | California Ave &amp; Cortez St   | 17660        | Western Ave &amp; Walton St         | KA1504000103 | 41.90036 | -87.69670 | 41.89842 | -87.68660 | member |\n| 88BFCF66C2D585EC | electric_bike | 2021-01-27 07:27:09 | 2021-01-27 07:45:32 | California Ave &amp; Cortez St   | 17660        | Damen Ave &amp; Clybourn Ave        | 13271        | 41.90031 | -87.69679 | 41.93184 | -87.67781 | member |\n| 8BD6F6510F5C8BD2 | electric_bike | 2021-01-15 08:54:41 | 2021-01-15 09:11:46 | California Ave &amp; Cortez St   | 17660        | Damen Ave &amp; Clybourn Ave        | 13271        | 41.90036 | -87.69663 | 41.93192 | -87.67786 | member |\n| 84F11CC620F83254 | electric_bike | 2021-01-10 08:05:47 | 2021-01-10 08:13:24 | California Ave &amp; Cortez St   | 17660        | Leavitt St &amp; North Ave          | TA1308000005 | 41.90040 | -87.69671 | 41.91012 | -87.68240 | casual |\n| C84E5DD4D74F4FC0 | electric_bike | 2021-01-18 13:30:07 | 2021-01-18 13:37:19 | California Ave &amp; Cortez St   | 17660        | Leavitt St &amp; North Ave          | TA1308000005 | 41.90041 | -87.69671 | 41.91015 | -87.68246 | casual |\n| 00AEF8EE4622147F | electric_bike | 2021-01-07 09:45:00 | 2021-01-07 09:52:30 | California Ave &amp; Cortez St   | 17660        | Leavitt St &amp; North Ave          | TA1308000005 | 41.90041 | -87.69685 | 41.91013 | -87.68244 | casual |\n| 55DAB9E709B61EA5 | classic_bike  | 2021-01-11 11:20:38 | 2021-01-11 11:29:33 | California Ave &amp; Cortez St   | 17660        | Leavitt St &amp; North Ave          | TA1308000005 | 41.90036 | -87.69670 | 41.91051 | -87.68239 | casual |\n| 3E41D6E4EFE87DD9 | classic_bike  | 2021-01-22 21:54:15 | 2021-01-22 22:04:27 | California Ave &amp; Cortez St   | 17660        | Honore St &amp; Division St         | TA1305000034 | 41.90036 | -87.69670 | 41.90312 | -87.67394 | casual |\n| FCE0D29EB2DF84DA | electric_bike | 2021-01-16 01:05:07 | 2021-01-16 01:19:43 | California Ave &amp; Cortez St   | 17660        | Ogden Ave &amp; Chicago Ave         | TA1305000020 | 41.90031 | -87.69683 | 41.89636 | -87.65421 | casual |\n| 77E53236C1F0EA3F | classic_bike  | 2021-01-28 20:35:56 | 2021-01-28 21:06:32 | Halsted St &amp; North Branch St | KA1504000117 | Southport Ave &amp; Clark St        | TA1308000047 | 41.89937 | -87.64848 | 41.95708 | -87.66420 | member |\n| 72335684BF7A0943 | electric_bike | 2021-01-09 00:35:55 | 2021-01-09 00:43:55 | Halsted St &amp; North Branch St | KA1504000117 | Bissell St &amp; Armitage Ave       | 13059        | 41.89936 | -87.64849 | 41.91799 | -87.65250 | member |\n| 625DDA8DCCCCB3E2 | classic_bike  | 2021-01-17 15:07:57 | 2021-01-17 15:20:54 | Glenwood Ave &amp; Touhy Ave     | 525          | Broadway &amp; Granville Ave        | 15571        | 42.01270 | -87.66606 | 41.99478 | -87.66028 | member |\n| 61C6977EA354684C | electric_bike | 2021-01-25 15:39:54 | 2021-01-25 15:52:11 | Halsted St &amp; North Branch St | KA1504000117 | Clark St &amp; Lincoln Ave          | 13179        | 41.89933 | -87.64847 | 41.91576 | -87.63480 | member |\n| 07F1F6A27AB0436E | classic_bike  | 2021-01-11 15:32:41 | 2021-01-11 15:35:26 | California Ave &amp; Cortez St   | 17660        | California Ave &amp; Division St    | 13256        | 41.90036 | -87.69670 | 41.90303 | -87.69747 | member |\n| ⋮ | ⋮ | ⋮ | ⋮ | ⋮ | ⋮ | ⋮ | ⋮ | ⋮ | ⋮ | ⋮ | ⋮ | ⋮ |\n| 16F69B146347EFA9 | classic_bike  | 2021-12-04 18:08:54 | 2021-12-04 18:18:11 | Winthrop Ave &amp; Lawrence Ave    | TA1308000021 | Damen Ave &amp; Sunnyside Ave   | TA1309000012 | 41.96881 | -87.65766 | 41.96325 | -87.67926 | member |\n| A826EF8672C13219 | classic_bike  | 2021-12-04 08:55:37 | 2021-12-04 09:03:11 | Clark St &amp; Schiller St         | TA1309000024 | Lincoln Park Conservatory   | LP-          | 41.90799 | -87.63150 | 41.92393 | -87.63582 | member |\n| 65CF5A2AE0315E42 | classic_bike  | 2021-12-27 17:35:25 | 2021-12-27 17:58:14 | Sheridan Rd &amp; Montrose Ave     | TA1307000107 | Lincoln Park Conservatory   | LP-          | 41.96167 | -87.65464 | 41.92393 | -87.63582 | member |\n| 0895B9FF3614A57C | docked_bike   | 2021-12-09 21:59:12 | 2021-12-09 22:09:51 | Wabash Ave &amp; 16th St           | SL-012       | State St &amp; Harrison St      | SL-007       | 41.86038 | -87.62581 | 41.87405 | -87.62772 | casual |\n| 9108B70FA744A74A | electric_bike | 2021-12-16 23:32:51 | 2021-12-16 23:39:11 | Peoria St &amp; Jackson Blvd       | 13158        | Racine Ave &amp; 15th St        | 13304        | 41.87762 | -87.64935 | 41.86127 | -87.65663 | member |\n| FBF9CD2D3DD2BE5B | electric_bike | 2021-12-01 22:20:38 | 2021-12-01 22:25:59 | Peoria St &amp; Jackson Blvd       | 13158        | Racine Ave &amp; 15th St        | 13304        | 41.87754 | -87.64949 | 41.86125 | -87.65664 | member |\n| 16732303CA60B23B | electric_bike | 2021-12-11 10:06:17 | 2021-12-11 10:06:34 | Damen Ave &amp; Sunnyside Ave      | TA1309000012 | Damen Ave &amp; Sunnyside Ave   | TA1309000012 | 41.96329 | -87.67927 | 41.96325 | -87.67926 | casual |\n| 431890135BCDFFCD | classic_bike  | 2021-12-14 17:49:16 | 2021-12-14 18:02:43 | Broadway &amp; Cornelia Ave        | 13278        | Lincoln Park Conservatory   | LP-          | 41.94553 | -87.64644 | 41.92393 | -87.63582 | member |\n| 22DE9719A8E04A77 | classic_bike  | 2021-12-20 18:06:49 | 2021-12-20 18:23:26 | Wells St &amp; Hubbard St          | TA1307000151 | State St &amp; Harrison St      | SL-007       | 41.88991 | -87.63427 | 41.87405 | -87.62772 | casual |\n| 0D1E9F2B92566BA1 | electric_bike | 2021-12-15 12:09:17 | 2021-12-15 12:24:54 | Wells St &amp; Hubbard St          | TA1307000151 | Racine Ave &amp; 15th St        | 13304        | 41.88998 | -87.63430 | 41.86127 | -87.65663 | member |\n| 7F774EDC64D82CBD | classic_bike  | 2021-12-03 01:50:23 | 2021-12-03 02:06:14 | LaSalle Dr &amp; Huron St          | KP1705001026 | Lincoln Park Conservatory   | LP-          | 41.89488 | -87.63233 | 41.92393 | -87.63582 | member |\n| A8292DF24FBDC31F | classic_bike  | 2021-12-04 09:02:17 | 2021-12-04 09:09:46 | Clark St &amp; Schiller St         | TA1309000024 | Lincoln Park Conservatory   | LP-          | 41.90799 | -87.63150 | 41.92393 | -87.63582 | member |\n| 330C8D21AB310516 | electric_bike | 2021-12-13 11:19:46 | 2021-12-13 11:26:31 | Clark St &amp; Schiller St         | TA1309000024 | Lincoln Park Conservatory   | LP-          | 41.90792 | -87.63162 | 41.92393 | -87.63582 | casual |\n| 9620EBD63FC1C2EF | electric_bike | 2021-12-18 16:37:11 | 2021-12-18 16:59:14 | Milwaukee Ave &amp; Grand Ave      | 13033        | State St &amp; Harrison St      | SL-007       | 41.89160 | -87.64823 | 41.87405 | -87.62772 | casual |\n| B6404BB2035684DF | electric_bike | 2021-12-04 13:31:42 | 2021-12-04 13:38:19 | Ashland Ave &amp; 13th St          | 13354        | Racine Ave &amp; 15th St        | 13304        | 41.86526 | -87.66654 | 41.86127 | -87.65664 | member |\n| 968D60ECAD55BDBC | classic_bike  | 2021-12-06 12:35:13 | 2021-12-06 12:43:48 | Ashland Ave &amp; 13th St          | 13354        | Racine Ave &amp; 15th St        | 13304        | 41.86523 | -87.66651 | 41.86127 | -87.65663 | member |\n| D01B0992F10BB9FD | classic_bike  | 2021-12-31 15:46:26 | 2021-12-31 15:53:34 | Michigan Ave &amp; 14th St         | TA1307000124 | State St &amp; Harrison St      | SL-007       | 41.86406 | -87.62373 | 41.87405 | -87.62772 | member |\n| 9ADBA4AFFF567E2E | classic_bike  | 2021-12-01 06:14:26 | 2021-12-01 06:34:27 | Ashland Ave &amp; 13th St          | 13354        | Racine Ave &amp; 15th St        | 13304        | 41.86523 | -87.66651 | 41.86127 | -87.65663 | member |\n| C9BEFF28FC28AB16 | electric_bike | 2021-12-01 12:21:04 | 2021-12-01 12:37:32 | Wells St &amp; 19th St             | SL-006       | State St &amp; Harrison St      | SL-007       | 41.85678 | -87.63376 | 41.87406 | -87.62761 | casual |\n| 9CB69429BEC6E514 | classic_bike  | 2021-12-14 15:45:14 | 2021-12-14 15:59:42 | Wells St &amp; 19th St             | SL-006       | State St &amp; Harrison St      | SL-007       | 41.85680 | -87.63388 | 41.87405 | -87.62772 | member |\n| 8AC98A4909917CFF | electric_bike | 2021-12-21 16:07:11 | 2021-12-21 16:10:13 | Western Ave &amp; Leland Ave       | TA1307000140 | Damen Ave &amp; Sunnyside Ave   | TA1309000012 | 41.96645 | -87.68869 | 41.96325 | -87.67926 | member |\n| 20C5F174BCE0F327 | classic_bike  | 2021-12-31 04:43:38 | 2021-12-31 05:11:37 | Wells St &amp; 19th St             | SL-006       | State St &amp; Harrison St      | SL-007       | 41.85680 | -87.63388 | 41.87405 | -87.62772 | casual |\n| F49BF664C66FA934 | electric_bike | 2021-12-09 20:50:41 | 2021-12-09 21:09:23 | Ashland Ave &amp; Division St      | 13061        | Racine Ave &amp; 15th St        | 13304        | 41.90360 | -87.66795 | 41.86127 | -87.65663 | member |\n| 7E21820E8C171AF8 | electric_bike | 2021-12-03 19:36:08 | 2021-12-03 19:47:26 | Michigan Ave &amp; 14th St         | TA1307000124 | Racine Ave &amp; 15th St        | 13304        | 41.86437 | -87.62362 | 41.86131 | -87.65630 | member |\n| E49DFCD750EFF0E7 | classic_bike  | 2021-12-15 14:56:32 | 2021-12-15 15:10:16 | Wells St &amp; 19th St             | SL-006       | State St &amp; Harrison St      | SL-007       | 41.85680 | -87.63388 | 41.87405 | -87.62772 | member |\n| D918694B7D795B04 | electric_bike | 2021-12-13 17:42:39 | 2021-12-13 18:15:50 | Sheffield Ave &amp; Kingsbury St   | 13154        | Oakley Ave &amp; Irving Park Rd | KA1504000158 | 41.91064 | -87.65318 | 41.95434 | -87.68608 | member |\n| 6F223111CFB46D19 | electric_bike | 2021-12-02 21:08:36 | 2021-12-02 21:12:54 | State St &amp; Randolph St         | TA1305000029 | State St &amp; Harrison St      | SL-007       | 41.88478 | -87.62803 | 41.87449 | -87.62743 | member |\n| 3F159579A30FFE0D | electric_bike | 2021-12-20 21:28:55 | 2021-12-20 22:03:57 | Theater on the Lake            | TA1308000001 | State St &amp; Harrison St      | SL-007       | 41.92628 | -87.63113 | 41.87405 | -87.62772 | casual |\n| 049979697E40C124 | classic_bike  | 2021-12-12 00:15:44 | 2021-12-12 00:19:03 | Lincoln Ave &amp; Belle Plaine Ave | TA1309000026 | Oakley Ave &amp; Irving Park Rd | KA1504000158 | 41.95600 | -87.68016 | 41.95434 | -87.68608 | member |\n| 0ABEA3232BDA9CF5 | electric_bike | 2021-12-19 23:49:31 | 2021-12-19 23:51:32 | Lincoln Ave &amp; Belle Plaine Ave | TA1309000026 | Oakley Ave &amp;                | <!----> |       NA |        NA |       NA |        NA | <!----> |\n\n",
            "text/latex": "A data.frame: 3412300 × 13\n\\begin{tabular}{lllllllllllll}\n ride\\_id & rideable\\_type & started\\_at & ended\\_at & start\\_station\\_name & start\\_station\\_id & end\\_station\\_name & end\\_station\\_id & start\\_lat & start\\_lng & end\\_lat & end\\_lng & member\\_casual\\\\\n <chr> & <chr> & <chr> & <chr> & <chr> & <chr> & <chr> & <chr> & <dbl> & <dbl> & <dbl> & <dbl> & <chr>\\\\\n\\hline\n\t E19E6F1B8D4C42ED & electric\\_bike & 2021-01-23 16:14:19 & 2021-01-23 16:24:44 & California Ave \\& Cortez St   & 17660        &                                 &              & 41.90034 & -87.69674 & 41.89000 & -87.72000 & member\\\\\n\t DC88F20C2C55F27F & electric\\_bike & 2021-01-27 18:43:08 & 2021-01-27 18:47:12 & California Ave \\& Cortez St   & 17660        &                                 &              & 41.90033 & -87.69671 & 41.90000 & -87.69000 & member\\\\\n\t EC45C94683FE3F27 & electric\\_bike & 2021-01-21 22:35:54 & 2021-01-21 22:37:14 & California Ave \\& Cortez St   & 17660        &                                 &              & 41.90031 & -87.69664 & 41.90000 & -87.70000 & member\\\\\n\t 4FA453A75AE377DB & electric\\_bike & 2021-01-07 13:31:13 & 2021-01-07 13:42:55 & California Ave \\& Cortez St   & 17660        &                                 &              & 41.90040 & -87.69666 & 41.92000 & -87.69000 & member\\\\\n\t BE5E8EB4E7263A0B & electric\\_bike & 2021-01-23 02:24:02 & 2021-01-23 02:24:45 & California Ave \\& Cortez St   & 17660        &                                 &              & 41.90033 & -87.69670 & 41.90000 & -87.70000 & casual\\\\\n\t 5D8969F88C773979 & electric\\_bike & 2021-01-09 14:24:07 & 2021-01-09 15:17:54 & California Ave \\& Cortez St   & 17660        &                                 &              & 41.90041 & -87.69676 & 41.94000 & -87.71000 & casual\\\\\n\t 09275CC10F854E9E & electric\\_bike & 2021-01-04 05:05:04 & 2021-01-04 05:10:39 & California Ave \\& Cortez St   & 17660        &                                 &              & 41.90039 & -87.69676 & 41.90000 & -87.71000 & member\\\\\n\t DF7A32A217AEFB14 & electric\\_bike & 2021-01-14 15:07:00 & 2021-01-14 15:13:40 & California Ave \\& Cortez St   & 17660        &                                 &              & 41.90039 & -87.69673 & 41.91000 & -87.70000 & member\\\\\n\t C2EFC62379EB716C & electric\\_bike & 2021-01-09 09:57:55 & 2021-01-09 10:00:26 & California Ave \\& Cortez St   & 17660        &                                 &              & 41.90031 & -87.69680 & 41.90000 & -87.70000 & member\\\\\n\t B9F73448DFBE0D45 & classic\\_bike  & 2021-01-24 19:15:38 & 2021-01-24 19:22:51 & California Ave \\& Cortez St   & 17660        & Wood St \\& Augusta Blvd          & 657          & 41.90036 & -87.69670 & 41.89918 & -87.67220 & member\\\\\n\t 457C7F4B5D3DA135 & electric\\_bike & 2021-01-23 12:57:38 & 2021-01-23 13:02:10 & California Ave \\& Cortez St   & 17660        & California Ave \\& North Ave      & 13258        & 41.90041 & -87.69673 & 41.91044 & -87.69689 & member\\\\\n\t 57C750326F9FDABE & electric\\_bike & 2021-01-09 15:28:04 & 2021-01-09 15:37:51 & California Ave \\& Cortez St   & 17660        & Wood St \\& Augusta Blvd          & 657          & 41.90037 & -87.69669 & 41.89918 & -87.67218 & casual\\\\\n\t 4D518C65E338D070 & electric\\_bike & 2021-01-09 15:28:57 & 2021-01-09 15:37:54 & California Ave \\& Cortez St   & 17660        & Wood St \\& Augusta Blvd          & 657          & 41.90038 & -87.69672 & 41.89915 & -87.67218 & casual\\\\\n\t 9D08A3AFF410474D & classic\\_bike  & 2021-01-24 15:56:59 & 2021-01-24 16:07:08 & California Ave \\& Cortez St   & 17660        & Wood St \\& Augusta Blvd          & 657          & 41.90036 & -87.69670 & 41.89918 & -87.67220 & casual\\\\\n\t 49FCE1F8598F12C6 & electric\\_bike & 2021-01-22 15:15:28 & 2021-01-22 15:36:01 & California Ave \\& Cortez St   & 17660        & Wells St \\& Elm St               & KA1504000135 & 41.90037 & -87.69679 & 41.90327 & -87.63446 & member\\\\\n\t 0FEED5C2C8749A1C & classic\\_bike  & 2021-01-05 10:33:12 & 2021-01-05 10:39:12 & California Ave \\& Cortez St   & 17660        & Sacramento Blvd \\& Franklin Blvd & KA1504000113 & 41.90036 & -87.69670 & 41.89047 & -87.70261 & member\\\\\n\t E276FD43BDED6420 & classic\\_bike  & 2021-01-30 11:59:16 & 2021-01-30 12:03:44 & California Ave \\& Cortez St   & 17660        & Western Ave \\& Walton St         & KA1504000103 & 41.90036 & -87.69670 & 41.89842 & -87.68660 & member\\\\\n\t 88BFCF66C2D585EC & electric\\_bike & 2021-01-27 07:27:09 & 2021-01-27 07:45:32 & California Ave \\& Cortez St   & 17660        & Damen Ave \\& Clybourn Ave        & 13271        & 41.90031 & -87.69679 & 41.93184 & -87.67781 & member\\\\\n\t 8BD6F6510F5C8BD2 & electric\\_bike & 2021-01-15 08:54:41 & 2021-01-15 09:11:46 & California Ave \\& Cortez St   & 17660        & Damen Ave \\& Clybourn Ave        & 13271        & 41.90036 & -87.69663 & 41.93192 & -87.67786 & member\\\\\n\t 84F11CC620F83254 & electric\\_bike & 2021-01-10 08:05:47 & 2021-01-10 08:13:24 & California Ave \\& Cortez St   & 17660        & Leavitt St \\& North Ave          & TA1308000005 & 41.90040 & -87.69671 & 41.91012 & -87.68240 & casual\\\\\n\t C84E5DD4D74F4FC0 & electric\\_bike & 2021-01-18 13:30:07 & 2021-01-18 13:37:19 & California Ave \\& Cortez St   & 17660        & Leavitt St \\& North Ave          & TA1308000005 & 41.90041 & -87.69671 & 41.91015 & -87.68246 & casual\\\\\n\t 00AEF8EE4622147F & electric\\_bike & 2021-01-07 09:45:00 & 2021-01-07 09:52:30 & California Ave \\& Cortez St   & 17660        & Leavitt St \\& North Ave          & TA1308000005 & 41.90041 & -87.69685 & 41.91013 & -87.68244 & casual\\\\\n\t 55DAB9E709B61EA5 & classic\\_bike  & 2021-01-11 11:20:38 & 2021-01-11 11:29:33 & California Ave \\& Cortez St   & 17660        & Leavitt St \\& North Ave          & TA1308000005 & 41.90036 & -87.69670 & 41.91051 & -87.68239 & casual\\\\\n\t 3E41D6E4EFE87DD9 & classic\\_bike  & 2021-01-22 21:54:15 & 2021-01-22 22:04:27 & California Ave \\& Cortez St   & 17660        & Honore St \\& Division St         & TA1305000034 & 41.90036 & -87.69670 & 41.90312 & -87.67394 & casual\\\\\n\t FCE0D29EB2DF84DA & electric\\_bike & 2021-01-16 01:05:07 & 2021-01-16 01:19:43 & California Ave \\& Cortez St   & 17660        & Ogden Ave \\& Chicago Ave         & TA1305000020 & 41.90031 & -87.69683 & 41.89636 & -87.65421 & casual\\\\\n\t 77E53236C1F0EA3F & classic\\_bike  & 2021-01-28 20:35:56 & 2021-01-28 21:06:32 & Halsted St \\& North Branch St & KA1504000117 & Southport Ave \\& Clark St        & TA1308000047 & 41.89937 & -87.64848 & 41.95708 & -87.66420 & member\\\\\n\t 72335684BF7A0943 & electric\\_bike & 2021-01-09 00:35:55 & 2021-01-09 00:43:55 & Halsted St \\& North Branch St & KA1504000117 & Bissell St \\& Armitage Ave       & 13059        & 41.89936 & -87.64849 & 41.91799 & -87.65250 & member\\\\\n\t 625DDA8DCCCCB3E2 & classic\\_bike  & 2021-01-17 15:07:57 & 2021-01-17 15:20:54 & Glenwood Ave \\& Touhy Ave     & 525          & Broadway \\& Granville Ave        & 15571        & 42.01270 & -87.66606 & 41.99478 & -87.66028 & member\\\\\n\t 61C6977EA354684C & electric\\_bike & 2021-01-25 15:39:54 & 2021-01-25 15:52:11 & Halsted St \\& North Branch St & KA1504000117 & Clark St \\& Lincoln Ave          & 13179        & 41.89933 & -87.64847 & 41.91576 & -87.63480 & member\\\\\n\t 07F1F6A27AB0436E & classic\\_bike  & 2021-01-11 15:32:41 & 2021-01-11 15:35:26 & California Ave \\& Cortez St   & 17660        & California Ave \\& Division St    & 13256        & 41.90036 & -87.69670 & 41.90303 & -87.69747 & member\\\\\n\t ⋮ & ⋮ & ⋮ & ⋮ & ⋮ & ⋮ & ⋮ & ⋮ & ⋮ & ⋮ & ⋮ & ⋮ & ⋮\\\\\n\t 16F69B146347EFA9 & classic\\_bike  & 2021-12-04 18:08:54 & 2021-12-04 18:18:11 & Winthrop Ave \\& Lawrence Ave    & TA1308000021 & Damen Ave \\& Sunnyside Ave   & TA1309000012 & 41.96881 & -87.65766 & 41.96325 & -87.67926 & member\\\\\n\t A826EF8672C13219 & classic\\_bike  & 2021-12-04 08:55:37 & 2021-12-04 09:03:11 & Clark St \\& Schiller St         & TA1309000024 & Lincoln Park Conservatory   & LP-          & 41.90799 & -87.63150 & 41.92393 & -87.63582 & member\\\\\n\t 65CF5A2AE0315E42 & classic\\_bike  & 2021-12-27 17:35:25 & 2021-12-27 17:58:14 & Sheridan Rd \\& Montrose Ave     & TA1307000107 & Lincoln Park Conservatory   & LP-          & 41.96167 & -87.65464 & 41.92393 & -87.63582 & member\\\\\n\t 0895B9FF3614A57C & docked\\_bike   & 2021-12-09 21:59:12 & 2021-12-09 22:09:51 & Wabash Ave \\& 16th St           & SL-012       & State St \\& Harrison St      & SL-007       & 41.86038 & -87.62581 & 41.87405 & -87.62772 & casual\\\\\n\t 9108B70FA744A74A & electric\\_bike & 2021-12-16 23:32:51 & 2021-12-16 23:39:11 & Peoria St \\& Jackson Blvd       & 13158        & Racine Ave \\& 15th St        & 13304        & 41.87762 & -87.64935 & 41.86127 & -87.65663 & member\\\\\n\t FBF9CD2D3DD2BE5B & electric\\_bike & 2021-12-01 22:20:38 & 2021-12-01 22:25:59 & Peoria St \\& Jackson Blvd       & 13158        & Racine Ave \\& 15th St        & 13304        & 41.87754 & -87.64949 & 41.86125 & -87.65664 & member\\\\\n\t 16732303CA60B23B & electric\\_bike & 2021-12-11 10:06:17 & 2021-12-11 10:06:34 & Damen Ave \\& Sunnyside Ave      & TA1309000012 & Damen Ave \\& Sunnyside Ave   & TA1309000012 & 41.96329 & -87.67927 & 41.96325 & -87.67926 & casual\\\\\n\t 431890135BCDFFCD & classic\\_bike  & 2021-12-14 17:49:16 & 2021-12-14 18:02:43 & Broadway \\& Cornelia Ave        & 13278        & Lincoln Park Conservatory   & LP-          & 41.94553 & -87.64644 & 41.92393 & -87.63582 & member\\\\\n\t 22DE9719A8E04A77 & classic\\_bike  & 2021-12-20 18:06:49 & 2021-12-20 18:23:26 & Wells St \\& Hubbard St          & TA1307000151 & State St \\& Harrison St      & SL-007       & 41.88991 & -87.63427 & 41.87405 & -87.62772 & casual\\\\\n\t 0D1E9F2B92566BA1 & electric\\_bike & 2021-12-15 12:09:17 & 2021-12-15 12:24:54 & Wells St \\& Hubbard St          & TA1307000151 & Racine Ave \\& 15th St        & 13304        & 41.88998 & -87.63430 & 41.86127 & -87.65663 & member\\\\\n\t 7F774EDC64D82CBD & classic\\_bike  & 2021-12-03 01:50:23 & 2021-12-03 02:06:14 & LaSalle Dr \\& Huron St          & KP1705001026 & Lincoln Park Conservatory   & LP-          & 41.89488 & -87.63233 & 41.92393 & -87.63582 & member\\\\\n\t A8292DF24FBDC31F & classic\\_bike  & 2021-12-04 09:02:17 & 2021-12-04 09:09:46 & Clark St \\& Schiller St         & TA1309000024 & Lincoln Park Conservatory   & LP-          & 41.90799 & -87.63150 & 41.92393 & -87.63582 & member\\\\\n\t 330C8D21AB310516 & electric\\_bike & 2021-12-13 11:19:46 & 2021-12-13 11:26:31 & Clark St \\& Schiller St         & TA1309000024 & Lincoln Park Conservatory   & LP-          & 41.90792 & -87.63162 & 41.92393 & -87.63582 & casual\\\\\n\t 9620EBD63FC1C2EF & electric\\_bike & 2021-12-18 16:37:11 & 2021-12-18 16:59:14 & Milwaukee Ave \\& Grand Ave      & 13033        & State St \\& Harrison St      & SL-007       & 41.89160 & -87.64823 & 41.87405 & -87.62772 & casual\\\\\n\t B6404BB2035684DF & electric\\_bike & 2021-12-04 13:31:42 & 2021-12-04 13:38:19 & Ashland Ave \\& 13th St          & 13354        & Racine Ave \\& 15th St        & 13304        & 41.86526 & -87.66654 & 41.86127 & -87.65664 & member\\\\\n\t 968D60ECAD55BDBC & classic\\_bike  & 2021-12-06 12:35:13 & 2021-12-06 12:43:48 & Ashland Ave \\& 13th St          & 13354        & Racine Ave \\& 15th St        & 13304        & 41.86523 & -87.66651 & 41.86127 & -87.65663 & member\\\\\n\t D01B0992F10BB9FD & classic\\_bike  & 2021-12-31 15:46:26 & 2021-12-31 15:53:34 & Michigan Ave \\& 14th St         & TA1307000124 & State St \\& Harrison St      & SL-007       & 41.86406 & -87.62373 & 41.87405 & -87.62772 & member\\\\\n\t 9ADBA4AFFF567E2E & classic\\_bike  & 2021-12-01 06:14:26 & 2021-12-01 06:34:27 & Ashland Ave \\& 13th St          & 13354        & Racine Ave \\& 15th St        & 13304        & 41.86523 & -87.66651 & 41.86127 & -87.65663 & member\\\\\n\t C9BEFF28FC28AB16 & electric\\_bike & 2021-12-01 12:21:04 & 2021-12-01 12:37:32 & Wells St \\& 19th St             & SL-006       & State St \\& Harrison St      & SL-007       & 41.85678 & -87.63376 & 41.87406 & -87.62761 & casual\\\\\n\t 9CB69429BEC6E514 & classic\\_bike  & 2021-12-14 15:45:14 & 2021-12-14 15:59:42 & Wells St \\& 19th St             & SL-006       & State St \\& Harrison St      & SL-007       & 41.85680 & -87.63388 & 41.87405 & -87.62772 & member\\\\\n\t 8AC98A4909917CFF & electric\\_bike & 2021-12-21 16:07:11 & 2021-12-21 16:10:13 & Western Ave \\& Leland Ave       & TA1307000140 & Damen Ave \\& Sunnyside Ave   & TA1309000012 & 41.96645 & -87.68869 & 41.96325 & -87.67926 & member\\\\\n\t 20C5F174BCE0F327 & classic\\_bike  & 2021-12-31 04:43:38 & 2021-12-31 05:11:37 & Wells St \\& 19th St             & SL-006       & State St \\& Harrison St      & SL-007       & 41.85680 & -87.63388 & 41.87405 & -87.62772 & casual\\\\\n\t F49BF664C66FA934 & electric\\_bike & 2021-12-09 20:50:41 & 2021-12-09 21:09:23 & Ashland Ave \\& Division St      & 13061        & Racine Ave \\& 15th St        & 13304        & 41.90360 & -87.66795 & 41.86127 & -87.65663 & member\\\\\n\t 7E21820E8C171AF8 & electric\\_bike & 2021-12-03 19:36:08 & 2021-12-03 19:47:26 & Michigan Ave \\& 14th St         & TA1307000124 & Racine Ave \\& 15th St        & 13304        & 41.86437 & -87.62362 & 41.86131 & -87.65630 & member\\\\\n\t E49DFCD750EFF0E7 & classic\\_bike  & 2021-12-15 14:56:32 & 2021-12-15 15:10:16 & Wells St \\& 19th St             & SL-006       & State St \\& Harrison St      & SL-007       & 41.85680 & -87.63388 & 41.87405 & -87.62772 & member\\\\\n\t D918694B7D795B04 & electric\\_bike & 2021-12-13 17:42:39 & 2021-12-13 18:15:50 & Sheffield Ave \\& Kingsbury St   & 13154        & Oakley Ave \\& Irving Park Rd & KA1504000158 & 41.91064 & -87.65318 & 41.95434 & -87.68608 & member\\\\\n\t 6F223111CFB46D19 & electric\\_bike & 2021-12-02 21:08:36 & 2021-12-02 21:12:54 & State St \\& Randolph St         & TA1305000029 & State St \\& Harrison St      & SL-007       & 41.88478 & -87.62803 & 41.87449 & -87.62743 & member\\\\\n\t 3F159579A30FFE0D & electric\\_bike & 2021-12-20 21:28:55 & 2021-12-20 22:03:57 & Theater on the Lake            & TA1308000001 & State St \\& Harrison St      & SL-007       & 41.92628 & -87.63113 & 41.87405 & -87.62772 & casual\\\\\n\t 049979697E40C124 & classic\\_bike  & 2021-12-12 00:15:44 & 2021-12-12 00:19:03 & Lincoln Ave \\& Belle Plaine Ave & TA1309000026 & Oakley Ave \\& Irving Park Rd & KA1504000158 & 41.95600 & -87.68016 & 41.95434 & -87.68608 & member\\\\\n\t 0ABEA3232BDA9CF5 & electric\\_bike & 2021-12-19 23:49:31 & 2021-12-19 23:51:32 & Lincoln Ave \\& Belle Plaine Ave & TA1309000026 & Oakley Ave \\&                &              &       NA &        NA &       NA &        NA &       \\\\\n\\end{tabular}\n"
          },
          "metadata": {}
        }
      ],
      "source": [
        "###Combine all csv files into one file\n",
        "trips_fill<- rbind(trip_jan,trip_feb,trip_mar,trip_apr,trip_may,trip_jun,trip_jul,trip_aug,trip_sep,trip_oct,trip_nov,trip_dec)\n",
        "View(trips_fill)"
      ]
    },
    {
      "cell_type": "markdown",
      "metadata": {
        "id": "KMGtB0I9Nkqw"
      },
      "source": [
        "##PHASE 3-PROCESS\n",
        "The Process step is often overlooked, but it is essential for ensuring that your data is in a format that is suitable for analysis.\n"
      ]
    },
    {
      "cell_type": "code",
      "execution_count": null,
      "metadata": {
        "colab": {
          "base_uri": "https://localhost:8080/",
          "height": 34
        },
        "id": "-sKmM7INNu8R",
        "outputId": "a1d7dade-9dee-43f3-d37f-812b158480ff"
      },
      "outputs": [
        {
          "output_type": "display_data",
          "data": {
            "text/html": [
              "<style>\n",
              ".list-inline {list-style: none; margin:0; padding: 0}\n",
              ".list-inline>li {display: inline-block}\n",
              ".list-inline>li:not(:last-child)::after {content: \"\\00b7\"; padding: 0 .5ex}\n",
              "</style>\n",
              "<ol class=list-inline><li>'ride_id'</li><li>'rideable_type'</li><li>'started_at'</li><li>'ended_at'</li><li>'start_station_name'</li><li>'start_station_id'</li><li>'end_station_name'</li><li>'end_station_id'</li><li>'start_lat'</li><li>'start_lng'</li><li>'end_lat'</li><li>'end_lng'</li><li>'member_casual'</li></ol>\n"
            ],
            "text/markdown": "1. 'ride_id'\n2. 'rideable_type'\n3. 'started_at'\n4. 'ended_at'\n5. 'start_station_name'\n6. 'start_station_id'\n7. 'end_station_name'\n8. 'end_station_id'\n9. 'start_lat'\n10. 'start_lng'\n11. 'end_lat'\n12. 'end_lng'\n13. 'member_casual'\n\n\n",
            "text/latex": "\\begin{enumerate*}\n\\item 'ride\\_id'\n\\item 'rideable\\_type'\n\\item 'started\\_at'\n\\item 'ended\\_at'\n\\item 'start\\_station\\_name'\n\\item 'start\\_station\\_id'\n\\item 'end\\_station\\_name'\n\\item 'end\\_station\\_id'\n\\item 'start\\_lat'\n\\item 'start\\_lng'\n\\item 'end\\_lat'\n\\item 'end\\_lng'\n\\item 'member\\_casual'\n\\end{enumerate*}\n",
            "text/plain": [
              " [1] \"ride_id\"            \"rideable_type\"      \"started_at\"        \n",
              " [4] \"ended_at\"           \"start_station_name\" \"start_station_id\"  \n",
              " [7] \"end_station_name\"   \"end_station_id\"     \"start_lat\"         \n",
              "[10] \"start_lng\"          \"end_lat\"            \"end_lng\"           \n",
              "[13] \"member_casual\"     "
            ]
          },
          "metadata": {}
        }
      ],
      "source": [
        "#Removing duplicate rows\n",
        "colnames(trips_fill)\n",
        "\n"
      ]
    },
    {
      "cell_type": "code",
      "execution_count": null,
      "metadata": {
        "colab": {
          "base_uri": "https://localhost:8080/",
          "height": 4114
        },
        "id": "S_QKUWPK_ImD",
        "outputId": "07d28bed-3454-469e-d97e-61c5792ea870"
      },
      "outputs": [
        {
          "output_type": "display_data",
          "data": {
            "text/plain": [
              "        ride_id          rideable_type started_at          ended_at           \n",
              "1       E19E6F1B8D4C42ED electric_bike 2021-01-23 16:14:19 2021-01-23 16:24:44\n",
              "2       DC88F20C2C55F27F electric_bike 2021-01-27 18:43:08 2021-01-27 18:47:12\n",
              "3       EC45C94683FE3F27 electric_bike 2021-01-21 22:35:54 2021-01-21 22:37:14\n",
              "4       4FA453A75AE377DB electric_bike 2021-01-07 13:31:13 2021-01-07 13:42:55\n",
              "5       BE5E8EB4E7263A0B electric_bike 2021-01-23 02:24:02 2021-01-23 02:24:45\n",
              "6       5D8969F88C773979 electric_bike 2021-01-09 14:24:07 2021-01-09 15:17:54\n",
              "7       09275CC10F854E9E electric_bike 2021-01-04 05:05:04 2021-01-04 05:10:39\n",
              "8       DF7A32A217AEFB14 electric_bike 2021-01-14 15:07:00 2021-01-14 15:13:40\n",
              "9       C2EFC62379EB716C electric_bike 2021-01-09 09:57:55 2021-01-09 10:00:26\n",
              "10      B9F73448DFBE0D45 classic_bike  2021-01-24 19:15:38 2021-01-24 19:22:51\n",
              "11      457C7F4B5D3DA135 electric_bike 2021-01-23 12:57:38 2021-01-23 13:02:10\n",
              "12      57C750326F9FDABE electric_bike 2021-01-09 15:28:04 2021-01-09 15:37:51\n",
              "13      4D518C65E338D070 electric_bike 2021-01-09 15:28:57 2021-01-09 15:37:54\n",
              "14      9D08A3AFF410474D classic_bike  2021-01-24 15:56:59 2021-01-24 16:07:08\n",
              "15      49FCE1F8598F12C6 electric_bike 2021-01-22 15:15:28 2021-01-22 15:36:01\n",
              "16      0FEED5C2C8749A1C classic_bike  2021-01-05 10:33:12 2021-01-05 10:39:12\n",
              "17      E276FD43BDED6420 classic_bike  2021-01-30 11:59:16 2021-01-30 12:03:44\n",
              "18      88BFCF66C2D585EC electric_bike 2021-01-27 07:27:09 2021-01-27 07:45:32\n",
              "19      8BD6F6510F5C8BD2 electric_bike 2021-01-15 08:54:41 2021-01-15 09:11:46\n",
              "20      84F11CC620F83254 electric_bike 2021-01-10 08:05:47 2021-01-10 08:13:24\n",
              "21      C84E5DD4D74F4FC0 electric_bike 2021-01-18 13:30:07 2021-01-18 13:37:19\n",
              "22      00AEF8EE4622147F electric_bike 2021-01-07 09:45:00 2021-01-07 09:52:30\n",
              "23      55DAB9E709B61EA5 classic_bike  2021-01-11 11:20:38 2021-01-11 11:29:33\n",
              "24      3E41D6E4EFE87DD9 classic_bike  2021-01-22 21:54:15 2021-01-22 22:04:27\n",
              "25      FCE0D29EB2DF84DA electric_bike 2021-01-16 01:05:07 2021-01-16 01:19:43\n",
              "26      77E53236C1F0EA3F classic_bike  2021-01-28 20:35:56 2021-01-28 21:06:32\n",
              "27      72335684BF7A0943 electric_bike 2021-01-09 00:35:55 2021-01-09 00:43:55\n",
              "28      625DDA8DCCCCB3E2 classic_bike  2021-01-17 15:07:57 2021-01-17 15:20:54\n",
              "29      61C6977EA354684C electric_bike 2021-01-25 15:39:54 2021-01-25 15:52:11\n",
              "30      07F1F6A27AB0436E classic_bike  2021-01-11 15:32:41 2021-01-11 15:35:26\n",
              "⋮       ⋮                ⋮             ⋮                   ⋮                  \n",
              "3412271 16F69B146347EFA9 classic_bike  2021-12-04 18:08:54 2021-12-04 18:18:11\n",
              "3412272 A826EF8672C13219 classic_bike  2021-12-04 08:55:37 2021-12-04 09:03:11\n",
              "3412273 65CF5A2AE0315E42 classic_bike  2021-12-27 17:35:25 2021-12-27 17:58:14\n",
              "3412274 0895B9FF3614A57C docked_bike   2021-12-09 21:59:12 2021-12-09 22:09:51\n",
              "3412275 9108B70FA744A74A electric_bike 2021-12-16 23:32:51 2021-12-16 23:39:11\n",
              "3412276 FBF9CD2D3DD2BE5B electric_bike 2021-12-01 22:20:38 2021-12-01 22:25:59\n",
              "3412277 16732303CA60B23B electric_bike 2021-12-11 10:06:17 2021-12-11 10:06:34\n",
              "3412278 431890135BCDFFCD classic_bike  2021-12-14 17:49:16 2021-12-14 18:02:43\n",
              "3412279 22DE9719A8E04A77 classic_bike  2021-12-20 18:06:49 2021-12-20 18:23:26\n",
              "3412280 0D1E9F2B92566BA1 electric_bike 2021-12-15 12:09:17 2021-12-15 12:24:54\n",
              "3412281 7F774EDC64D82CBD classic_bike  2021-12-03 01:50:23 2021-12-03 02:06:14\n",
              "3412282 A8292DF24FBDC31F classic_bike  2021-12-04 09:02:17 2021-12-04 09:09:46\n",
              "3412283 330C8D21AB310516 electric_bike 2021-12-13 11:19:46 2021-12-13 11:26:31\n",
              "3412284 9620EBD63FC1C2EF electric_bike 2021-12-18 16:37:11 2021-12-18 16:59:14\n",
              "3412285 B6404BB2035684DF electric_bike 2021-12-04 13:31:42 2021-12-04 13:38:19\n",
              "3412286 968D60ECAD55BDBC classic_bike  2021-12-06 12:35:13 2021-12-06 12:43:48\n",
              "3412287 D01B0992F10BB9FD classic_bike  2021-12-31 15:46:26 2021-12-31 15:53:34\n",
              "3412288 9ADBA4AFFF567E2E classic_bike  2021-12-01 06:14:26 2021-12-01 06:34:27\n",
              "3412289 C9BEFF28FC28AB16 electric_bike 2021-12-01 12:21:04 2021-12-01 12:37:32\n",
              "3412290 9CB69429BEC6E514 classic_bike  2021-12-14 15:45:14 2021-12-14 15:59:42\n",
              "3412291 8AC98A4909917CFF electric_bike 2021-12-21 16:07:11 2021-12-21 16:10:13\n",
              "3412292 20C5F174BCE0F327 classic_bike  2021-12-31 04:43:38 2021-12-31 05:11:37\n",
              "3412293 F49BF664C66FA934 electric_bike 2021-12-09 20:50:41 2021-12-09 21:09:23\n",
              "3412294 7E21820E8C171AF8 electric_bike 2021-12-03 19:36:08 2021-12-03 19:47:26\n",
              "3412295 E49DFCD750EFF0E7 classic_bike  2021-12-15 14:56:32 2021-12-15 15:10:16\n",
              "3412296 D918694B7D795B04 electric_bike 2021-12-13 17:42:39 2021-12-13 18:15:50\n",
              "3412297 6F223111CFB46D19 electric_bike 2021-12-02 21:08:36 2021-12-02 21:12:54\n",
              "3412298 3F159579A30FFE0D electric_bike 2021-12-20 21:28:55 2021-12-20 22:03:57\n",
              "3412299 049979697E40C124 classic_bike  2021-12-12 00:15:44 2021-12-12 00:19:03\n",
              "3412300 0ABEA3232BDA9CF5 electric_bike 2021-12-19 23:49:31 2021-12-19 23:51:32\n",
              "        start_station_name             start_station_id\n",
              "1       California Ave & Cortez St     17660           \n",
              "2       California Ave & Cortez St     17660           \n",
              "3       California Ave & Cortez St     17660           \n",
              "4       California Ave & Cortez St     17660           \n",
              "5       California Ave & Cortez St     17660           \n",
              "6       California Ave & Cortez St     17660           \n",
              "7       California Ave & Cortez St     17660           \n",
              "8       California Ave & Cortez St     17660           \n",
              "9       California Ave & Cortez St     17660           \n",
              "10      California Ave & Cortez St     17660           \n",
              "11      California Ave & Cortez St     17660           \n",
              "12      California Ave & Cortez St     17660           \n",
              "13      California Ave & Cortez St     17660           \n",
              "14      California Ave & Cortez St     17660           \n",
              "15      California Ave & Cortez St     17660           \n",
              "16      California Ave & Cortez St     17660           \n",
              "17      California Ave & Cortez St     17660           \n",
              "18      California Ave & Cortez St     17660           \n",
              "19      California Ave & Cortez St     17660           \n",
              "20      California Ave & Cortez St     17660           \n",
              "21      California Ave & Cortez St     17660           \n",
              "22      California Ave & Cortez St     17660           \n",
              "23      California Ave & Cortez St     17660           \n",
              "24      California Ave & Cortez St     17660           \n",
              "25      California Ave & Cortez St     17660           \n",
              "26      Halsted St & North Branch St   KA1504000117    \n",
              "27      Halsted St & North Branch St   KA1504000117    \n",
              "28      Glenwood Ave & Touhy Ave       525             \n",
              "29      Halsted St & North Branch St   KA1504000117    \n",
              "30      California Ave & Cortez St     17660           \n",
              "⋮       ⋮                              ⋮               \n",
              "3412271 Winthrop Ave & Lawrence Ave    TA1308000021    \n",
              "3412272 Clark St & Schiller St         TA1309000024    \n",
              "3412273 Sheridan Rd & Montrose Ave     TA1307000107    \n",
              "3412274 Wabash Ave & 16th St           SL-012          \n",
              "3412275 Peoria St & Jackson Blvd       13158           \n",
              "3412276 Peoria St & Jackson Blvd       13158           \n",
              "3412277 Damen Ave & Sunnyside Ave      TA1309000012    \n",
              "3412278 Broadway & Cornelia Ave        13278           \n",
              "3412279 Wells St & Hubbard St          TA1307000151    \n",
              "3412280 Wells St & Hubbard St          TA1307000151    \n",
              "3412281 LaSalle Dr & Huron St          KP1705001026    \n",
              "3412282 Clark St & Schiller St         TA1309000024    \n",
              "3412283 Clark St & Schiller St         TA1309000024    \n",
              "3412284 Milwaukee Ave & Grand Ave      13033           \n",
              "3412285 Ashland Ave & 13th St          13354           \n",
              "3412286 Ashland Ave & 13th St          13354           \n",
              "3412287 Michigan Ave & 14th St         TA1307000124    \n",
              "3412288 Ashland Ave & 13th St          13354           \n",
              "3412289 Wells St & 19th St             SL-006          \n",
              "3412290 Wells St & 19th St             SL-006          \n",
              "3412291 Western Ave & Leland Ave       TA1307000140    \n",
              "3412292 Wells St & 19th St             SL-006          \n",
              "3412293 Ashland Ave & Division St      13061           \n",
              "3412294 Michigan Ave & 14th St         TA1307000124    \n",
              "3412295 Wells St & 19th St             SL-006          \n",
              "3412296 Sheffield Ave & Kingsbury St   13154           \n",
              "3412297 State St & Randolph St         TA1305000029    \n",
              "3412298 Theater on the Lake            TA1308000001    \n",
              "3412299 Lincoln Ave & Belle Plaine Ave TA1309000026    \n",
              "3412300 Lincoln Ave & Belle Plaine Ave TA1309000026    \n",
              "        end_station_name                end_station_id start_lat start_lng\n",
              "1                                                      41.90034  -87.69674\n",
              "2                                                      41.90033  -87.69671\n",
              "3                                                      41.90031  -87.69664\n",
              "4                                                      41.90040  -87.69666\n",
              "5                                                      41.90033  -87.69670\n",
              "6                                                      41.90041  -87.69676\n",
              "7                                                      41.90039  -87.69676\n",
              "8                                                      41.90039  -87.69673\n",
              "9                                                      41.90031  -87.69680\n",
              "10      Wood St & Augusta Blvd          657            41.90036  -87.69670\n",
              "11      California Ave & North Ave      13258          41.90041  -87.69673\n",
              "12      Wood St & Augusta Blvd          657            41.90037  -87.69669\n",
              "13      Wood St & Augusta Blvd          657            41.90038  -87.69672\n",
              "14      Wood St & Augusta Blvd          657            41.90036  -87.69670\n",
              "15      Wells St & Elm St               KA1504000135   41.90037  -87.69679\n",
              "16      Sacramento Blvd & Franklin Blvd KA1504000113   41.90036  -87.69670\n",
              "17      Western Ave & Walton St         KA1504000103   41.90036  -87.69670\n",
              "18      Damen Ave & Clybourn Ave        13271          41.90031  -87.69679\n",
              "19      Damen Ave & Clybourn Ave        13271          41.90036  -87.69663\n",
              "20      Leavitt St & North Ave          TA1308000005   41.90040  -87.69671\n",
              "21      Leavitt St & North Ave          TA1308000005   41.90041  -87.69671\n",
              "22      Leavitt St & North Ave          TA1308000005   41.90041  -87.69685\n",
              "23      Leavitt St & North Ave          TA1308000005   41.90036  -87.69670\n",
              "24      Honore St & Division St         TA1305000034   41.90036  -87.69670\n",
              "25      Ogden Ave & Chicago Ave         TA1305000020   41.90031  -87.69683\n",
              "26      Southport Ave & Clark St        TA1308000047   41.89937  -87.64848\n",
              "27      Bissell St & Armitage Ave       13059          41.89936  -87.64849\n",
              "28      Broadway & Granville Ave        15571          42.01270  -87.66606\n",
              "29      Clark St & Lincoln Ave          13179          41.89933  -87.64847\n",
              "30      California Ave & Division St    13256          41.90036  -87.69670\n",
              "⋮       ⋮                               ⋮              ⋮         ⋮        \n",
              "3412271 Damen Ave & Sunnyside Ave       TA1309000012   41.96881  -87.65766\n",
              "3412272 Lincoln Park Conservatory       LP-            41.90799  -87.63150\n",
              "3412273 Lincoln Park Conservatory       LP-            41.96167  -87.65464\n",
              "3412274 State St & Harrison St          SL-007         41.86038  -87.62581\n",
              "3412275 Racine Ave & 15th St            13304          41.87762  -87.64935\n",
              "3412276 Racine Ave & 15th St            13304          41.87754  -87.64949\n",
              "3412277 Damen Ave & Sunnyside Ave       TA1309000012   41.96329  -87.67927\n",
              "3412278 Lincoln Park Conservatory       LP-            41.94553  -87.64644\n",
              "3412279 State St & Harrison St          SL-007         41.88991  -87.63427\n",
              "3412280 Racine Ave & 15th St            13304          41.88998  -87.63430\n",
              "3412281 Lincoln Park Conservatory       LP-            41.89488  -87.63233\n",
              "3412282 Lincoln Park Conservatory       LP-            41.90799  -87.63150\n",
              "3412283 Lincoln Park Conservatory       LP-            41.90792  -87.63162\n",
              "3412284 State St & Harrison St          SL-007         41.89160  -87.64823\n",
              "3412285 Racine Ave & 15th St            13304          41.86526  -87.66654\n",
              "3412286 Racine Ave & 15th St            13304          41.86523  -87.66651\n",
              "3412287 State St & Harrison St          SL-007         41.86406  -87.62373\n",
              "3412288 Racine Ave & 15th St            13304          41.86523  -87.66651\n",
              "3412289 State St & Harrison St          SL-007         41.85678  -87.63376\n",
              "3412290 State St & Harrison St          SL-007         41.85680  -87.63388\n",
              "3412291 Damen Ave & Sunnyside Ave       TA1309000012   41.96645  -87.68869\n",
              "3412292 State St & Harrison St          SL-007         41.85680  -87.63388\n",
              "3412293 Racine Ave & 15th St            13304          41.90360  -87.66795\n",
              "3412294 Racine Ave & 15th St            13304          41.86437  -87.62362\n",
              "3412295 State St & Harrison St          SL-007         41.85680  -87.63388\n",
              "3412296 Oakley Ave & Irving Park Rd     KA1504000158   41.91064  -87.65318\n",
              "3412297 State St & Harrison St          SL-007         41.88478  -87.62803\n",
              "3412298 State St & Harrison St          SL-007         41.92628  -87.63113\n",
              "3412299 Oakley Ave & Irving Park Rd     KA1504000158   41.95600  -87.68016\n",
              "3412300 Oakley Ave &                                         NA         NA\n",
              "        end_lat  end_lng   member_casual\n",
              "1       41.89000 -87.72000 member       \n",
              "2       41.90000 -87.69000 member       \n",
              "3       41.90000 -87.70000 member       \n",
              "4       41.92000 -87.69000 member       \n",
              "5       41.90000 -87.70000 casual       \n",
              "6       41.94000 -87.71000 casual       \n",
              "7       41.90000 -87.71000 member       \n",
              "8       41.91000 -87.70000 member       \n",
              "9       41.90000 -87.70000 member       \n",
              "10      41.89918 -87.67220 member       \n",
              "11      41.91044 -87.69689 member       \n",
              "12      41.89918 -87.67218 casual       \n",
              "13      41.89915 -87.67218 casual       \n",
              "14      41.89918 -87.67220 casual       \n",
              "15      41.90327 -87.63446 member       \n",
              "16      41.89047 -87.70261 member       \n",
              "17      41.89842 -87.68660 member       \n",
              "18      41.93184 -87.67781 member       \n",
              "19      41.93192 -87.67786 member       \n",
              "20      41.91012 -87.68240 casual       \n",
              "21      41.91015 -87.68246 casual       \n",
              "22      41.91013 -87.68244 casual       \n",
              "23      41.91051 -87.68239 casual       \n",
              "24      41.90312 -87.67394 casual       \n",
              "25      41.89636 -87.65421 casual       \n",
              "26      41.95708 -87.66420 member       \n",
              "27      41.91799 -87.65250 member       \n",
              "28      41.99478 -87.66028 member       \n",
              "29      41.91576 -87.63480 member       \n",
              "30      41.90303 -87.69747 member       \n",
              "⋮       ⋮        ⋮         ⋮            \n",
              "3412271 41.96325 -87.67926 member       \n",
              "3412272 41.92393 -87.63582 member       \n",
              "3412273 41.92393 -87.63582 member       \n",
              "3412274 41.87405 -87.62772 casual       \n",
              "3412275 41.86127 -87.65663 member       \n",
              "3412276 41.86125 -87.65664 member       \n",
              "3412277 41.96325 -87.67926 casual       \n",
              "3412278 41.92393 -87.63582 member       \n",
              "3412279 41.87405 -87.62772 casual       \n",
              "3412280 41.86127 -87.65663 member       \n",
              "3412281 41.92393 -87.63582 member       \n",
              "3412282 41.92393 -87.63582 member       \n",
              "3412283 41.92393 -87.63582 casual       \n",
              "3412284 41.87405 -87.62772 casual       \n",
              "3412285 41.86127 -87.65664 member       \n",
              "3412286 41.86127 -87.65663 member       \n",
              "3412287 41.87405 -87.62772 member       \n",
              "3412288 41.86127 -87.65663 member       \n",
              "3412289 41.87406 -87.62761 casual       \n",
              "3412290 41.87405 -87.62772 member       \n",
              "3412291 41.96325 -87.67926 member       \n",
              "3412292 41.87405 -87.62772 casual       \n",
              "3412293 41.86127 -87.65663 member       \n",
              "3412294 41.86131 -87.65630 member       \n",
              "3412295 41.87405 -87.62772 member       \n",
              "3412296 41.95434 -87.68608 member       \n",
              "3412297 41.87449 -87.62743 member       \n",
              "3412298 41.87405 -87.62772 casual       \n",
              "3412299 41.95434 -87.68608 member       \n",
              "3412300       NA        NA              "
            ],
            "text/html": [
              "<table class=\"dataframe\">\n",
              "<caption>A data.frame: 3412300 × 13</caption>\n",
              "<thead>\n",
              "\t<tr><th scope=col>ride_id</th><th scope=col>rideable_type</th><th scope=col>started_at</th><th scope=col>ended_at</th><th scope=col>start_station_name</th><th scope=col>start_station_id</th><th scope=col>end_station_name</th><th scope=col>end_station_id</th><th scope=col>start_lat</th><th scope=col>start_lng</th><th scope=col>end_lat</th><th scope=col>end_lng</th><th scope=col>member_casual</th></tr>\n",
              "\t<tr><th scope=col>&lt;chr&gt;</th><th scope=col>&lt;chr&gt;</th><th scope=col>&lt;chr&gt;</th><th scope=col>&lt;chr&gt;</th><th scope=col>&lt;chr&gt;</th><th scope=col>&lt;chr&gt;</th><th scope=col>&lt;chr&gt;</th><th scope=col>&lt;chr&gt;</th><th scope=col>&lt;dbl&gt;</th><th scope=col>&lt;dbl&gt;</th><th scope=col>&lt;dbl&gt;</th><th scope=col>&lt;dbl&gt;</th><th scope=col>&lt;chr&gt;</th></tr>\n",
              "</thead>\n",
              "<tbody>\n",
              "\t<tr><td>E19E6F1B8D4C42ED</td><td>electric_bike</td><td>2021-01-23 16:14:19</td><td>2021-01-23 16:24:44</td><td><span style=white-space:pre-wrap>California Ave &amp; Cortez St  </span></td><td><span style=white-space:pre-wrap>17660       </span></td><td><span style=white-space:pre-wrap>                               </span></td><td><span style=white-space:pre-wrap>            </span></td><td>41.90034</td><td>-87.69674</td><td>41.89000</td><td>-87.72000</td><td>member</td></tr>\n",
              "\t<tr><td>DC88F20C2C55F27F</td><td>electric_bike</td><td>2021-01-27 18:43:08</td><td>2021-01-27 18:47:12</td><td><span style=white-space:pre-wrap>California Ave &amp; Cortez St  </span></td><td><span style=white-space:pre-wrap>17660       </span></td><td><span style=white-space:pre-wrap>                               </span></td><td><span style=white-space:pre-wrap>            </span></td><td>41.90033</td><td>-87.69671</td><td>41.90000</td><td>-87.69000</td><td>member</td></tr>\n",
              "\t<tr><td>EC45C94683FE3F27</td><td>electric_bike</td><td>2021-01-21 22:35:54</td><td>2021-01-21 22:37:14</td><td><span style=white-space:pre-wrap>California Ave &amp; Cortez St  </span></td><td><span style=white-space:pre-wrap>17660       </span></td><td><span style=white-space:pre-wrap>                               </span></td><td><span style=white-space:pre-wrap>            </span></td><td>41.90031</td><td>-87.69664</td><td>41.90000</td><td>-87.70000</td><td>member</td></tr>\n",
              "\t<tr><td>4FA453A75AE377DB</td><td>electric_bike</td><td>2021-01-07 13:31:13</td><td>2021-01-07 13:42:55</td><td><span style=white-space:pre-wrap>California Ave &amp; Cortez St  </span></td><td><span style=white-space:pre-wrap>17660       </span></td><td><span style=white-space:pre-wrap>                               </span></td><td><span style=white-space:pre-wrap>            </span></td><td>41.90040</td><td>-87.69666</td><td>41.92000</td><td>-87.69000</td><td>member</td></tr>\n",
              "\t<tr><td>BE5E8EB4E7263A0B</td><td>electric_bike</td><td>2021-01-23 02:24:02</td><td>2021-01-23 02:24:45</td><td><span style=white-space:pre-wrap>California Ave &amp; Cortez St  </span></td><td><span style=white-space:pre-wrap>17660       </span></td><td><span style=white-space:pre-wrap>                               </span></td><td><span style=white-space:pre-wrap>            </span></td><td>41.90033</td><td>-87.69670</td><td>41.90000</td><td>-87.70000</td><td>casual</td></tr>\n",
              "\t<tr><td>5D8969F88C773979</td><td>electric_bike</td><td>2021-01-09 14:24:07</td><td>2021-01-09 15:17:54</td><td><span style=white-space:pre-wrap>California Ave &amp; Cortez St  </span></td><td><span style=white-space:pre-wrap>17660       </span></td><td><span style=white-space:pre-wrap>                               </span></td><td><span style=white-space:pre-wrap>            </span></td><td>41.90041</td><td>-87.69676</td><td>41.94000</td><td>-87.71000</td><td>casual</td></tr>\n",
              "\t<tr><td>09275CC10F854E9E</td><td>electric_bike</td><td>2021-01-04 05:05:04</td><td>2021-01-04 05:10:39</td><td><span style=white-space:pre-wrap>California Ave &amp; Cortez St  </span></td><td><span style=white-space:pre-wrap>17660       </span></td><td><span style=white-space:pre-wrap>                               </span></td><td><span style=white-space:pre-wrap>            </span></td><td>41.90039</td><td>-87.69676</td><td>41.90000</td><td>-87.71000</td><td>member</td></tr>\n",
              "\t<tr><td>DF7A32A217AEFB14</td><td>electric_bike</td><td>2021-01-14 15:07:00</td><td>2021-01-14 15:13:40</td><td><span style=white-space:pre-wrap>California Ave &amp; Cortez St  </span></td><td><span style=white-space:pre-wrap>17660       </span></td><td><span style=white-space:pre-wrap>                               </span></td><td><span style=white-space:pre-wrap>            </span></td><td>41.90039</td><td>-87.69673</td><td>41.91000</td><td>-87.70000</td><td>member</td></tr>\n",
              "\t<tr><td>C2EFC62379EB716C</td><td>electric_bike</td><td>2021-01-09 09:57:55</td><td>2021-01-09 10:00:26</td><td><span style=white-space:pre-wrap>California Ave &amp; Cortez St  </span></td><td><span style=white-space:pre-wrap>17660       </span></td><td><span style=white-space:pre-wrap>                               </span></td><td><span style=white-space:pre-wrap>            </span></td><td>41.90031</td><td>-87.69680</td><td>41.90000</td><td>-87.70000</td><td>member</td></tr>\n",
              "\t<tr><td>B9F73448DFBE0D45</td><td>classic_bike </td><td>2021-01-24 19:15:38</td><td>2021-01-24 19:22:51</td><td><span style=white-space:pre-wrap>California Ave &amp; Cortez St  </span></td><td><span style=white-space:pre-wrap>17660       </span></td><td><span style=white-space:pre-wrap>Wood St &amp; Augusta Blvd         </span></td><td><span style=white-space:pre-wrap>657         </span></td><td>41.90036</td><td>-87.69670</td><td>41.89918</td><td>-87.67220</td><td>member</td></tr>\n",
              "\t<tr><td>457C7F4B5D3DA135</td><td>electric_bike</td><td>2021-01-23 12:57:38</td><td>2021-01-23 13:02:10</td><td><span style=white-space:pre-wrap>California Ave &amp; Cortez St  </span></td><td><span style=white-space:pre-wrap>17660       </span></td><td><span style=white-space:pre-wrap>California Ave &amp; North Ave     </span></td><td><span style=white-space:pre-wrap>13258       </span></td><td>41.90041</td><td>-87.69673</td><td>41.91044</td><td>-87.69689</td><td>member</td></tr>\n",
              "\t<tr><td>57C750326F9FDABE</td><td>electric_bike</td><td>2021-01-09 15:28:04</td><td>2021-01-09 15:37:51</td><td><span style=white-space:pre-wrap>California Ave &amp; Cortez St  </span></td><td><span style=white-space:pre-wrap>17660       </span></td><td><span style=white-space:pre-wrap>Wood St &amp; Augusta Blvd         </span></td><td><span style=white-space:pre-wrap>657         </span></td><td>41.90037</td><td>-87.69669</td><td>41.89918</td><td>-87.67218</td><td>casual</td></tr>\n",
              "\t<tr><td>4D518C65E338D070</td><td>electric_bike</td><td>2021-01-09 15:28:57</td><td>2021-01-09 15:37:54</td><td><span style=white-space:pre-wrap>California Ave &amp; Cortez St  </span></td><td><span style=white-space:pre-wrap>17660       </span></td><td><span style=white-space:pre-wrap>Wood St &amp; Augusta Blvd         </span></td><td><span style=white-space:pre-wrap>657         </span></td><td>41.90038</td><td>-87.69672</td><td>41.89915</td><td>-87.67218</td><td>casual</td></tr>\n",
              "\t<tr><td>9D08A3AFF410474D</td><td>classic_bike </td><td>2021-01-24 15:56:59</td><td>2021-01-24 16:07:08</td><td><span style=white-space:pre-wrap>California Ave &amp; Cortez St  </span></td><td><span style=white-space:pre-wrap>17660       </span></td><td><span style=white-space:pre-wrap>Wood St &amp; Augusta Blvd         </span></td><td><span style=white-space:pre-wrap>657         </span></td><td>41.90036</td><td>-87.69670</td><td>41.89918</td><td>-87.67220</td><td>casual</td></tr>\n",
              "\t<tr><td>49FCE1F8598F12C6</td><td>electric_bike</td><td>2021-01-22 15:15:28</td><td>2021-01-22 15:36:01</td><td><span style=white-space:pre-wrap>California Ave &amp; Cortez St  </span></td><td><span style=white-space:pre-wrap>17660       </span></td><td><span style=white-space:pre-wrap>Wells St &amp; Elm St              </span></td><td>KA1504000135</td><td>41.90037</td><td>-87.69679</td><td>41.90327</td><td>-87.63446</td><td>member</td></tr>\n",
              "\t<tr><td>0FEED5C2C8749A1C</td><td>classic_bike </td><td>2021-01-05 10:33:12</td><td>2021-01-05 10:39:12</td><td><span style=white-space:pre-wrap>California Ave &amp; Cortez St  </span></td><td><span style=white-space:pre-wrap>17660       </span></td><td>Sacramento Blvd &amp; Franklin Blvd</td><td>KA1504000113</td><td>41.90036</td><td>-87.69670</td><td>41.89047</td><td>-87.70261</td><td>member</td></tr>\n",
              "\t<tr><td>E276FD43BDED6420</td><td>classic_bike </td><td>2021-01-30 11:59:16</td><td>2021-01-30 12:03:44</td><td><span style=white-space:pre-wrap>California Ave &amp; Cortez St  </span></td><td><span style=white-space:pre-wrap>17660       </span></td><td><span style=white-space:pre-wrap>Western Ave &amp; Walton St        </span></td><td>KA1504000103</td><td>41.90036</td><td>-87.69670</td><td>41.89842</td><td>-87.68660</td><td>member</td></tr>\n",
              "\t<tr><td>88BFCF66C2D585EC</td><td>electric_bike</td><td>2021-01-27 07:27:09</td><td>2021-01-27 07:45:32</td><td><span style=white-space:pre-wrap>California Ave &amp; Cortez St  </span></td><td><span style=white-space:pre-wrap>17660       </span></td><td><span style=white-space:pre-wrap>Damen Ave &amp; Clybourn Ave       </span></td><td><span style=white-space:pre-wrap>13271       </span></td><td>41.90031</td><td>-87.69679</td><td>41.93184</td><td>-87.67781</td><td>member</td></tr>\n",
              "\t<tr><td>8BD6F6510F5C8BD2</td><td>electric_bike</td><td>2021-01-15 08:54:41</td><td>2021-01-15 09:11:46</td><td><span style=white-space:pre-wrap>California Ave &amp; Cortez St  </span></td><td><span style=white-space:pre-wrap>17660       </span></td><td><span style=white-space:pre-wrap>Damen Ave &amp; Clybourn Ave       </span></td><td><span style=white-space:pre-wrap>13271       </span></td><td>41.90036</td><td>-87.69663</td><td>41.93192</td><td>-87.67786</td><td>member</td></tr>\n",
              "\t<tr><td>84F11CC620F83254</td><td>electric_bike</td><td>2021-01-10 08:05:47</td><td>2021-01-10 08:13:24</td><td><span style=white-space:pre-wrap>California Ave &amp; Cortez St  </span></td><td><span style=white-space:pre-wrap>17660       </span></td><td><span style=white-space:pre-wrap>Leavitt St &amp; North Ave         </span></td><td>TA1308000005</td><td>41.90040</td><td>-87.69671</td><td>41.91012</td><td>-87.68240</td><td>casual</td></tr>\n",
              "\t<tr><td>C84E5DD4D74F4FC0</td><td>electric_bike</td><td>2021-01-18 13:30:07</td><td>2021-01-18 13:37:19</td><td><span style=white-space:pre-wrap>California Ave &amp; Cortez St  </span></td><td><span style=white-space:pre-wrap>17660       </span></td><td><span style=white-space:pre-wrap>Leavitt St &amp; North Ave         </span></td><td>TA1308000005</td><td>41.90041</td><td>-87.69671</td><td>41.91015</td><td>-87.68246</td><td>casual</td></tr>\n",
              "\t<tr><td>00AEF8EE4622147F</td><td>electric_bike</td><td>2021-01-07 09:45:00</td><td>2021-01-07 09:52:30</td><td><span style=white-space:pre-wrap>California Ave &amp; Cortez St  </span></td><td><span style=white-space:pre-wrap>17660       </span></td><td><span style=white-space:pre-wrap>Leavitt St &amp; North Ave         </span></td><td>TA1308000005</td><td>41.90041</td><td>-87.69685</td><td>41.91013</td><td>-87.68244</td><td>casual</td></tr>\n",
              "\t<tr><td>55DAB9E709B61EA5</td><td>classic_bike </td><td>2021-01-11 11:20:38</td><td>2021-01-11 11:29:33</td><td><span style=white-space:pre-wrap>California Ave &amp; Cortez St  </span></td><td><span style=white-space:pre-wrap>17660       </span></td><td><span style=white-space:pre-wrap>Leavitt St &amp; North Ave         </span></td><td>TA1308000005</td><td>41.90036</td><td>-87.69670</td><td>41.91051</td><td>-87.68239</td><td>casual</td></tr>\n",
              "\t<tr><td>3E41D6E4EFE87DD9</td><td>classic_bike </td><td>2021-01-22 21:54:15</td><td>2021-01-22 22:04:27</td><td><span style=white-space:pre-wrap>California Ave &amp; Cortez St  </span></td><td><span style=white-space:pre-wrap>17660       </span></td><td><span style=white-space:pre-wrap>Honore St &amp; Division St        </span></td><td>TA1305000034</td><td>41.90036</td><td>-87.69670</td><td>41.90312</td><td>-87.67394</td><td>casual</td></tr>\n",
              "\t<tr><td>FCE0D29EB2DF84DA</td><td>electric_bike</td><td>2021-01-16 01:05:07</td><td>2021-01-16 01:19:43</td><td><span style=white-space:pre-wrap>California Ave &amp; Cortez St  </span></td><td><span style=white-space:pre-wrap>17660       </span></td><td><span style=white-space:pre-wrap>Ogden Ave &amp; Chicago Ave        </span></td><td>TA1305000020</td><td>41.90031</td><td>-87.69683</td><td>41.89636</td><td>-87.65421</td><td>casual</td></tr>\n",
              "\t<tr><td>77E53236C1F0EA3F</td><td>classic_bike </td><td>2021-01-28 20:35:56</td><td>2021-01-28 21:06:32</td><td>Halsted St &amp; North Branch St</td><td>KA1504000117</td><td><span style=white-space:pre-wrap>Southport Ave &amp; Clark St       </span></td><td>TA1308000047</td><td>41.89937</td><td>-87.64848</td><td>41.95708</td><td>-87.66420</td><td>member</td></tr>\n",
              "\t<tr><td>72335684BF7A0943</td><td>electric_bike</td><td>2021-01-09 00:35:55</td><td>2021-01-09 00:43:55</td><td>Halsted St &amp; North Branch St</td><td>KA1504000117</td><td><span style=white-space:pre-wrap>Bissell St &amp; Armitage Ave      </span></td><td><span style=white-space:pre-wrap>13059       </span></td><td>41.89936</td><td>-87.64849</td><td>41.91799</td><td>-87.65250</td><td>member</td></tr>\n",
              "\t<tr><td>625DDA8DCCCCB3E2</td><td>classic_bike </td><td>2021-01-17 15:07:57</td><td>2021-01-17 15:20:54</td><td><span style=white-space:pre-wrap>Glenwood Ave &amp; Touhy Ave    </span></td><td><span style=white-space:pre-wrap>525         </span></td><td><span style=white-space:pre-wrap>Broadway &amp; Granville Ave       </span></td><td><span style=white-space:pre-wrap>15571       </span></td><td>42.01270</td><td>-87.66606</td><td>41.99478</td><td>-87.66028</td><td>member</td></tr>\n",
              "\t<tr><td>61C6977EA354684C</td><td>electric_bike</td><td>2021-01-25 15:39:54</td><td>2021-01-25 15:52:11</td><td>Halsted St &amp; North Branch St</td><td>KA1504000117</td><td><span style=white-space:pre-wrap>Clark St &amp; Lincoln Ave         </span></td><td><span style=white-space:pre-wrap>13179       </span></td><td>41.89933</td><td>-87.64847</td><td>41.91576</td><td>-87.63480</td><td>member</td></tr>\n",
              "\t<tr><td>07F1F6A27AB0436E</td><td>classic_bike </td><td>2021-01-11 15:32:41</td><td>2021-01-11 15:35:26</td><td><span style=white-space:pre-wrap>California Ave &amp; Cortez St  </span></td><td><span style=white-space:pre-wrap>17660       </span></td><td><span style=white-space:pre-wrap>California Ave &amp; Division St   </span></td><td><span style=white-space:pre-wrap>13256       </span></td><td>41.90036</td><td>-87.69670</td><td>41.90303</td><td>-87.69747</td><td>member</td></tr>\n",
              "\t<tr><td>⋮</td><td>⋮</td><td>⋮</td><td>⋮</td><td>⋮</td><td>⋮</td><td>⋮</td><td>⋮</td><td>⋮</td><td>⋮</td><td>⋮</td><td>⋮</td><td>⋮</td></tr>\n",
              "\t<tr><td>16F69B146347EFA9</td><td>classic_bike </td><td>2021-12-04 18:08:54</td><td>2021-12-04 18:18:11</td><td><span style=white-space:pre-wrap>Winthrop Ave &amp; Lawrence Ave   </span></td><td>TA1308000021</td><td><span style=white-space:pre-wrap>Damen Ave &amp; Sunnyside Ave  </span></td><td>TA1309000012</td><td>41.96881</td><td>-87.65766</td><td>41.96325</td><td>-87.67926</td><td>member</td></tr>\n",
              "\t<tr><td>A826EF8672C13219</td><td>classic_bike </td><td>2021-12-04 08:55:37</td><td>2021-12-04 09:03:11</td><td><span style=white-space:pre-wrap>Clark St &amp; Schiller St        </span></td><td>TA1309000024</td><td><span style=white-space:pre-wrap>Lincoln Park Conservatory  </span></td><td><span style=white-space:pre-wrap>LP-         </span></td><td>41.90799</td><td>-87.63150</td><td>41.92393</td><td>-87.63582</td><td>member</td></tr>\n",
              "\t<tr><td>65CF5A2AE0315E42</td><td>classic_bike </td><td>2021-12-27 17:35:25</td><td>2021-12-27 17:58:14</td><td><span style=white-space:pre-wrap>Sheridan Rd &amp; Montrose Ave    </span></td><td>TA1307000107</td><td><span style=white-space:pre-wrap>Lincoln Park Conservatory  </span></td><td><span style=white-space:pre-wrap>LP-         </span></td><td>41.96167</td><td>-87.65464</td><td>41.92393</td><td>-87.63582</td><td>member</td></tr>\n",
              "\t<tr><td>0895B9FF3614A57C</td><td><span style=white-space:pre-wrap>docked_bike  </span></td><td>2021-12-09 21:59:12</td><td>2021-12-09 22:09:51</td><td><span style=white-space:pre-wrap>Wabash Ave &amp; 16th St          </span></td><td><span style=white-space:pre-wrap>SL-012      </span></td><td><span style=white-space:pre-wrap>State St &amp; Harrison St     </span></td><td><span style=white-space:pre-wrap>SL-007      </span></td><td>41.86038</td><td>-87.62581</td><td>41.87405</td><td>-87.62772</td><td>casual</td></tr>\n",
              "\t<tr><td>9108B70FA744A74A</td><td>electric_bike</td><td>2021-12-16 23:32:51</td><td>2021-12-16 23:39:11</td><td><span style=white-space:pre-wrap>Peoria St &amp; Jackson Blvd      </span></td><td><span style=white-space:pre-wrap>13158       </span></td><td><span style=white-space:pre-wrap>Racine Ave &amp; 15th St       </span></td><td><span style=white-space:pre-wrap>13304       </span></td><td>41.87762</td><td>-87.64935</td><td>41.86127</td><td>-87.65663</td><td>member</td></tr>\n",
              "\t<tr><td>FBF9CD2D3DD2BE5B</td><td>electric_bike</td><td>2021-12-01 22:20:38</td><td>2021-12-01 22:25:59</td><td><span style=white-space:pre-wrap>Peoria St &amp; Jackson Blvd      </span></td><td><span style=white-space:pre-wrap>13158       </span></td><td><span style=white-space:pre-wrap>Racine Ave &amp; 15th St       </span></td><td><span style=white-space:pre-wrap>13304       </span></td><td>41.87754</td><td>-87.64949</td><td>41.86125</td><td>-87.65664</td><td>member</td></tr>\n",
              "\t<tr><td>16732303CA60B23B</td><td>electric_bike</td><td>2021-12-11 10:06:17</td><td>2021-12-11 10:06:34</td><td><span style=white-space:pre-wrap>Damen Ave &amp; Sunnyside Ave     </span></td><td>TA1309000012</td><td><span style=white-space:pre-wrap>Damen Ave &amp; Sunnyside Ave  </span></td><td>TA1309000012</td><td>41.96329</td><td>-87.67927</td><td>41.96325</td><td>-87.67926</td><td>casual</td></tr>\n",
              "\t<tr><td>431890135BCDFFCD</td><td>classic_bike </td><td>2021-12-14 17:49:16</td><td>2021-12-14 18:02:43</td><td><span style=white-space:pre-wrap>Broadway &amp; Cornelia Ave       </span></td><td><span style=white-space:pre-wrap>13278       </span></td><td><span style=white-space:pre-wrap>Lincoln Park Conservatory  </span></td><td><span style=white-space:pre-wrap>LP-         </span></td><td>41.94553</td><td>-87.64644</td><td>41.92393</td><td>-87.63582</td><td>member</td></tr>\n",
              "\t<tr><td>22DE9719A8E04A77</td><td>classic_bike </td><td>2021-12-20 18:06:49</td><td>2021-12-20 18:23:26</td><td><span style=white-space:pre-wrap>Wells St &amp; Hubbard St         </span></td><td>TA1307000151</td><td><span style=white-space:pre-wrap>State St &amp; Harrison St     </span></td><td><span style=white-space:pre-wrap>SL-007      </span></td><td>41.88991</td><td>-87.63427</td><td>41.87405</td><td>-87.62772</td><td>casual</td></tr>\n",
              "\t<tr><td>0D1E9F2B92566BA1</td><td>electric_bike</td><td>2021-12-15 12:09:17</td><td>2021-12-15 12:24:54</td><td><span style=white-space:pre-wrap>Wells St &amp; Hubbard St         </span></td><td>TA1307000151</td><td><span style=white-space:pre-wrap>Racine Ave &amp; 15th St       </span></td><td><span style=white-space:pre-wrap>13304       </span></td><td>41.88998</td><td>-87.63430</td><td>41.86127</td><td>-87.65663</td><td>member</td></tr>\n",
              "\t<tr><td>7F774EDC64D82CBD</td><td>classic_bike </td><td>2021-12-03 01:50:23</td><td>2021-12-03 02:06:14</td><td><span style=white-space:pre-wrap>LaSalle Dr &amp; Huron St         </span></td><td>KP1705001026</td><td><span style=white-space:pre-wrap>Lincoln Park Conservatory  </span></td><td><span style=white-space:pre-wrap>LP-         </span></td><td>41.89488</td><td>-87.63233</td><td>41.92393</td><td>-87.63582</td><td>member</td></tr>\n",
              "\t<tr><td>A8292DF24FBDC31F</td><td>classic_bike </td><td>2021-12-04 09:02:17</td><td>2021-12-04 09:09:46</td><td><span style=white-space:pre-wrap>Clark St &amp; Schiller St        </span></td><td>TA1309000024</td><td><span style=white-space:pre-wrap>Lincoln Park Conservatory  </span></td><td><span style=white-space:pre-wrap>LP-         </span></td><td>41.90799</td><td>-87.63150</td><td>41.92393</td><td>-87.63582</td><td>member</td></tr>\n",
              "\t<tr><td>330C8D21AB310516</td><td>electric_bike</td><td>2021-12-13 11:19:46</td><td>2021-12-13 11:26:31</td><td><span style=white-space:pre-wrap>Clark St &amp; Schiller St        </span></td><td>TA1309000024</td><td><span style=white-space:pre-wrap>Lincoln Park Conservatory  </span></td><td><span style=white-space:pre-wrap>LP-         </span></td><td>41.90792</td><td>-87.63162</td><td>41.92393</td><td>-87.63582</td><td>casual</td></tr>\n",
              "\t<tr><td>9620EBD63FC1C2EF</td><td>electric_bike</td><td>2021-12-18 16:37:11</td><td>2021-12-18 16:59:14</td><td><span style=white-space:pre-wrap>Milwaukee Ave &amp; Grand Ave     </span></td><td><span style=white-space:pre-wrap>13033       </span></td><td><span style=white-space:pre-wrap>State St &amp; Harrison St     </span></td><td><span style=white-space:pre-wrap>SL-007      </span></td><td>41.89160</td><td>-87.64823</td><td>41.87405</td><td>-87.62772</td><td>casual</td></tr>\n",
              "\t<tr><td>B6404BB2035684DF</td><td>electric_bike</td><td>2021-12-04 13:31:42</td><td>2021-12-04 13:38:19</td><td><span style=white-space:pre-wrap>Ashland Ave &amp; 13th St         </span></td><td><span style=white-space:pre-wrap>13354       </span></td><td><span style=white-space:pre-wrap>Racine Ave &amp; 15th St       </span></td><td><span style=white-space:pre-wrap>13304       </span></td><td>41.86526</td><td>-87.66654</td><td>41.86127</td><td>-87.65664</td><td>member</td></tr>\n",
              "\t<tr><td>968D60ECAD55BDBC</td><td>classic_bike </td><td>2021-12-06 12:35:13</td><td>2021-12-06 12:43:48</td><td><span style=white-space:pre-wrap>Ashland Ave &amp; 13th St         </span></td><td><span style=white-space:pre-wrap>13354       </span></td><td><span style=white-space:pre-wrap>Racine Ave &amp; 15th St       </span></td><td><span style=white-space:pre-wrap>13304       </span></td><td>41.86523</td><td>-87.66651</td><td>41.86127</td><td>-87.65663</td><td>member</td></tr>\n",
              "\t<tr><td>D01B0992F10BB9FD</td><td>classic_bike </td><td>2021-12-31 15:46:26</td><td>2021-12-31 15:53:34</td><td><span style=white-space:pre-wrap>Michigan Ave &amp; 14th St        </span></td><td>TA1307000124</td><td><span style=white-space:pre-wrap>State St &amp; Harrison St     </span></td><td><span style=white-space:pre-wrap>SL-007      </span></td><td>41.86406</td><td>-87.62373</td><td>41.87405</td><td>-87.62772</td><td>member</td></tr>\n",
              "\t<tr><td>9ADBA4AFFF567E2E</td><td>classic_bike </td><td>2021-12-01 06:14:26</td><td>2021-12-01 06:34:27</td><td><span style=white-space:pre-wrap>Ashland Ave &amp; 13th St         </span></td><td><span style=white-space:pre-wrap>13354       </span></td><td><span style=white-space:pre-wrap>Racine Ave &amp; 15th St       </span></td><td><span style=white-space:pre-wrap>13304       </span></td><td>41.86523</td><td>-87.66651</td><td>41.86127</td><td>-87.65663</td><td>member</td></tr>\n",
              "\t<tr><td>C9BEFF28FC28AB16</td><td>electric_bike</td><td>2021-12-01 12:21:04</td><td>2021-12-01 12:37:32</td><td><span style=white-space:pre-wrap>Wells St &amp; 19th St            </span></td><td><span style=white-space:pre-wrap>SL-006      </span></td><td><span style=white-space:pre-wrap>State St &amp; Harrison St     </span></td><td><span style=white-space:pre-wrap>SL-007      </span></td><td>41.85678</td><td>-87.63376</td><td>41.87406</td><td>-87.62761</td><td>casual</td></tr>\n",
              "\t<tr><td>9CB69429BEC6E514</td><td>classic_bike </td><td>2021-12-14 15:45:14</td><td>2021-12-14 15:59:42</td><td><span style=white-space:pre-wrap>Wells St &amp; 19th St            </span></td><td><span style=white-space:pre-wrap>SL-006      </span></td><td><span style=white-space:pre-wrap>State St &amp; Harrison St     </span></td><td><span style=white-space:pre-wrap>SL-007      </span></td><td>41.85680</td><td>-87.63388</td><td>41.87405</td><td>-87.62772</td><td>member</td></tr>\n",
              "\t<tr><td>8AC98A4909917CFF</td><td>electric_bike</td><td>2021-12-21 16:07:11</td><td>2021-12-21 16:10:13</td><td><span style=white-space:pre-wrap>Western Ave &amp; Leland Ave      </span></td><td>TA1307000140</td><td><span style=white-space:pre-wrap>Damen Ave &amp; Sunnyside Ave  </span></td><td>TA1309000012</td><td>41.96645</td><td>-87.68869</td><td>41.96325</td><td>-87.67926</td><td>member</td></tr>\n",
              "\t<tr><td>20C5F174BCE0F327</td><td>classic_bike </td><td>2021-12-31 04:43:38</td><td>2021-12-31 05:11:37</td><td><span style=white-space:pre-wrap>Wells St &amp; 19th St            </span></td><td><span style=white-space:pre-wrap>SL-006      </span></td><td><span style=white-space:pre-wrap>State St &amp; Harrison St     </span></td><td><span style=white-space:pre-wrap>SL-007      </span></td><td>41.85680</td><td>-87.63388</td><td>41.87405</td><td>-87.62772</td><td>casual</td></tr>\n",
              "\t<tr><td>F49BF664C66FA934</td><td>electric_bike</td><td>2021-12-09 20:50:41</td><td>2021-12-09 21:09:23</td><td><span style=white-space:pre-wrap>Ashland Ave &amp; Division St     </span></td><td><span style=white-space:pre-wrap>13061       </span></td><td><span style=white-space:pre-wrap>Racine Ave &amp; 15th St       </span></td><td><span style=white-space:pre-wrap>13304       </span></td><td>41.90360</td><td>-87.66795</td><td>41.86127</td><td>-87.65663</td><td>member</td></tr>\n",
              "\t<tr><td>7E21820E8C171AF8</td><td>electric_bike</td><td>2021-12-03 19:36:08</td><td>2021-12-03 19:47:26</td><td><span style=white-space:pre-wrap>Michigan Ave &amp; 14th St        </span></td><td>TA1307000124</td><td><span style=white-space:pre-wrap>Racine Ave &amp; 15th St       </span></td><td><span style=white-space:pre-wrap>13304       </span></td><td>41.86437</td><td>-87.62362</td><td>41.86131</td><td>-87.65630</td><td>member</td></tr>\n",
              "\t<tr><td>E49DFCD750EFF0E7</td><td>classic_bike </td><td>2021-12-15 14:56:32</td><td>2021-12-15 15:10:16</td><td><span style=white-space:pre-wrap>Wells St &amp; 19th St            </span></td><td><span style=white-space:pre-wrap>SL-006      </span></td><td><span style=white-space:pre-wrap>State St &amp; Harrison St     </span></td><td><span style=white-space:pre-wrap>SL-007      </span></td><td>41.85680</td><td>-87.63388</td><td>41.87405</td><td>-87.62772</td><td>member</td></tr>\n",
              "\t<tr><td>D918694B7D795B04</td><td>electric_bike</td><td>2021-12-13 17:42:39</td><td>2021-12-13 18:15:50</td><td><span style=white-space:pre-wrap>Sheffield Ave &amp; Kingsbury St  </span></td><td><span style=white-space:pre-wrap>13154       </span></td><td>Oakley Ave &amp; Irving Park Rd</td><td>KA1504000158</td><td>41.91064</td><td>-87.65318</td><td>41.95434</td><td>-87.68608</td><td>member</td></tr>\n",
              "\t<tr><td>6F223111CFB46D19</td><td>electric_bike</td><td>2021-12-02 21:08:36</td><td>2021-12-02 21:12:54</td><td><span style=white-space:pre-wrap>State St &amp; Randolph St        </span></td><td>TA1305000029</td><td><span style=white-space:pre-wrap>State St &amp; Harrison St     </span></td><td><span style=white-space:pre-wrap>SL-007      </span></td><td>41.88478</td><td>-87.62803</td><td>41.87449</td><td>-87.62743</td><td>member</td></tr>\n",
              "\t<tr><td>3F159579A30FFE0D</td><td>electric_bike</td><td>2021-12-20 21:28:55</td><td>2021-12-20 22:03:57</td><td><span style=white-space:pre-wrap>Theater on the Lake           </span></td><td>TA1308000001</td><td><span style=white-space:pre-wrap>State St &amp; Harrison St     </span></td><td><span style=white-space:pre-wrap>SL-007      </span></td><td>41.92628</td><td>-87.63113</td><td>41.87405</td><td>-87.62772</td><td>casual</td></tr>\n",
              "\t<tr><td>049979697E40C124</td><td>classic_bike </td><td>2021-12-12 00:15:44</td><td>2021-12-12 00:19:03</td><td>Lincoln Ave &amp; Belle Plaine Ave</td><td>TA1309000026</td><td>Oakley Ave &amp; Irving Park Rd</td><td>KA1504000158</td><td>41.95600</td><td>-87.68016</td><td>41.95434</td><td>-87.68608</td><td>member</td></tr>\n",
              "\t<tr><td>0ABEA3232BDA9CF5</td><td>electric_bike</td><td>2021-12-19 23:49:31</td><td>2021-12-19 23:51:32</td><td>Lincoln Ave &amp; Belle Plaine Ave</td><td>TA1309000026</td><td><span style=white-space:pre-wrap>Oakley Ave &amp;               </span></td><td><span style=white-space:pre-wrap>            </span></td><td><span style=white-space:pre-wrap>      NA</span></td><td><span style=white-space:pre-wrap>       NA</span></td><td><span style=white-space:pre-wrap>      NA</span></td><td><span style=white-space:pre-wrap>       NA</span></td><td><span style=white-space:pre-wrap>      </span></td></tr>\n",
              "</tbody>\n",
              "</table>\n"
            ],
            "text/markdown": "\nA data.frame: 3412300 × 13\n\n| ride_id &lt;chr&gt; | rideable_type &lt;chr&gt; | started_at &lt;chr&gt; | ended_at &lt;chr&gt; | start_station_name &lt;chr&gt; | start_station_id &lt;chr&gt; | end_station_name &lt;chr&gt; | end_station_id &lt;chr&gt; | start_lat &lt;dbl&gt; | start_lng &lt;dbl&gt; | end_lat &lt;dbl&gt; | end_lng &lt;dbl&gt; | member_casual &lt;chr&gt; |\n|---|---|---|---|---|---|---|---|---|---|---|---|---|\n| E19E6F1B8D4C42ED | electric_bike | 2021-01-23 16:14:19 | 2021-01-23 16:24:44 | California Ave &amp; Cortez St   | 17660        | <!----> | <!----> | 41.90034 | -87.69674 | 41.89000 | -87.72000 | member |\n| DC88F20C2C55F27F | electric_bike | 2021-01-27 18:43:08 | 2021-01-27 18:47:12 | California Ave &amp; Cortez St   | 17660        | <!----> | <!----> | 41.90033 | -87.69671 | 41.90000 | -87.69000 | member |\n| EC45C94683FE3F27 | electric_bike | 2021-01-21 22:35:54 | 2021-01-21 22:37:14 | California Ave &amp; Cortez St   | 17660        | <!----> | <!----> | 41.90031 | -87.69664 | 41.90000 | -87.70000 | member |\n| 4FA453A75AE377DB | electric_bike | 2021-01-07 13:31:13 | 2021-01-07 13:42:55 | California Ave &amp; Cortez St   | 17660        | <!----> | <!----> | 41.90040 | -87.69666 | 41.92000 | -87.69000 | member |\n| BE5E8EB4E7263A0B | electric_bike | 2021-01-23 02:24:02 | 2021-01-23 02:24:45 | California Ave &amp; Cortez St   | 17660        | <!----> | <!----> | 41.90033 | -87.69670 | 41.90000 | -87.70000 | casual |\n| 5D8969F88C773979 | electric_bike | 2021-01-09 14:24:07 | 2021-01-09 15:17:54 | California Ave &amp; Cortez St   | 17660        | <!----> | <!----> | 41.90041 | -87.69676 | 41.94000 | -87.71000 | casual |\n| 09275CC10F854E9E | electric_bike | 2021-01-04 05:05:04 | 2021-01-04 05:10:39 | California Ave &amp; Cortez St   | 17660        | <!----> | <!----> | 41.90039 | -87.69676 | 41.90000 | -87.71000 | member |\n| DF7A32A217AEFB14 | electric_bike | 2021-01-14 15:07:00 | 2021-01-14 15:13:40 | California Ave &amp; Cortez St   | 17660        | <!----> | <!----> | 41.90039 | -87.69673 | 41.91000 | -87.70000 | member |\n| C2EFC62379EB716C | electric_bike | 2021-01-09 09:57:55 | 2021-01-09 10:00:26 | California Ave &amp; Cortez St   | 17660        | <!----> | <!----> | 41.90031 | -87.69680 | 41.90000 | -87.70000 | member |\n| B9F73448DFBE0D45 | classic_bike  | 2021-01-24 19:15:38 | 2021-01-24 19:22:51 | California Ave &amp; Cortez St   | 17660        | Wood St &amp; Augusta Blvd          | 657          | 41.90036 | -87.69670 | 41.89918 | -87.67220 | member |\n| 457C7F4B5D3DA135 | electric_bike | 2021-01-23 12:57:38 | 2021-01-23 13:02:10 | California Ave &amp; Cortez St   | 17660        | California Ave &amp; North Ave      | 13258        | 41.90041 | -87.69673 | 41.91044 | -87.69689 | member |\n| 57C750326F9FDABE | electric_bike | 2021-01-09 15:28:04 | 2021-01-09 15:37:51 | California Ave &amp; Cortez St   | 17660        | Wood St &amp; Augusta Blvd          | 657          | 41.90037 | -87.69669 | 41.89918 | -87.67218 | casual |\n| 4D518C65E338D070 | electric_bike | 2021-01-09 15:28:57 | 2021-01-09 15:37:54 | California Ave &amp; Cortez St   | 17660        | Wood St &amp; Augusta Blvd          | 657          | 41.90038 | -87.69672 | 41.89915 | -87.67218 | casual |\n| 9D08A3AFF410474D | classic_bike  | 2021-01-24 15:56:59 | 2021-01-24 16:07:08 | California Ave &amp; Cortez St   | 17660        | Wood St &amp; Augusta Blvd          | 657          | 41.90036 | -87.69670 | 41.89918 | -87.67220 | casual |\n| 49FCE1F8598F12C6 | electric_bike | 2021-01-22 15:15:28 | 2021-01-22 15:36:01 | California Ave &amp; Cortez St   | 17660        | Wells St &amp; Elm St               | KA1504000135 | 41.90037 | -87.69679 | 41.90327 | -87.63446 | member |\n| 0FEED5C2C8749A1C | classic_bike  | 2021-01-05 10:33:12 | 2021-01-05 10:39:12 | California Ave &amp; Cortez St   | 17660        | Sacramento Blvd &amp; Franklin Blvd | KA1504000113 | 41.90036 | -87.69670 | 41.89047 | -87.70261 | member |\n| E276FD43BDED6420 | classic_bike  | 2021-01-30 11:59:16 | 2021-01-30 12:03:44 | California Ave &amp; Cortez St   | 17660        | Western Ave &amp; Walton St         | KA1504000103 | 41.90036 | -87.69670 | 41.89842 | -87.68660 | member |\n| 88BFCF66C2D585EC | electric_bike | 2021-01-27 07:27:09 | 2021-01-27 07:45:32 | California Ave &amp; Cortez St   | 17660        | Damen Ave &amp; Clybourn Ave        | 13271        | 41.90031 | -87.69679 | 41.93184 | -87.67781 | member |\n| 8BD6F6510F5C8BD2 | electric_bike | 2021-01-15 08:54:41 | 2021-01-15 09:11:46 | California Ave &amp; Cortez St   | 17660        | Damen Ave &amp; Clybourn Ave        | 13271        | 41.90036 | -87.69663 | 41.93192 | -87.67786 | member |\n| 84F11CC620F83254 | electric_bike | 2021-01-10 08:05:47 | 2021-01-10 08:13:24 | California Ave &amp; Cortez St   | 17660        | Leavitt St &amp; North Ave          | TA1308000005 | 41.90040 | -87.69671 | 41.91012 | -87.68240 | casual |\n| C84E5DD4D74F4FC0 | electric_bike | 2021-01-18 13:30:07 | 2021-01-18 13:37:19 | California Ave &amp; Cortez St   | 17660        | Leavitt St &amp; North Ave          | TA1308000005 | 41.90041 | -87.69671 | 41.91015 | -87.68246 | casual |\n| 00AEF8EE4622147F | electric_bike | 2021-01-07 09:45:00 | 2021-01-07 09:52:30 | California Ave &amp; Cortez St   | 17660        | Leavitt St &amp; North Ave          | TA1308000005 | 41.90041 | -87.69685 | 41.91013 | -87.68244 | casual |\n| 55DAB9E709B61EA5 | classic_bike  | 2021-01-11 11:20:38 | 2021-01-11 11:29:33 | California Ave &amp; Cortez St   | 17660        | Leavitt St &amp; North Ave          | TA1308000005 | 41.90036 | -87.69670 | 41.91051 | -87.68239 | casual |\n| 3E41D6E4EFE87DD9 | classic_bike  | 2021-01-22 21:54:15 | 2021-01-22 22:04:27 | California Ave &amp; Cortez St   | 17660        | Honore St &amp; Division St         | TA1305000034 | 41.90036 | -87.69670 | 41.90312 | -87.67394 | casual |\n| FCE0D29EB2DF84DA | electric_bike | 2021-01-16 01:05:07 | 2021-01-16 01:19:43 | California Ave &amp; Cortez St   | 17660        | Ogden Ave &amp; Chicago Ave         | TA1305000020 | 41.90031 | -87.69683 | 41.89636 | -87.65421 | casual |\n| 77E53236C1F0EA3F | classic_bike  | 2021-01-28 20:35:56 | 2021-01-28 21:06:32 | Halsted St &amp; North Branch St | KA1504000117 | Southport Ave &amp; Clark St        | TA1308000047 | 41.89937 | -87.64848 | 41.95708 | -87.66420 | member |\n| 72335684BF7A0943 | electric_bike | 2021-01-09 00:35:55 | 2021-01-09 00:43:55 | Halsted St &amp; North Branch St | KA1504000117 | Bissell St &amp; Armitage Ave       | 13059        | 41.89936 | -87.64849 | 41.91799 | -87.65250 | member |\n| 625DDA8DCCCCB3E2 | classic_bike  | 2021-01-17 15:07:57 | 2021-01-17 15:20:54 | Glenwood Ave &amp; Touhy Ave     | 525          | Broadway &amp; Granville Ave        | 15571        | 42.01270 | -87.66606 | 41.99478 | -87.66028 | member |\n| 61C6977EA354684C | electric_bike | 2021-01-25 15:39:54 | 2021-01-25 15:52:11 | Halsted St &amp; North Branch St | KA1504000117 | Clark St &amp; Lincoln Ave          | 13179        | 41.89933 | -87.64847 | 41.91576 | -87.63480 | member |\n| 07F1F6A27AB0436E | classic_bike  | 2021-01-11 15:32:41 | 2021-01-11 15:35:26 | California Ave &amp; Cortez St   | 17660        | California Ave &amp; Division St    | 13256        | 41.90036 | -87.69670 | 41.90303 | -87.69747 | member |\n| ⋮ | ⋮ | ⋮ | ⋮ | ⋮ | ⋮ | ⋮ | ⋮ | ⋮ | ⋮ | ⋮ | ⋮ | ⋮ |\n| 16F69B146347EFA9 | classic_bike  | 2021-12-04 18:08:54 | 2021-12-04 18:18:11 | Winthrop Ave &amp; Lawrence Ave    | TA1308000021 | Damen Ave &amp; Sunnyside Ave   | TA1309000012 | 41.96881 | -87.65766 | 41.96325 | -87.67926 | member |\n| A826EF8672C13219 | classic_bike  | 2021-12-04 08:55:37 | 2021-12-04 09:03:11 | Clark St &amp; Schiller St         | TA1309000024 | Lincoln Park Conservatory   | LP-          | 41.90799 | -87.63150 | 41.92393 | -87.63582 | member |\n| 65CF5A2AE0315E42 | classic_bike  | 2021-12-27 17:35:25 | 2021-12-27 17:58:14 | Sheridan Rd &amp; Montrose Ave     | TA1307000107 | Lincoln Park Conservatory   | LP-          | 41.96167 | -87.65464 | 41.92393 | -87.63582 | member |\n| 0895B9FF3614A57C | docked_bike   | 2021-12-09 21:59:12 | 2021-12-09 22:09:51 | Wabash Ave &amp; 16th St           | SL-012       | State St &amp; Harrison St      | SL-007       | 41.86038 | -87.62581 | 41.87405 | -87.62772 | casual |\n| 9108B70FA744A74A | electric_bike | 2021-12-16 23:32:51 | 2021-12-16 23:39:11 | Peoria St &amp; Jackson Blvd       | 13158        | Racine Ave &amp; 15th St        | 13304        | 41.87762 | -87.64935 | 41.86127 | -87.65663 | member |\n| FBF9CD2D3DD2BE5B | electric_bike | 2021-12-01 22:20:38 | 2021-12-01 22:25:59 | Peoria St &amp; Jackson Blvd       | 13158        | Racine Ave &amp; 15th St        | 13304        | 41.87754 | -87.64949 | 41.86125 | -87.65664 | member |\n| 16732303CA60B23B | electric_bike | 2021-12-11 10:06:17 | 2021-12-11 10:06:34 | Damen Ave &amp; Sunnyside Ave      | TA1309000012 | Damen Ave &amp; Sunnyside Ave   | TA1309000012 | 41.96329 | -87.67927 | 41.96325 | -87.67926 | casual |\n| 431890135BCDFFCD | classic_bike  | 2021-12-14 17:49:16 | 2021-12-14 18:02:43 | Broadway &amp; Cornelia Ave        | 13278        | Lincoln Park Conservatory   | LP-          | 41.94553 | -87.64644 | 41.92393 | -87.63582 | member |\n| 22DE9719A8E04A77 | classic_bike  | 2021-12-20 18:06:49 | 2021-12-20 18:23:26 | Wells St &amp; Hubbard St          | TA1307000151 | State St &amp; Harrison St      | SL-007       | 41.88991 | -87.63427 | 41.87405 | -87.62772 | casual |\n| 0D1E9F2B92566BA1 | electric_bike | 2021-12-15 12:09:17 | 2021-12-15 12:24:54 | Wells St &amp; Hubbard St          | TA1307000151 | Racine Ave &amp; 15th St        | 13304        | 41.88998 | -87.63430 | 41.86127 | -87.65663 | member |\n| 7F774EDC64D82CBD | classic_bike  | 2021-12-03 01:50:23 | 2021-12-03 02:06:14 | LaSalle Dr &amp; Huron St          | KP1705001026 | Lincoln Park Conservatory   | LP-          | 41.89488 | -87.63233 | 41.92393 | -87.63582 | member |\n| A8292DF24FBDC31F | classic_bike  | 2021-12-04 09:02:17 | 2021-12-04 09:09:46 | Clark St &amp; Schiller St         | TA1309000024 | Lincoln Park Conservatory   | LP-          | 41.90799 | -87.63150 | 41.92393 | -87.63582 | member |\n| 330C8D21AB310516 | electric_bike | 2021-12-13 11:19:46 | 2021-12-13 11:26:31 | Clark St &amp; Schiller St         | TA1309000024 | Lincoln Park Conservatory   | LP-          | 41.90792 | -87.63162 | 41.92393 | -87.63582 | casual |\n| 9620EBD63FC1C2EF | electric_bike | 2021-12-18 16:37:11 | 2021-12-18 16:59:14 | Milwaukee Ave &amp; Grand Ave      | 13033        | State St &amp; Harrison St      | SL-007       | 41.89160 | -87.64823 | 41.87405 | -87.62772 | casual |\n| B6404BB2035684DF | electric_bike | 2021-12-04 13:31:42 | 2021-12-04 13:38:19 | Ashland Ave &amp; 13th St          | 13354        | Racine Ave &amp; 15th St        | 13304        | 41.86526 | -87.66654 | 41.86127 | -87.65664 | member |\n| 968D60ECAD55BDBC | classic_bike  | 2021-12-06 12:35:13 | 2021-12-06 12:43:48 | Ashland Ave &amp; 13th St          | 13354        | Racine Ave &amp; 15th St        | 13304        | 41.86523 | -87.66651 | 41.86127 | -87.65663 | member |\n| D01B0992F10BB9FD | classic_bike  | 2021-12-31 15:46:26 | 2021-12-31 15:53:34 | Michigan Ave &amp; 14th St         | TA1307000124 | State St &amp; Harrison St      | SL-007       | 41.86406 | -87.62373 | 41.87405 | -87.62772 | member |\n| 9ADBA4AFFF567E2E | classic_bike  | 2021-12-01 06:14:26 | 2021-12-01 06:34:27 | Ashland Ave &amp; 13th St          | 13354        | Racine Ave &amp; 15th St        | 13304        | 41.86523 | -87.66651 | 41.86127 | -87.65663 | member |\n| C9BEFF28FC28AB16 | electric_bike | 2021-12-01 12:21:04 | 2021-12-01 12:37:32 | Wells St &amp; 19th St             | SL-006       | State St &amp; Harrison St      | SL-007       | 41.85678 | -87.63376 | 41.87406 | -87.62761 | casual |\n| 9CB69429BEC6E514 | classic_bike  | 2021-12-14 15:45:14 | 2021-12-14 15:59:42 | Wells St &amp; 19th St             | SL-006       | State St &amp; Harrison St      | SL-007       | 41.85680 | -87.63388 | 41.87405 | -87.62772 | member |\n| 8AC98A4909917CFF | electric_bike | 2021-12-21 16:07:11 | 2021-12-21 16:10:13 | Western Ave &amp; Leland Ave       | TA1307000140 | Damen Ave &amp; Sunnyside Ave   | TA1309000012 | 41.96645 | -87.68869 | 41.96325 | -87.67926 | member |\n| 20C5F174BCE0F327 | classic_bike  | 2021-12-31 04:43:38 | 2021-12-31 05:11:37 | Wells St &amp; 19th St             | SL-006       | State St &amp; Harrison St      | SL-007       | 41.85680 | -87.63388 | 41.87405 | -87.62772 | casual |\n| F49BF664C66FA934 | electric_bike | 2021-12-09 20:50:41 | 2021-12-09 21:09:23 | Ashland Ave &amp; Division St      | 13061        | Racine Ave &amp; 15th St        | 13304        | 41.90360 | -87.66795 | 41.86127 | -87.65663 | member |\n| 7E21820E8C171AF8 | electric_bike | 2021-12-03 19:36:08 | 2021-12-03 19:47:26 | Michigan Ave &amp; 14th St         | TA1307000124 | Racine Ave &amp; 15th St        | 13304        | 41.86437 | -87.62362 | 41.86131 | -87.65630 | member |\n| E49DFCD750EFF0E7 | classic_bike  | 2021-12-15 14:56:32 | 2021-12-15 15:10:16 | Wells St &amp; 19th St             | SL-006       | State St &amp; Harrison St      | SL-007       | 41.85680 | -87.63388 | 41.87405 | -87.62772 | member |\n| D918694B7D795B04 | electric_bike | 2021-12-13 17:42:39 | 2021-12-13 18:15:50 | Sheffield Ave &amp; Kingsbury St   | 13154        | Oakley Ave &amp; Irving Park Rd | KA1504000158 | 41.91064 | -87.65318 | 41.95434 | -87.68608 | member |\n| 6F223111CFB46D19 | electric_bike | 2021-12-02 21:08:36 | 2021-12-02 21:12:54 | State St &amp; Randolph St         | TA1305000029 | State St &amp; Harrison St      | SL-007       | 41.88478 | -87.62803 | 41.87449 | -87.62743 | member |\n| 3F159579A30FFE0D | electric_bike | 2021-12-20 21:28:55 | 2021-12-20 22:03:57 | Theater on the Lake            | TA1308000001 | State St &amp; Harrison St      | SL-007       | 41.92628 | -87.63113 | 41.87405 | -87.62772 | casual |\n| 049979697E40C124 | classic_bike  | 2021-12-12 00:15:44 | 2021-12-12 00:19:03 | Lincoln Ave &amp; Belle Plaine Ave | TA1309000026 | Oakley Ave &amp; Irving Park Rd | KA1504000158 | 41.95600 | -87.68016 | 41.95434 | -87.68608 | member |\n| 0ABEA3232BDA9CF5 | electric_bike | 2021-12-19 23:49:31 | 2021-12-19 23:51:32 | Lincoln Ave &amp; Belle Plaine Ave | TA1309000026 | Oakley Ave &amp;                | <!----> |       NA |        NA |       NA |        NA | <!----> |\n\n",
            "text/latex": "A data.frame: 3412300 × 13\n\\begin{tabular}{lllllllllllll}\n ride\\_id & rideable\\_type & started\\_at & ended\\_at & start\\_station\\_name & start\\_station\\_id & end\\_station\\_name & end\\_station\\_id & start\\_lat & start\\_lng & end\\_lat & end\\_lng & member\\_casual\\\\\n <chr> & <chr> & <chr> & <chr> & <chr> & <chr> & <chr> & <chr> & <dbl> & <dbl> & <dbl> & <dbl> & <chr>\\\\\n\\hline\n\t E19E6F1B8D4C42ED & electric\\_bike & 2021-01-23 16:14:19 & 2021-01-23 16:24:44 & California Ave \\& Cortez St   & 17660        &                                 &              & 41.90034 & -87.69674 & 41.89000 & -87.72000 & member\\\\\n\t DC88F20C2C55F27F & electric\\_bike & 2021-01-27 18:43:08 & 2021-01-27 18:47:12 & California Ave \\& Cortez St   & 17660        &                                 &              & 41.90033 & -87.69671 & 41.90000 & -87.69000 & member\\\\\n\t EC45C94683FE3F27 & electric\\_bike & 2021-01-21 22:35:54 & 2021-01-21 22:37:14 & California Ave \\& Cortez St   & 17660        &                                 &              & 41.90031 & -87.69664 & 41.90000 & -87.70000 & member\\\\\n\t 4FA453A75AE377DB & electric\\_bike & 2021-01-07 13:31:13 & 2021-01-07 13:42:55 & California Ave \\& Cortez St   & 17660        &                                 &              & 41.90040 & -87.69666 & 41.92000 & -87.69000 & member\\\\\n\t BE5E8EB4E7263A0B & electric\\_bike & 2021-01-23 02:24:02 & 2021-01-23 02:24:45 & California Ave \\& Cortez St   & 17660        &                                 &              & 41.90033 & -87.69670 & 41.90000 & -87.70000 & casual\\\\\n\t 5D8969F88C773979 & electric\\_bike & 2021-01-09 14:24:07 & 2021-01-09 15:17:54 & California Ave \\& Cortez St   & 17660        &                                 &              & 41.90041 & -87.69676 & 41.94000 & -87.71000 & casual\\\\\n\t 09275CC10F854E9E & electric\\_bike & 2021-01-04 05:05:04 & 2021-01-04 05:10:39 & California Ave \\& Cortez St   & 17660        &                                 &              & 41.90039 & -87.69676 & 41.90000 & -87.71000 & member\\\\\n\t DF7A32A217AEFB14 & electric\\_bike & 2021-01-14 15:07:00 & 2021-01-14 15:13:40 & California Ave \\& Cortez St   & 17660        &                                 &              & 41.90039 & -87.69673 & 41.91000 & -87.70000 & member\\\\\n\t C2EFC62379EB716C & electric\\_bike & 2021-01-09 09:57:55 & 2021-01-09 10:00:26 & California Ave \\& Cortez St   & 17660        &                                 &              & 41.90031 & -87.69680 & 41.90000 & -87.70000 & member\\\\\n\t B9F73448DFBE0D45 & classic\\_bike  & 2021-01-24 19:15:38 & 2021-01-24 19:22:51 & California Ave \\& Cortez St   & 17660        & Wood St \\& Augusta Blvd          & 657          & 41.90036 & -87.69670 & 41.89918 & -87.67220 & member\\\\\n\t 457C7F4B5D3DA135 & electric\\_bike & 2021-01-23 12:57:38 & 2021-01-23 13:02:10 & California Ave \\& Cortez St   & 17660        & California Ave \\& North Ave      & 13258        & 41.90041 & -87.69673 & 41.91044 & -87.69689 & member\\\\\n\t 57C750326F9FDABE & electric\\_bike & 2021-01-09 15:28:04 & 2021-01-09 15:37:51 & California Ave \\& Cortez St   & 17660        & Wood St \\& Augusta Blvd          & 657          & 41.90037 & -87.69669 & 41.89918 & -87.67218 & casual\\\\\n\t 4D518C65E338D070 & electric\\_bike & 2021-01-09 15:28:57 & 2021-01-09 15:37:54 & California Ave \\& Cortez St   & 17660        & Wood St \\& Augusta Blvd          & 657          & 41.90038 & -87.69672 & 41.89915 & -87.67218 & casual\\\\\n\t 9D08A3AFF410474D & classic\\_bike  & 2021-01-24 15:56:59 & 2021-01-24 16:07:08 & California Ave \\& Cortez St   & 17660        & Wood St \\& Augusta Blvd          & 657          & 41.90036 & -87.69670 & 41.89918 & -87.67220 & casual\\\\\n\t 49FCE1F8598F12C6 & electric\\_bike & 2021-01-22 15:15:28 & 2021-01-22 15:36:01 & California Ave \\& Cortez St   & 17660        & Wells St \\& Elm St               & KA1504000135 & 41.90037 & -87.69679 & 41.90327 & -87.63446 & member\\\\\n\t 0FEED5C2C8749A1C & classic\\_bike  & 2021-01-05 10:33:12 & 2021-01-05 10:39:12 & California Ave \\& Cortez St   & 17660        & Sacramento Blvd \\& Franklin Blvd & KA1504000113 & 41.90036 & -87.69670 & 41.89047 & -87.70261 & member\\\\\n\t E276FD43BDED6420 & classic\\_bike  & 2021-01-30 11:59:16 & 2021-01-30 12:03:44 & California Ave \\& Cortez St   & 17660        & Western Ave \\& Walton St         & KA1504000103 & 41.90036 & -87.69670 & 41.89842 & -87.68660 & member\\\\\n\t 88BFCF66C2D585EC & electric\\_bike & 2021-01-27 07:27:09 & 2021-01-27 07:45:32 & California Ave \\& Cortez St   & 17660        & Damen Ave \\& Clybourn Ave        & 13271        & 41.90031 & -87.69679 & 41.93184 & -87.67781 & member\\\\\n\t 8BD6F6510F5C8BD2 & electric\\_bike & 2021-01-15 08:54:41 & 2021-01-15 09:11:46 & California Ave \\& Cortez St   & 17660        & Damen Ave \\& Clybourn Ave        & 13271        & 41.90036 & -87.69663 & 41.93192 & -87.67786 & member\\\\\n\t 84F11CC620F83254 & electric\\_bike & 2021-01-10 08:05:47 & 2021-01-10 08:13:24 & California Ave \\& Cortez St   & 17660        & Leavitt St \\& North Ave          & TA1308000005 & 41.90040 & -87.69671 & 41.91012 & -87.68240 & casual\\\\\n\t C84E5DD4D74F4FC0 & electric\\_bike & 2021-01-18 13:30:07 & 2021-01-18 13:37:19 & California Ave \\& Cortez St   & 17660        & Leavitt St \\& North Ave          & TA1308000005 & 41.90041 & -87.69671 & 41.91015 & -87.68246 & casual\\\\\n\t 00AEF8EE4622147F & electric\\_bike & 2021-01-07 09:45:00 & 2021-01-07 09:52:30 & California Ave \\& Cortez St   & 17660        & Leavitt St \\& North Ave          & TA1308000005 & 41.90041 & -87.69685 & 41.91013 & -87.68244 & casual\\\\\n\t 55DAB9E709B61EA5 & classic\\_bike  & 2021-01-11 11:20:38 & 2021-01-11 11:29:33 & California Ave \\& Cortez St   & 17660        & Leavitt St \\& North Ave          & TA1308000005 & 41.90036 & -87.69670 & 41.91051 & -87.68239 & casual\\\\\n\t 3E41D6E4EFE87DD9 & classic\\_bike  & 2021-01-22 21:54:15 & 2021-01-22 22:04:27 & California Ave \\& Cortez St   & 17660        & Honore St \\& Division St         & TA1305000034 & 41.90036 & -87.69670 & 41.90312 & -87.67394 & casual\\\\\n\t FCE0D29EB2DF84DA & electric\\_bike & 2021-01-16 01:05:07 & 2021-01-16 01:19:43 & California Ave \\& Cortez St   & 17660        & Ogden Ave \\& Chicago Ave         & TA1305000020 & 41.90031 & -87.69683 & 41.89636 & -87.65421 & casual\\\\\n\t 77E53236C1F0EA3F & classic\\_bike  & 2021-01-28 20:35:56 & 2021-01-28 21:06:32 & Halsted St \\& North Branch St & KA1504000117 & Southport Ave \\& Clark St        & TA1308000047 & 41.89937 & -87.64848 & 41.95708 & -87.66420 & member\\\\\n\t 72335684BF7A0943 & electric\\_bike & 2021-01-09 00:35:55 & 2021-01-09 00:43:55 & Halsted St \\& North Branch St & KA1504000117 & Bissell St \\& Armitage Ave       & 13059        & 41.89936 & -87.64849 & 41.91799 & -87.65250 & member\\\\\n\t 625DDA8DCCCCB3E2 & classic\\_bike  & 2021-01-17 15:07:57 & 2021-01-17 15:20:54 & Glenwood Ave \\& Touhy Ave     & 525          & Broadway \\& Granville Ave        & 15571        & 42.01270 & -87.66606 & 41.99478 & -87.66028 & member\\\\\n\t 61C6977EA354684C & electric\\_bike & 2021-01-25 15:39:54 & 2021-01-25 15:52:11 & Halsted St \\& North Branch St & KA1504000117 & Clark St \\& Lincoln Ave          & 13179        & 41.89933 & -87.64847 & 41.91576 & -87.63480 & member\\\\\n\t 07F1F6A27AB0436E & classic\\_bike  & 2021-01-11 15:32:41 & 2021-01-11 15:35:26 & California Ave \\& Cortez St   & 17660        & California Ave \\& Division St    & 13256        & 41.90036 & -87.69670 & 41.90303 & -87.69747 & member\\\\\n\t ⋮ & ⋮ & ⋮ & ⋮ & ⋮ & ⋮ & ⋮ & ⋮ & ⋮ & ⋮ & ⋮ & ⋮ & ⋮\\\\\n\t 16F69B146347EFA9 & classic\\_bike  & 2021-12-04 18:08:54 & 2021-12-04 18:18:11 & Winthrop Ave \\& Lawrence Ave    & TA1308000021 & Damen Ave \\& Sunnyside Ave   & TA1309000012 & 41.96881 & -87.65766 & 41.96325 & -87.67926 & member\\\\\n\t A826EF8672C13219 & classic\\_bike  & 2021-12-04 08:55:37 & 2021-12-04 09:03:11 & Clark St \\& Schiller St         & TA1309000024 & Lincoln Park Conservatory   & LP-          & 41.90799 & -87.63150 & 41.92393 & -87.63582 & member\\\\\n\t 65CF5A2AE0315E42 & classic\\_bike  & 2021-12-27 17:35:25 & 2021-12-27 17:58:14 & Sheridan Rd \\& Montrose Ave     & TA1307000107 & Lincoln Park Conservatory   & LP-          & 41.96167 & -87.65464 & 41.92393 & -87.63582 & member\\\\\n\t 0895B9FF3614A57C & docked\\_bike   & 2021-12-09 21:59:12 & 2021-12-09 22:09:51 & Wabash Ave \\& 16th St           & SL-012       & State St \\& Harrison St      & SL-007       & 41.86038 & -87.62581 & 41.87405 & -87.62772 & casual\\\\\n\t 9108B70FA744A74A & electric\\_bike & 2021-12-16 23:32:51 & 2021-12-16 23:39:11 & Peoria St \\& Jackson Blvd       & 13158        & Racine Ave \\& 15th St        & 13304        & 41.87762 & -87.64935 & 41.86127 & -87.65663 & member\\\\\n\t FBF9CD2D3DD2BE5B & electric\\_bike & 2021-12-01 22:20:38 & 2021-12-01 22:25:59 & Peoria St \\& Jackson Blvd       & 13158        & Racine Ave \\& 15th St        & 13304        & 41.87754 & -87.64949 & 41.86125 & -87.65664 & member\\\\\n\t 16732303CA60B23B & electric\\_bike & 2021-12-11 10:06:17 & 2021-12-11 10:06:34 & Damen Ave \\& Sunnyside Ave      & TA1309000012 & Damen Ave \\& Sunnyside Ave   & TA1309000012 & 41.96329 & -87.67927 & 41.96325 & -87.67926 & casual\\\\\n\t 431890135BCDFFCD & classic\\_bike  & 2021-12-14 17:49:16 & 2021-12-14 18:02:43 & Broadway \\& Cornelia Ave        & 13278        & Lincoln Park Conservatory   & LP-          & 41.94553 & -87.64644 & 41.92393 & -87.63582 & member\\\\\n\t 22DE9719A8E04A77 & classic\\_bike  & 2021-12-20 18:06:49 & 2021-12-20 18:23:26 & Wells St \\& Hubbard St          & TA1307000151 & State St \\& Harrison St      & SL-007       & 41.88991 & -87.63427 & 41.87405 & -87.62772 & casual\\\\\n\t 0D1E9F2B92566BA1 & electric\\_bike & 2021-12-15 12:09:17 & 2021-12-15 12:24:54 & Wells St \\& Hubbard St          & TA1307000151 & Racine Ave \\& 15th St        & 13304        & 41.88998 & -87.63430 & 41.86127 & -87.65663 & member\\\\\n\t 7F774EDC64D82CBD & classic\\_bike  & 2021-12-03 01:50:23 & 2021-12-03 02:06:14 & LaSalle Dr \\& Huron St          & KP1705001026 & Lincoln Park Conservatory   & LP-          & 41.89488 & -87.63233 & 41.92393 & -87.63582 & member\\\\\n\t A8292DF24FBDC31F & classic\\_bike  & 2021-12-04 09:02:17 & 2021-12-04 09:09:46 & Clark St \\& Schiller St         & TA1309000024 & Lincoln Park Conservatory   & LP-          & 41.90799 & -87.63150 & 41.92393 & -87.63582 & member\\\\\n\t 330C8D21AB310516 & electric\\_bike & 2021-12-13 11:19:46 & 2021-12-13 11:26:31 & Clark St \\& Schiller St         & TA1309000024 & Lincoln Park Conservatory   & LP-          & 41.90792 & -87.63162 & 41.92393 & -87.63582 & casual\\\\\n\t 9620EBD63FC1C2EF & electric\\_bike & 2021-12-18 16:37:11 & 2021-12-18 16:59:14 & Milwaukee Ave \\& Grand Ave      & 13033        & State St \\& Harrison St      & SL-007       & 41.89160 & -87.64823 & 41.87405 & -87.62772 & casual\\\\\n\t B6404BB2035684DF & electric\\_bike & 2021-12-04 13:31:42 & 2021-12-04 13:38:19 & Ashland Ave \\& 13th St          & 13354        & Racine Ave \\& 15th St        & 13304        & 41.86526 & -87.66654 & 41.86127 & -87.65664 & member\\\\\n\t 968D60ECAD55BDBC & classic\\_bike  & 2021-12-06 12:35:13 & 2021-12-06 12:43:48 & Ashland Ave \\& 13th St          & 13354        & Racine Ave \\& 15th St        & 13304        & 41.86523 & -87.66651 & 41.86127 & -87.65663 & member\\\\\n\t D01B0992F10BB9FD & classic\\_bike  & 2021-12-31 15:46:26 & 2021-12-31 15:53:34 & Michigan Ave \\& 14th St         & TA1307000124 & State St \\& Harrison St      & SL-007       & 41.86406 & -87.62373 & 41.87405 & -87.62772 & member\\\\\n\t 9ADBA4AFFF567E2E & classic\\_bike  & 2021-12-01 06:14:26 & 2021-12-01 06:34:27 & Ashland Ave \\& 13th St          & 13354        & Racine Ave \\& 15th St        & 13304        & 41.86523 & -87.66651 & 41.86127 & -87.65663 & member\\\\\n\t C9BEFF28FC28AB16 & electric\\_bike & 2021-12-01 12:21:04 & 2021-12-01 12:37:32 & Wells St \\& 19th St             & SL-006       & State St \\& Harrison St      & SL-007       & 41.85678 & -87.63376 & 41.87406 & -87.62761 & casual\\\\\n\t 9CB69429BEC6E514 & classic\\_bike  & 2021-12-14 15:45:14 & 2021-12-14 15:59:42 & Wells St \\& 19th St             & SL-006       & State St \\& Harrison St      & SL-007       & 41.85680 & -87.63388 & 41.87405 & -87.62772 & member\\\\\n\t 8AC98A4909917CFF & electric\\_bike & 2021-12-21 16:07:11 & 2021-12-21 16:10:13 & Western Ave \\& Leland Ave       & TA1307000140 & Damen Ave \\& Sunnyside Ave   & TA1309000012 & 41.96645 & -87.68869 & 41.96325 & -87.67926 & member\\\\\n\t 20C5F174BCE0F327 & classic\\_bike  & 2021-12-31 04:43:38 & 2021-12-31 05:11:37 & Wells St \\& 19th St             & SL-006       & State St \\& Harrison St      & SL-007       & 41.85680 & -87.63388 & 41.87405 & -87.62772 & casual\\\\\n\t F49BF664C66FA934 & electric\\_bike & 2021-12-09 20:50:41 & 2021-12-09 21:09:23 & Ashland Ave \\& Division St      & 13061        & Racine Ave \\& 15th St        & 13304        & 41.90360 & -87.66795 & 41.86127 & -87.65663 & member\\\\\n\t 7E21820E8C171AF8 & electric\\_bike & 2021-12-03 19:36:08 & 2021-12-03 19:47:26 & Michigan Ave \\& 14th St         & TA1307000124 & Racine Ave \\& 15th St        & 13304        & 41.86437 & -87.62362 & 41.86131 & -87.65630 & member\\\\\n\t E49DFCD750EFF0E7 & classic\\_bike  & 2021-12-15 14:56:32 & 2021-12-15 15:10:16 & Wells St \\& 19th St             & SL-006       & State St \\& Harrison St      & SL-007       & 41.85680 & -87.63388 & 41.87405 & -87.62772 & member\\\\\n\t D918694B7D795B04 & electric\\_bike & 2021-12-13 17:42:39 & 2021-12-13 18:15:50 & Sheffield Ave \\& Kingsbury St   & 13154        & Oakley Ave \\& Irving Park Rd & KA1504000158 & 41.91064 & -87.65318 & 41.95434 & -87.68608 & member\\\\\n\t 6F223111CFB46D19 & electric\\_bike & 2021-12-02 21:08:36 & 2021-12-02 21:12:54 & State St \\& Randolph St         & TA1305000029 & State St \\& Harrison St      & SL-007       & 41.88478 & -87.62803 & 41.87449 & -87.62743 & member\\\\\n\t 3F159579A30FFE0D & electric\\_bike & 2021-12-20 21:28:55 & 2021-12-20 22:03:57 & Theater on the Lake            & TA1308000001 & State St \\& Harrison St      & SL-007       & 41.92628 & -87.63113 & 41.87405 & -87.62772 & casual\\\\\n\t 049979697E40C124 & classic\\_bike  & 2021-12-12 00:15:44 & 2021-12-12 00:19:03 & Lincoln Ave \\& Belle Plaine Ave & TA1309000026 & Oakley Ave \\& Irving Park Rd & KA1504000158 & 41.95600 & -87.68016 & 41.95434 & -87.68608 & member\\\\\n\t 0ABEA3232BDA9CF5 & electric\\_bike & 2021-12-19 23:49:31 & 2021-12-19 23:51:32 & Lincoln Ave \\& Belle Plaine Ave & TA1309000026 & Oakley Ave \\&                &              &       NA &        NA &       NA &        NA &       \\\\\n\\end{tabular}\n"
          },
          "metadata": {}
        }
      ],
      "source": [
        "View(trips_fill)"
      ]
    },
    {
      "cell_type": "code",
      "execution_count": null,
      "metadata": {
        "id": "wsbbXVhMPtsV"
      },
      "outputs": [],
      "source": [
        "\n",
        "trips_fill <- trips_fill %>%\n",
        "  select(-c(start_lat, start_lng, end_lat, end_lng, start_station_id,end_station_id, end_station_name))\n",
        "\n"
      ]
    },
    {
      "cell_type": "code",
      "source": [
        "colnames(trips_fill)  #List of column names\n",
        "nrow(trips_fill)  #How many rows are in data frame?\n",
        "dim(trips_fill)\n",
        "str(trips_fill)"
      ],
      "metadata": {
        "colab": {
          "base_uri": "https://localhost:8080/",
          "height": 191
        },
        "id": "qWV-su5VIEiO",
        "outputId": "90b39508-a1b3-45ed-b446-7ec2bc89562d"
      },
      "execution_count": null,
      "outputs": [
        {
          "output_type": "display_data",
          "data": {
            "text/html": [
              "<style>\n",
              ".list-inline {list-style: none; margin:0; padding: 0}\n",
              ".list-inline>li {display: inline-block}\n",
              ".list-inline>li:not(:last-child)::after {content: \"\\00b7\"; padding: 0 .5ex}\n",
              "</style>\n",
              "<ol class=list-inline><li>'ride_id'</li><li>'rideable_type'</li><li>'started_at'</li><li>'ended_at'</li><li>'start_station_name'</li><li>'member_casual'</li></ol>\n"
            ],
            "text/markdown": "1. 'ride_id'\n2. 'rideable_type'\n3. 'started_at'\n4. 'ended_at'\n5. 'start_station_name'\n6. 'member_casual'\n\n\n",
            "text/latex": "\\begin{enumerate*}\n\\item 'ride\\_id'\n\\item 'rideable\\_type'\n\\item 'started\\_at'\n\\item 'ended\\_at'\n\\item 'start\\_station\\_name'\n\\item 'member\\_casual'\n\\end{enumerate*}\n",
            "text/plain": [
              "[1] \"ride_id\"            \"rideable_type\"      \"started_at\"        \n",
              "[4] \"ended_at\"           \"start_station_name\" \"member_casual\"     "
            ]
          },
          "metadata": {}
        },
        {
          "output_type": "display_data",
          "data": {
            "text/html": [
              "3412300"
            ],
            "text/markdown": "3412300",
            "text/latex": "3412300",
            "text/plain": [
              "[1] 3412300"
            ]
          },
          "metadata": {}
        },
        {
          "output_type": "display_data",
          "data": {
            "text/html": [
              "<style>\n",
              ".list-inline {list-style: none; margin:0; padding: 0}\n",
              ".list-inline>li {display: inline-block}\n",
              ".list-inline>li:not(:last-child)::after {content: \"\\00b7\"; padding: 0 .5ex}\n",
              "</style>\n",
              "<ol class=list-inline><li>3412300</li><li>6</li></ol>\n"
            ],
            "text/markdown": "1. 3412300\n2. 6\n\n\n",
            "text/latex": "\\begin{enumerate*}\n\\item 3412300\n\\item 6\n\\end{enumerate*}\n",
            "text/plain": [
              "[1] 3412300       6"
            ]
          },
          "metadata": {}
        },
        {
          "output_type": "stream",
          "name": "stdout",
          "text": [
            "'data.frame':\t3412300 obs. of  6 variables:\n",
            " $ ride_id           : chr  \"E19E6F1B8D4C42ED\" \"DC88F20C2C55F27F\" \"EC45C94683FE3F27\" \"4FA453A75AE377DB\" ...\n",
            " $ rideable_type     : chr  \"electric_bike\" \"electric_bike\" \"electric_bike\" \"electric_bike\" ...\n",
            " $ started_at        : chr  \"2021-01-23 16:14:19\" \"2021-01-27 18:43:08\" \"2021-01-21 22:35:54\" \"2021-01-07 13:31:13\" ...\n",
            " $ ended_at          : chr  \"2021-01-23 16:24:44\" \"2021-01-27 18:47:12\" \"2021-01-21 22:37:14\" \"2021-01-07 13:42:55\" ...\n",
            " $ start_station_name: chr  \"California Ave & Cortez St\" \"California Ave & Cortez St\" \"California Ave & Cortez St\" \"California Ave & Cortez St\" ...\n",
            " $ member_casual     : chr  \"member\" \"member\" \"member\" \"member\" ...\n"
          ]
        }
      ]
    },
    {
      "cell_type": "code",
      "source": [
        "trips_fill$date <- as.Date(trips_fill$started_at)\n",
        "trips_fill$month <- format(as.Date(trips_fill$date), \"%m\")\n",
        "trips_fill$day <- format(as.Date(trips_fill$date), \"%d\")\n",
        "trips_fill$year <- format(as.Date(trips_fill$date), \"%Y\")\n",
        "trips_fill$day_of_week <- format(as.Date(trips_fill$date), \"%A\")\n",
        "trips_fill$time <- format(trips_fill$started_at, format= \"%H:%M\")\n",
        "trips_fill$time <- as.POSIXct(trips_fill$time, format= \"%H:%M\")"
      ],
      "metadata": {
        "id": "9b_Se-ZSIYol"
      },
      "execution_count": null,
      "outputs": []
    },
    {
      "cell_type": "code",
      "source": [
        "summary(trips_fill)"
      ],
      "metadata": {
        "colab": {
          "base_uri": "https://localhost:8080/",
          "height": 434
        },
        "id": "UDxmFv0QLDLV",
        "outputId": "fc6ca978-f4a2-4189-c31d-2b388af18331"
      },
      "execution_count": null,
      "outputs": [
        {
          "output_type": "display_data",
          "data": {
            "text/plain": [
              "   ride_id          rideable_type       started_at          ended_at        \n",
              " Length:3412300     Length:3412300     Length:3412300     Length:3412300    \n",
              " Class :character   Class :character   Class :character   Class :character  \n",
              " Mode  :character   Mode  :character   Mode  :character   Mode  :character  \n",
              "                                                                            \n",
              "                                                                            \n",
              "                                                                            \n",
              "                                                                            \n",
              " start_station_name member_casual           date               month          \n",
              " Length:3412300     Length:3412300     Min.   :2021-01-01   Length:3412300    \n",
              " Class :character   Class :character   1st Qu.:2021-05-11   Class :character  \n",
              " Mode  :character   Mode  :character   Median :2021-06-20   Mode  :character  \n",
              "                                       Mean   :2021-06-28                     \n",
              "                                       3rd Qu.:2021-08-20                     \n",
              "                                       Max.   :2021-12-31                     \n",
              "                                       NA's   :1                              \n",
              "     day                year           day_of_week             time        \n",
              " Length:3412300     Length:3412300     Length:3412300     Min.   :NA       \n",
              " Class :character   Class :character   Class :character   1st Qu.:NA       \n",
              " Mode  :character   Mode  :character   Mode  :character   Median :NA       \n",
              "                                                          Mean   :NaN      \n",
              "                                                          3rd Qu.:NA       \n",
              "                                                          Max.   :NA       \n",
              "                                                          NA's   :3412300  "
            ]
          },
          "metadata": {}
        }
      ]
    },
    {
      "cell_type": "code",
      "execution_count": null,
      "metadata": {
        "id": "0A98LhgcQKtF"
      },
      "outputs": [],
      "source": [
        "#create a new column named ride_length which calculate the ride duration(difference between start time and end time)\n",
        "#trips_fill$ride_length <- (as.double(difftime(trips_fill$ended_at, trips_fill$started_at))) /60\n",
        "\n",
        "# Assuming the date/time format is \"%Y-%m-%d %H:%M:%S\" (e.g., \"2023-08-01 12:34:56\")\n",
        "trips_fill$ended_at <- as.POSIXct(trips_fill$ended_at, format = \"%Y-%m-%d %H:%M:%S\")\n",
        "trips_fill$started_at <- as.POSIXct(trips_fill$started_at, format = \"%Y-%m-%d %H:%M:%S\")\n",
        "\n",
        "# Calculate the ride length in minutes\n",
        "trips_fill$ride_length <- as.numeric(difftime(trips_fill$ended_at, trips_fill$started_at, units = \"mins\"))\n",
        "\n",
        "\n",
        "\n"
      ]
    },
    {
      "cell_type": "code",
      "source": [
        "trips_fill$ride_length <- as.numeric(as.character(trips_fill$ride_length))"
      ],
      "metadata": {
        "id": "X82sYw9d1dc4"
      },
      "execution_count": null,
      "outputs": []
    },
    {
      "cell_type": "code",
      "source": [
        "#Remove blank entries\n",
        "trips_fill<- trips_fill[!(trips_fill$start_station_name == \"HQ QR\" | trips_fill$ride_length<0),]"
      ],
      "metadata": {
        "id": "fvQmgPig0czq"
      },
      "execution_count": null,
      "outputs": []
    },
    {
      "cell_type": "code",
      "source": [
        "summary(trips_fill$ride_length)"
      ],
      "metadata": {
        "colab": {
          "base_uri": "https://localhost:8080/",
          "height": 52
        },
        "id": "0KyM58HVRnIN",
        "outputId": "4010e1ca-a5aa-46e3-ec50-b8a6cabb0de5"
      },
      "execution_count": null,
      "outputs": [
        {
          "output_type": "display_data",
          "data": {
            "text/plain": [
              "    Min.  1st Qu.   Median     Mean  3rd Qu.     Max.     NA's \n",
              "    0.00     7.03    12.47    23.03    22.63 55944.15        1 "
            ]
          },
          "metadata": {}
        }
      ]
    },
    {
      "cell_type": "markdown",
      "metadata": {
        "id": "DkfgQMuVQT-2"
      },
      "source": [
        "\n",
        "###Guiding Questions\n",
        "What tools are you choosing and why?\n",
        "\n",
        "I have chosen to utilize R for this project  due to the substantial size of the dataset and R provides robust capabilities for handling and analyzing large amounts of data.\n",
        "\n",
        "Have you ensured your data’s integrity?\n",
        "\n",
        "Indeed, the data remains consistent across all the columns.\n",
        "\n",
        "What steps have you taken to ensure that your data is clean?\n",
        "\n",
        "The initial step involved the removal of duplicated values, followed by the formatting of the columns to their accurate representations.\n",
        "\n",
        "### Key tasks\n",
        "1. Check the data for errors.\n",
        "2. Choose your tools.\n",
        "3. Transform the data so you can work with it effectively.\n",
        "4. Document the cleaning process.\n",
        "\n",
        "###Deliverable\n",
        "Documentation of any cleaning or manipulation of data\n",
        "\n",
        "\n",
        "  "
      ]
    },
    {
      "cell_type": "markdown",
      "metadata": {
        "id": "4TXeoSgPXAww"
      },
      "source": [
        "PHASE 4 - ANALYZE\n",
        "\n",
        "The Analyze step is where you will use statistical methods to test hypotheses and draw conclusions. This is where you will use visualizations, reports, or presentations to communicate your findings."
      ]
    },
    {
      "cell_type": "code",
      "execution_count": null,
      "metadata": {
        "id": "SWqXtznOWQ_Y",
        "colab": {
          "base_uri": "https://localhost:8080/",
          "height": 946
        },
        "outputId": "9e078024-087e-4d53-9e3e-2f52316fa0b0"
      },
      "outputs": [
        {
          "output_type": "display_data",
          "data": {
            "text/html": [
              "<table class=\"dataframe\">\n",
              "<caption>A data.frame: 6 × 13</caption>\n",
              "<thead>\n",
              "\t<tr><th></th><th scope=col>ride_id</th><th scope=col>rideable_type</th><th scope=col>started_at</th><th scope=col>ended_at</th><th scope=col>start_station_name</th><th scope=col>member_casual</th><th scope=col>date</th><th scope=col>month</th><th scope=col>day</th><th scope=col>year</th><th scope=col>day_of_week</th><th scope=col>time</th><th scope=col>ride_length</th></tr>\n",
              "\t<tr><th></th><th scope=col>&lt;chr&gt;</th><th scope=col>&lt;chr&gt;</th><th scope=col>&lt;dttm&gt;</th><th scope=col>&lt;dttm&gt;</th><th scope=col>&lt;chr&gt;</th><th scope=col>&lt;chr&gt;</th><th scope=col>&lt;date&gt;</th><th scope=col>&lt;chr&gt;</th><th scope=col>&lt;chr&gt;</th><th scope=col>&lt;chr&gt;</th><th scope=col>&lt;chr&gt;</th><th scope=col>&lt;dttm&gt;</th><th scope=col>&lt;dbl&gt;</th></tr>\n",
              "</thead>\n",
              "<tbody>\n",
              "\t<tr><th scope=row>1</th><td>E19E6F1B8D4C42ED</td><td>electric_bike</td><td>2021-01-23 16:14:19</td><td>2021-01-23 16:24:44</td><td>California Ave &amp; Cortez St</td><td>member</td><td>2021-01-23</td><td>01</td><td>23</td><td>2021</td><td>Saturday </td><td>NA</td><td>10.4166667</td></tr>\n",
              "\t<tr><th scope=row>2</th><td>DC88F20C2C55F27F</td><td>electric_bike</td><td>2021-01-27 18:43:08</td><td>2021-01-27 18:47:12</td><td>California Ave &amp; Cortez St</td><td>member</td><td>2021-01-27</td><td>01</td><td>27</td><td>2021</td><td>Wednesday</td><td>NA</td><td> 4.0666667</td></tr>\n",
              "\t<tr><th scope=row>3</th><td>EC45C94683FE3F27</td><td>electric_bike</td><td>2021-01-21 22:35:54</td><td>2021-01-21 22:37:14</td><td>California Ave &amp; Cortez St</td><td>member</td><td>2021-01-21</td><td>01</td><td>21</td><td>2021</td><td>Thursday </td><td>NA</td><td> 1.3333333</td></tr>\n",
              "\t<tr><th scope=row>4</th><td>4FA453A75AE377DB</td><td>electric_bike</td><td>2021-01-07 13:31:13</td><td>2021-01-07 13:42:55</td><td>California Ave &amp; Cortez St</td><td>member</td><td>2021-01-07</td><td>01</td><td>07</td><td>2021</td><td>Thursday </td><td>NA</td><td>11.7000000</td></tr>\n",
              "\t<tr><th scope=row>5</th><td>BE5E8EB4E7263A0B</td><td>electric_bike</td><td>2021-01-23 02:24:02</td><td>2021-01-23 02:24:45</td><td>California Ave &amp; Cortez St</td><td>casual</td><td>2021-01-23</td><td>01</td><td>23</td><td>2021</td><td>Saturday </td><td>NA</td><td> 0.7166667</td></tr>\n",
              "\t<tr><th scope=row>6</th><td>5D8969F88C773979</td><td>electric_bike</td><td>2021-01-09 14:24:07</td><td>2021-01-09 15:17:54</td><td>California Ave &amp; Cortez St</td><td>casual</td><td>2021-01-09</td><td>01</td><td>09</td><td>2021</td><td>Saturday </td><td>NA</td><td>53.7833333</td></tr>\n",
              "</tbody>\n",
              "</table>\n"
            ],
            "text/markdown": "\nA data.frame: 6 × 13\n\n| <!--/--> | ride_id &lt;chr&gt; | rideable_type &lt;chr&gt; | started_at &lt;dttm&gt; | ended_at &lt;dttm&gt; | start_station_name &lt;chr&gt; | member_casual &lt;chr&gt; | date &lt;date&gt; | month &lt;chr&gt; | day &lt;chr&gt; | year &lt;chr&gt; | day_of_week &lt;chr&gt; | time &lt;dttm&gt; | ride_length &lt;dbl&gt; |\n|---|---|---|---|---|---|---|---|---|---|---|---|---|---|\n| 1 | E19E6F1B8D4C42ED | electric_bike | 2021-01-23 16:14:19 | 2021-01-23 16:24:44 | California Ave &amp; Cortez St | member | 2021-01-23 | 01 | 23 | 2021 | Saturday  | NA | 10.4166667 |\n| 2 | DC88F20C2C55F27F | electric_bike | 2021-01-27 18:43:08 | 2021-01-27 18:47:12 | California Ave &amp; Cortez St | member | 2021-01-27 | 01 | 27 | 2021 | Wednesday | NA |  4.0666667 |\n| 3 | EC45C94683FE3F27 | electric_bike | 2021-01-21 22:35:54 | 2021-01-21 22:37:14 | California Ave &amp; Cortez St | member | 2021-01-21 | 01 | 21 | 2021 | Thursday  | NA |  1.3333333 |\n| 4 | 4FA453A75AE377DB | electric_bike | 2021-01-07 13:31:13 | 2021-01-07 13:42:55 | California Ave &amp; Cortez St | member | 2021-01-07 | 01 | 07 | 2021 | Thursday  | NA | 11.7000000 |\n| 5 | BE5E8EB4E7263A0B | electric_bike | 2021-01-23 02:24:02 | 2021-01-23 02:24:45 | California Ave &amp; Cortez St | casual | 2021-01-23 | 01 | 23 | 2021 | Saturday  | NA |  0.7166667 |\n| 6 | 5D8969F88C773979 | electric_bike | 2021-01-09 14:24:07 | 2021-01-09 15:17:54 | California Ave &amp; Cortez St | casual | 2021-01-09 | 01 | 09 | 2021 | Saturday  | NA | 53.7833333 |\n\n",
            "text/latex": "A data.frame: 6 × 13\n\\begin{tabular}{r|lllllllllllll}\n  & ride\\_id & rideable\\_type & started\\_at & ended\\_at & start\\_station\\_name & member\\_casual & date & month & day & year & day\\_of\\_week & time & ride\\_length\\\\\n  & <chr> & <chr> & <dttm> & <dttm> & <chr> & <chr> & <date> & <chr> & <chr> & <chr> & <chr> & <dttm> & <dbl>\\\\\n\\hline\n\t1 & E19E6F1B8D4C42ED & electric\\_bike & 2021-01-23 16:14:19 & 2021-01-23 16:24:44 & California Ave \\& Cortez St & member & 2021-01-23 & 01 & 23 & 2021 & Saturday  & NA & 10.4166667\\\\\n\t2 & DC88F20C2C55F27F & electric\\_bike & 2021-01-27 18:43:08 & 2021-01-27 18:47:12 & California Ave \\& Cortez St & member & 2021-01-27 & 01 & 27 & 2021 & Wednesday & NA &  4.0666667\\\\\n\t3 & EC45C94683FE3F27 & electric\\_bike & 2021-01-21 22:35:54 & 2021-01-21 22:37:14 & California Ave \\& Cortez St & member & 2021-01-21 & 01 & 21 & 2021 & Thursday  & NA &  1.3333333\\\\\n\t4 & 4FA453A75AE377DB & electric\\_bike & 2021-01-07 13:31:13 & 2021-01-07 13:42:55 & California Ave \\& Cortez St & member & 2021-01-07 & 01 & 07 & 2021 & Thursday  & NA & 11.7000000\\\\\n\t5 & BE5E8EB4E7263A0B & electric\\_bike & 2021-01-23 02:24:02 & 2021-01-23 02:24:45 & California Ave \\& Cortez St & casual & 2021-01-23 & 01 & 23 & 2021 & Saturday  & NA &  0.7166667\\\\\n\t6 & 5D8969F88C773979 & electric\\_bike & 2021-01-09 14:24:07 & 2021-01-09 15:17:54 & California Ave \\& Cortez St & casual & 2021-01-09 & 01 & 09 & 2021 & Saturday  & NA & 53.7833333\\\\\n\\end{tabular}\n",
            "text/plain": [
              "  ride_id          rideable_type started_at          ended_at           \n",
              "1 E19E6F1B8D4C42ED electric_bike 2021-01-23 16:14:19 2021-01-23 16:24:44\n",
              "2 DC88F20C2C55F27F electric_bike 2021-01-27 18:43:08 2021-01-27 18:47:12\n",
              "3 EC45C94683FE3F27 electric_bike 2021-01-21 22:35:54 2021-01-21 22:37:14\n",
              "4 4FA453A75AE377DB electric_bike 2021-01-07 13:31:13 2021-01-07 13:42:55\n",
              "5 BE5E8EB4E7263A0B electric_bike 2021-01-23 02:24:02 2021-01-23 02:24:45\n",
              "6 5D8969F88C773979 electric_bike 2021-01-09 14:24:07 2021-01-09 15:17:54\n",
              "  start_station_name         member_casual date       month day year\n",
              "1 California Ave & Cortez St member        2021-01-23 01    23  2021\n",
              "2 California Ave & Cortez St member        2021-01-27 01    27  2021\n",
              "3 California Ave & Cortez St member        2021-01-21 01    21  2021\n",
              "4 California Ave & Cortez St member        2021-01-07 01    07  2021\n",
              "5 California Ave & Cortez St casual        2021-01-23 01    23  2021\n",
              "6 California Ave & Cortez St casual        2021-01-09 01    09  2021\n",
              "  day_of_week time ride_length\n",
              "1 Saturday    <NA> 10.4166667 \n",
              "2 Wednesday   <NA>  4.0666667 \n",
              "3 Thursday    <NA>  1.3333333 \n",
              "4 Thursday    <NA> 11.7000000 \n",
              "5 Saturday    <NA>  0.7166667 \n",
              "6 Saturday    <NA> 53.7833333 "
            ]
          },
          "metadata": {}
        },
        {
          "output_type": "display_data",
          "data": {
            "text/plain": [
              "   ride_id          rideable_type        started_at                    \n",
              " Length:3412221     Length:3412221     Min.   :2021-01-01 00:02:05.00  \n",
              " Class :character   Class :character   1st Qu.:2021-05-11 15:02:03.00  \n",
              " Mode  :character   Mode  :character   Median :2021-06-20 15:31:47.50  \n",
              "                                       Mean   :2021-06-28 16:51:36.89  \n",
              "                                       3rd Qu.:2021-08-20 15:51:58.00  \n",
              "                                       Max.   :2021-12-31 23:59:39.00  \n",
              "                                       NA's   :1                       \n",
              "    ended_at                      start_station_name member_casual     \n",
              " Min.   :2021-01-01 00:08:39.00   Length:3412221     Length:3412221    \n",
              " 1st Qu.:2021-05-11 15:20:23.00   Class :character   Class :character  \n",
              " Median :2021-06-20 16:01:48.50   Mode  :character   Mode  :character  \n",
              " Mean   :2021-06-28 17:14:38.67                                        \n",
              " 3rd Qu.:2021-08-20 16:17:12.00                                        \n",
              " Max.   :2022-01-03 13:40:26.00                                        \n",
              " NA's   :1                                                             \n",
              "      date               month               day                year          \n",
              " Min.   :2021-01-01   Length:3412221     Length:3412221     Length:3412221    \n",
              " 1st Qu.:2021-05-11   Class :character   Class :character   Class :character  \n",
              " Median :2021-06-20   Mode  :character   Mode  :character   Mode  :character  \n",
              " Mean   :2021-06-28                                                           \n",
              " 3rd Qu.:2021-08-20                                                           \n",
              " Max.   :2021-12-31                                                           \n",
              " NA's   :1                                                                    \n",
              " day_of_week             time          ride_length      \n",
              " Length:3412221     Min.   :NA        Min.   :    0.00  \n",
              " Class :character   1st Qu.:NA        1st Qu.:    7.03  \n",
              " Mode  :character   Median :NA        Median :   12.47  \n",
              "                    Mean   :NaN       Mean   :   23.03  \n",
              "                    3rd Qu.:NA        3rd Qu.:   22.63  \n",
              "                    Max.   :NA        Max.   :55944.15  \n",
              "                    NA's   :3412221   NA's   :1         "
            ]
          },
          "metadata": {}
        }
      ],
      "source": [
        "head(trips_fill)\n",
        "summary(trips_fill)"
      ]
    },
    {
      "cell_type": "code",
      "source": [
        "df_filtered <- trips_fill[!(is.na(trips_fill$ride_id) | trips_fill$ride_id == \" \"), ]"
      ],
      "metadata": {
        "id": "n3d_ndtdTK5k"
      },
      "execution_count": null,
      "outputs": []
    },
    {
      "cell_type": "code",
      "source": [
        "summary(df_filtered)\n"
      ],
      "metadata": {
        "colab": {
          "base_uri": "https://localhost:8080/",
          "height": 573
        },
        "id": "v6_qsMkbTetB",
        "outputId": "5fb891f1-8320-4038-f934-981da5a1ab42"
      },
      "execution_count": null,
      "outputs": [
        {
          "output_type": "display_data",
          "data": {
            "text/plain": [
              "   ride_id          rideable_type        started_at                    \n",
              " Length:3412220     Length:3412220     Min.   :2021-01-01 00:02:05.00  \n",
              " Class :character   Class :character   1st Qu.:2021-05-11 15:02:03.00  \n",
              " Mode  :character   Mode  :character   Median :2021-06-20 15:31:47.50  \n",
              "                                       Mean   :2021-06-28 16:51:36.89  \n",
              "                                       3rd Qu.:2021-08-20 15:51:58.00  \n",
              "                                       Max.   :2021-12-31 23:59:39.00  \n",
              "                                                                       \n",
              "    ended_at                      start_station_name member_casual     \n",
              " Min.   :2021-01-01 00:08:39.00   Length:3412220     Length:3412220    \n",
              " 1st Qu.:2021-05-11 15:20:23.00   Class :character   Class :character  \n",
              " Median :2021-06-20 16:01:48.50   Mode  :character   Mode  :character  \n",
              " Mean   :2021-06-28 17:14:38.67                                        \n",
              " 3rd Qu.:2021-08-20 16:17:12.00                                        \n",
              " Max.   :2022-01-03 13:40:26.00                                        \n",
              "                                                                       \n",
              "      date               month               day                year          \n",
              " Min.   :2021-01-01   Length:3412220     Length:3412220     Length:3412220    \n",
              " 1st Qu.:2021-05-11   Class :character   Class :character   Class :character  \n",
              " Median :2021-06-20   Mode  :character   Mode  :character   Mode  :character  \n",
              " Mean   :2021-06-28                                                           \n",
              " 3rd Qu.:2021-08-20                                                           \n",
              " Max.   :2021-12-31                                                           \n",
              "                                                                              \n",
              " day_of_week             time          ride_length      \n",
              " Length:3412220     Min.   :NA        Min.   :    0.00  \n",
              " Class :character   1st Qu.:NA        1st Qu.:    7.03  \n",
              " Mode  :character   Median :NA        Median :   12.47  \n",
              "                    Mean   :NaN       Mean   :   23.03  \n",
              "                    3rd Qu.:NA        3rd Qu.:   22.63  \n",
              "                    Max.   :NA        Max.   :55944.15  \n",
              "                    NA's   :3412220                     "
            ]
          },
          "metadata": {}
        }
      ]
    },
    {
      "cell_type": "code",
      "source": [
        "#Remove blank value in member_casual cloumn\n",
        " df_filtered <- df_filtered %>%\n",
        "  filter(member_casual != \"\")"
      ],
      "metadata": {
        "id": "cXmDZWuJz2z_"
      },
      "execution_count": null,
      "outputs": []
    },
    {
      "cell_type": "code",
      "source": [
        "df_filtered %>%\n",
        "  group_by(member_casual) %>%\n",
        "  summarize(total=length(ride_id) , 'total_%' = (total/nrow(df_filtered))*100)"
      ],
      "metadata": {
        "id": "7d4iSCikrChu",
        "colab": {
          "base_uri": "https://localhost:8080/",
          "height": 161
        },
        "outputId": "b0c183d1-284d-430d-922c-8a610b3e9089"
      },
      "execution_count": null,
      "outputs": [
        {
          "output_type": "display_data",
          "data": {
            "text/html": [
              "<table class=\"dataframe\">\n",
              "<caption>A tibble: 2 × 3</caption>\n",
              "<thead>\n",
              "\t<tr><th scope=col>member_casual</th><th scope=col>total</th><th scope=col>total_%</th></tr>\n",
              "\t<tr><th scope=col>&lt;chr&gt;</th><th scope=col>&lt;int&gt;</th><th scope=col>&lt;dbl&gt;</th></tr>\n",
              "</thead>\n",
              "<tbody>\n",
              "\t<tr><td>casual</td><td>1535498</td><td>45.00005</td></tr>\n",
              "\t<tr><td>member</td><td>1876716</td><td>54.99995</td></tr>\n",
              "</tbody>\n",
              "</table>\n"
            ],
            "text/markdown": "\nA tibble: 2 × 3\n\n| member_casual &lt;chr&gt; | total &lt;int&gt; | total_% &lt;dbl&gt; |\n|---|---|---|\n| casual | 1535498 | 45.00005 |\n| member | 1876716 | 54.99995 |\n\n",
            "text/latex": "A tibble: 2 × 3\n\\begin{tabular}{lll}\n member\\_casual & total & total\\_\\%\\\\\n <chr> & <int> & <dbl>\\\\\n\\hline\n\t casual & 1535498 & 45.00005\\\\\n\t member & 1876716 & 54.99995\\\\\n\\end{tabular}\n",
            "text/plain": [
              "  member_casual total   total_% \n",
              "1 casual        1535498 45.00005\n",
              "2 member        1876716 54.99995"
            ]
          },
          "metadata": {}
        }
      ]
    },
    {
      "cell_type": "code",
      "source": [
        "\n",
        "# This function help to resize the plots\n",
        "fig <- function(width, heigth){options(repr.plot.width = width, repr.plot.height = heigth)}"
      ],
      "metadata": {
        "id": "qFxUF4SBWdMl"
      },
      "execution_count": null,
      "outputs": []
    },
    {
      "cell_type": "code",
      "source": [
        "fig(16,8)\n",
        "ggplot(df_filtered, aes(member_casual, fill=member_casual)) +\n",
        "    geom_bar() +\n",
        "    labs(x=\"Members_Casual\", title=\"graph_01 - Members_Casual Distribution\")"
      ],
      "metadata": {
        "colab": {
          "base_uri": "https://localhost:8080/",
          "height": 497
        },
        "id": "ip9LWCvyWNAi",
        "outputId": "e78bedae-b193-467d-c170-216f845037bf"
      },
      "execution_count": null,
      "outputs": [
        {
          "output_type": "display_data",
          "data": {
            "text/plain": [
              "plot without title"
            ],
            "image/png": "[encoded data removed]"
          },
          "metadata": {
            "image/png": {
              "width": 960,
              "height": 480
            }
          }
        }
      ]
    },
    {
      "cell_type": "code",
      "source": [
        "str(df_filtered)\n",
        "summary(df_filtered)"
      ],
      "metadata": {
        "colab": {
          "base_uri": "https://localhost:8080/",
          "height": 798
        },
        "id": "crK1aHkoCNMT",
        "outputId": "39348bd7-ab9a-42ac-fc52-ace70a04a4a1"
      },
      "execution_count": null,
      "outputs": [
        {
          "output_type": "stream",
          "name": "stdout",
          "text": [
            "'data.frame':\t3412214 obs. of  12 variables:\n",
            " $ ride_id           : chr  \"E19E6F1B8D4C42ED\" \"DC88F20C2C55F27F\" \"EC45C94683FE3F27\" \"4FA453A75AE377DB\" ...\n",
            " $ rideable_type     : chr  \"electric_bike\" \"electric_bike\" \"electric_bike\" \"electric_bike\" ...\n",
            " $ started_at        : POSIXct, format: \"2021-01-23 16:14:19\" \"2021-01-27 18:43:08\" ...\n",
            " $ ended_at          : POSIXct, format: \"2021-01-23 16:24:44\" \"2021-01-27 18:47:12\" ...\n",
            " $ start_station_name: chr  \"California Ave & Cortez St\" \"California Ave & Cortez St\" \"California Ave & Cortez St\" \"California Ave & Cortez St\" ...\n",
            " $ member_casual     : chr  \"member\" \"member\" \"member\" \"member\" ...\n",
            " $ date              : Date, format: \"2021-01-23\" \"2021-01-27\" ...\n",
            " $ year_month        : chr  \"2021_01\" \"2021_01\" \"2021_01\" \"2021_01\" ...\n",
            " $ day               : chr  \"23\" \"27\" \"21\" \"07\" ...\n",
            " $ day_of_week       : chr  \"Saturday\" \"Wednesday\" \"Thursday\" \"Thursday\" ...\n",
            " $ time              : POSIXct, format: NA NA ...\n",
            " $ ride_length       : num  10.417 4.067 1.333 11.7 0.717 ...\n"
          ]
        },
        {
          "output_type": "display_data",
          "data": {
            "text/plain": [
              "   ride_id          rideable_type        started_at                    \n",
              " Length:3412214     Length:3412214     Min.   :2021-01-01 00:02:05.00  \n",
              " Class :character   Class :character   1st Qu.:2021-05-11 15:01:58.50  \n",
              " Mode  :character   Mode  :character   Median :2021-06-20 15:31:39.50  \n",
              "                                       Mean   :2021-06-28 16:51:24.59  \n",
              "                                       3rd Qu.:2021-08-20 15:51:55.75  \n",
              "                                       Max.   :2021-12-31 23:59:39.00  \n",
              "                                                                       \n",
              "    ended_at                      start_station_name member_casual     \n",
              " Min.   :2021-01-01 00:08:39.00   Length:3412214     Length:3412214    \n",
              " 1st Qu.:2021-05-11 15:20:18.50   Class :character   Class :character  \n",
              " Median :2021-06-20 16:01:43.50   Mode  :character   Mode  :character  \n",
              " Mean   :2021-06-28 17:14:26.38                                        \n",
              " 3rd Qu.:2021-08-20 16:17:04.25                                        \n",
              " Max.   :2022-01-03 13:40:26.00                                        \n",
              "                                                                       \n",
              "      date             year_month            day            day_of_week       \n",
              " Min.   :2021-01-01   Length:3412214     Length:3412214     Length:3412214    \n",
              " 1st Qu.:2021-05-11   Class :character   Class :character   Class :character  \n",
              " Median :2021-06-20   Mode  :character   Mode  :character   Mode  :character  \n",
              " Mean   :2021-06-28                                                           \n",
              " 3rd Qu.:2021-08-20                                                           \n",
              " Max.   :2021-12-31                                                           \n",
              "                                                                              \n",
              "      time          ride_length      \n",
              " Min.   :NA        Min.   :    0.00  \n",
              " 1st Qu.:NA        1st Qu.:    7.03  \n",
              " Median :NA        Median :   12.47  \n",
              " Mean   :NaN       Mean   :   23.03  \n",
              " 3rd Qu.:NA        3rd Qu.:   22.63  \n",
              " Max.   :NA        Max.   :55944.15  \n",
              " NA's   :3412214                     "
            ]
          },
          "metadata": {}
        }
      ]
    },
    {
      "cell_type": "code",
      "source": [
        "#finding distribution by month\n",
        "df_filtered %>%\n",
        "    group_by(year_month) %>%\n",
        "    summarise(count = length(ride_id),\n",
        "              'total_%' = (length(ride_id) / nrow(df_filtered)) * 100,\n",
        "              'members_perc' = (sum(member_casual == \"member\") / length(ride_id)) * 100,\n",
        "              'casual_perc' = (sum(member_casual == \"casual\") / length(ride_id)) * 100,\n",
        "              'member_casual perc_Difer' = members_p - casual_p)"
      ],
      "metadata": {
        "colab": {
          "base_uri": "https://localhost:8080/",
          "height": 474
        },
        "id": "bI4cjM_GEaEo",
        "outputId": "8acd53ac-6e15-46c7-8c7c-0902ab404cfe"
      },
      "execution_count": null,
      "outputs": [
        {
          "output_type": "display_data",
          "data": {
            "text/html": [
              "<table class=\"dataframe\">\n",
              "<caption>A tibble: 12 × 6</caption>\n",
              "<thead>\n",
              "\t<tr><th scope=col>year_month</th><th scope=col>count</th><th scope=col>total_%</th><th scope=col>members_p</th><th scope=col>casual_p</th><th scope=col>Member x Casual Perc Difer</th></tr>\n",
              "\t<tr><th scope=col>&lt;chr&gt;</th><th scope=col>&lt;int&gt;</th><th scope=col>&lt;dbl&gt;</th><th scope=col>&lt;dbl&gt;</th><th scope=col>&lt;dbl&gt;</th><th scope=col>&lt;dbl&gt;</th></tr>\n",
              "</thead>\n",
              "<tbody>\n",
              "\t<tr><td>2021_01</td><td> 96832</td><td> 2.837806</td><td>81.29028</td><td>18.70972</td><td>62.580552</td></tr>\n",
              "\t<tr><td>2021_02</td><td> 49622</td><td> 1.454246</td><td>79.58365</td><td>20.41635</td><td>59.167305</td></tr>\n",
              "\t<tr><td>2021_03</td><td>228494</td><td> 6.696356</td><td>63.22354</td><td>36.77646</td><td>26.447084</td></tr>\n",
              "\t<tr><td>2021_04</td><td>337225</td><td> 9.882880</td><td>59.49262</td><td>40.50738</td><td>18.985247</td></tr>\n",
              "\t<tr><td>2021_05</td><td>531631</td><td>15.580236</td><td>51.67400</td><td>48.32600</td><td> 3.347999</td></tr>\n",
              "\t<tr><td>2021_06</td><td>643567</td><td>18.860687</td><td>49.35523</td><td>50.64477</td><td>-1.289532</td></tr>\n",
              "\t<tr><td>2021_07</td><td>409849</td><td>12.011234</td><td>48.70623</td><td>51.29377</td><td>-2.587538</td></tr>\n",
              "\t<tr><td>2021_08</td><td>411439</td><td>12.057831</td><td>48.32041</td><td>51.67959</td><td>-3.359186</td></tr>\n",
              "\t<tr><td>2021_09</td><td>373863</td><td>10.956611</td><td>54.20756</td><td>45.79244</td><td> 8.415115</td></tr>\n",
              "\t<tr><td>2021_10</td><td>136041</td><td> 3.986884</td><td>57.56279</td><td>42.43721</td><td>15.125587</td></tr>\n",
              "\t<tr><td>2021_11</td><td> 97668</td><td> 2.862306</td><td>72.76488</td><td>27.23512</td><td>45.529754</td></tr>\n",
              "\t<tr><td>2021_12</td><td> 95983</td><td> 2.812924</td><td>73.55990</td><td>26.44010</td><td>47.119802</td></tr>\n",
              "</tbody>\n",
              "</table>\n"
            ],
            "text/markdown": "\nA tibble: 12 × 6\n\n| year_month &lt;chr&gt; | count &lt;int&gt; | total_% &lt;dbl&gt; | members_p &lt;dbl&gt; | casual_p &lt;dbl&gt; | Member x Casual Perc Difer &lt;dbl&gt; |\n|---|---|---|---|---|---|\n| 2021_01 |  96832 |  2.837806 | 81.29028 | 18.70972 | 62.580552 |\n| 2021_02 |  49622 |  1.454246 | 79.58365 | 20.41635 | 59.167305 |\n| 2021_03 | 228494 |  6.696356 | 63.22354 | 36.77646 | 26.447084 |\n| 2021_04 | 337225 |  9.882880 | 59.49262 | 40.50738 | 18.985247 |\n| 2021_05 | 531631 | 15.580236 | 51.67400 | 48.32600 |  3.347999 |\n| 2021_06 | 643567 | 18.860687 | 49.35523 | 50.64477 | -1.289532 |\n| 2021_07 | 409849 | 12.011234 | 48.70623 | 51.29377 | -2.587538 |\n| 2021_08 | 411439 | 12.057831 | 48.32041 | 51.67959 | -3.359186 |\n| 2021_09 | 373863 | 10.956611 | 54.20756 | 45.79244 |  8.415115 |\n| 2021_10 | 136041 |  3.986884 | 57.56279 | 42.43721 | 15.125587 |\n| 2021_11 |  97668 |  2.862306 | 72.76488 | 27.23512 | 45.529754 |\n| 2021_12 |  95983 |  2.812924 | 73.55990 | 26.44010 | 47.119802 |\n\n",
            "text/latex": "A tibble: 12 × 6\n\\begin{tabular}{llllll}\n year\\_month & count & total\\_\\% & members\\_p & casual\\_p & Member x Casual Perc Difer\\\\\n <chr> & <int> & <dbl> & <dbl> & <dbl> & <dbl>\\\\\n\\hline\n\t 2021\\_01 &  96832 &  2.837806 & 81.29028 & 18.70972 & 62.580552\\\\\n\t 2021\\_02 &  49622 &  1.454246 & 79.58365 & 20.41635 & 59.167305\\\\\n\t 2021\\_03 & 228494 &  6.696356 & 63.22354 & 36.77646 & 26.447084\\\\\n\t 2021\\_04 & 337225 &  9.882880 & 59.49262 & 40.50738 & 18.985247\\\\\n\t 2021\\_05 & 531631 & 15.580236 & 51.67400 & 48.32600 &  3.347999\\\\\n\t 2021\\_06 & 643567 & 18.860687 & 49.35523 & 50.64477 & -1.289532\\\\\n\t 2021\\_07 & 409849 & 12.011234 & 48.70623 & 51.29377 & -2.587538\\\\\n\t 2021\\_08 & 411439 & 12.057831 & 48.32041 & 51.67959 & -3.359186\\\\\n\t 2021\\_09 & 373863 & 10.956611 & 54.20756 & 45.79244 &  8.415115\\\\\n\t 2021\\_10 & 136041 &  3.986884 & 57.56279 & 42.43721 & 15.125587\\\\\n\t 2021\\_11 &  97668 &  2.862306 & 72.76488 & 27.23512 & 45.529754\\\\\n\t 2021\\_12 &  95983 &  2.812924 & 73.55990 & 26.44010 & 47.119802\\\\\n\\end{tabular}\n",
            "text/plain": [
              "   year_month count  total_%   members_p casual_p Member x Casual Perc Difer\n",
              "1  2021_01     96832  2.837806 81.29028  18.70972 62.580552                 \n",
              "2  2021_02     49622  1.454246 79.58365  20.41635 59.167305                 \n",
              "3  2021_03    228494  6.696356 63.22354  36.77646 26.447084                 \n",
              "4  2021_04    337225  9.882880 59.49262  40.50738 18.985247                 \n",
              "5  2021_05    531631 15.580236 51.67400  48.32600  3.347999                 \n",
              "6  2021_06    643567 18.860687 49.35523  50.64477 -1.289532                 \n",
              "7  2021_07    409849 12.011234 48.70623  51.29377 -2.587538                 \n",
              "8  2021_08    411439 12.057831 48.32041  51.67959 -3.359186                 \n",
              "9  2021_09    373863 10.956611 54.20756  45.79244  8.415115                 \n",
              "10 2021_10    136041  3.986884 57.56279  42.43721 15.125587                 \n",
              "11 2021_11     97668  2.862306 72.76488  27.23512 45.529754                 \n",
              "12 2021_12     95983  2.812924 73.55990  26.44010 47.119802                 "
            ]
          },
          "metadata": {}
        }
      ]
    },
    {
      "cell_type": "code",
      "source": [
        "df_filtered %>%\n",
        "  group_by(member_casual,year_month) %>%\n",
        "  summarise(number_of_rides = n()) %>%\n",
        "  arrange(member_casual, year_month) %>%\n",
        "  ggplot(aes(x = year_month, y = number_of_rides, fill = member_casual)) + geom_col(position = \"dodge\") +\n",
        "  labs(x='month_of_year', y='Total Number of Rides', title='Rides per month of year', fill = 'Type of Membership') +\n",
        "  scale_y_continuous(breaks = c(250000, 400000, 550000), labels = c(\"250K\", \"400K\", \"550K\"))"
      ],
      "metadata": {
        "colab": {
          "base_uri": "https://localhost:8080/",
          "height": 532
        },
        "id": "LAzneu7eO5Bf",
        "outputId": "a985687e-56d7-40d1-f6b1-da45a222138c"
      },
      "execution_count": null,
      "outputs": [
        {
          "output_type": "stream",
          "name": "stderr",
          "text": [
            "\u001b[1m\u001b[22m`summarise()` has grouped output by 'member_casual'. You can override using the\n",
            "`.groups` argument.\n"
          ]
        },
        {
          "output_type": "display_data",
          "data": {
            "text/plain": [
              "plot without title"
            ],
            "image/png": "[encoded data removed]"
          },
          "metadata": {
            "image/png": {
              "width": 960,
              "height": 480
            }
          }
        }
      ]
    },
    {
      "cell_type": "code",
      "source": [
        "df_filtered %>%\n",
        "  group_by(day_of_week)%>%\n",
        "  summarise(count=length(ride_id),\n",
        "'total_%'=(length(ride_id)/nrow(df_filtered))*100,\n",
        "'member_perc'=(sum(member_casual=='member')/length(ride_id))*100,\n",
        "'casual_perc'=(sum(member_casual=='casual')/length(ride_id))*100,\n",
        "'member_casual_perc_diff'=(member_perc-casual_perc))\n"
      ],
      "metadata": {
        "colab": {
          "base_uri": "https://localhost:8080/",
          "height": 318
        },
        "id": "KiJmQLC8Fwpm",
        "outputId": "75e97aaa-ae6d-4c00-988f-00f339b96beb"
      },
      "execution_count": null,
      "outputs": [
        {
          "output_type": "display_data",
          "data": {
            "text/html": [
              "<table class=\"dataframe\">\n",
              "<caption>A tibble: 7 × 6</caption>\n",
              "<thead>\n",
              "\t<tr><th scope=col>day_of_week</th><th scope=col>count</th><th scope=col>total_%</th><th scope=col>member_perc</th><th scope=col>casual_perc</th><th scope=col>member_casual_perc_diff</th></tr>\n",
              "\t<tr><th scope=col>&lt;chr&gt;</th><th scope=col>&lt;int&gt;</th><th scope=col>&lt;dbl&gt;</th><th scope=col>&lt;dbl&gt;</th><th scope=col>&lt;dbl&gt;</th><th scope=col>&lt;dbl&gt;</th></tr>\n",
              "</thead>\n",
              "<tbody>\n",
              "\t<tr><td>Friday   </td><td>487649</td><td>14.29128</td><td>55.67283</td><td>44.32717</td><td> 11.34566</td></tr>\n",
              "\t<tr><td>Monday   </td><td>434497</td><td>12.73358</td><td>59.36313</td><td>40.63687</td><td> 18.72625</td></tr>\n",
              "\t<tr><td>Saturday </td><td>607354</td><td>17.79941</td><td>43.85367</td><td>56.14633</td><td>-12.29267</td></tr>\n",
              "\t<tr><td>Sunday   </td><td>532703</td><td>15.61165</td><td>43.79157</td><td>56.20843</td><td>-12.41686</td></tr>\n",
              "\t<tr><td>Thursday </td><td>440666</td><td>12.91437</td><td>61.86205</td><td>38.13795</td><td> 23.72409</td></tr>\n",
              "\t<tr><td>Tuesday  </td><td>450782</td><td>13.21084</td><td>62.82194</td><td>37.17806</td><td> 25.64388</td></tr>\n",
              "\t<tr><td>Wednesday</td><td>458563</td><td>13.43887</td><td>63.65014</td><td>36.34986</td><td> 27.30028</td></tr>\n",
              "</tbody>\n",
              "</table>\n"
            ],
            "text/markdown": "\nA tibble: 7 × 6\n\n| day_of_week &lt;chr&gt; | count &lt;int&gt; | total_% &lt;dbl&gt; | member_perc &lt;dbl&gt; | casual_perc &lt;dbl&gt; | member_casual_perc_diff &lt;dbl&gt; |\n|---|---|---|---|---|---|\n| Friday    | 487649 | 14.29128 | 55.67283 | 44.32717 |  11.34566 |\n| Monday    | 434497 | 12.73358 | 59.36313 | 40.63687 |  18.72625 |\n| Saturday  | 607354 | 17.79941 | 43.85367 | 56.14633 | -12.29267 |\n| Sunday    | 532703 | 15.61165 | 43.79157 | 56.20843 | -12.41686 |\n| Thursday  | 440666 | 12.91437 | 61.86205 | 38.13795 |  23.72409 |\n| Tuesday   | 450782 | 13.21084 | 62.82194 | 37.17806 |  25.64388 |\n| Wednesday | 458563 | 13.43887 | 63.65014 | 36.34986 |  27.30028 |\n\n",
            "text/latex": "A tibble: 7 × 6\n\\begin{tabular}{llllll}\n day\\_of\\_week & count & total\\_\\% & member\\_perc & casual\\_perc & member\\_casual\\_perc\\_diff\\\\\n <chr> & <int> & <dbl> & <dbl> & <dbl> & <dbl>\\\\\n\\hline\n\t Friday    & 487649 & 14.29128 & 55.67283 & 44.32717 &  11.34566\\\\\n\t Monday    & 434497 & 12.73358 & 59.36313 & 40.63687 &  18.72625\\\\\n\t Saturday  & 607354 & 17.79941 & 43.85367 & 56.14633 & -12.29267\\\\\n\t Sunday    & 532703 & 15.61165 & 43.79157 & 56.20843 & -12.41686\\\\\n\t Thursday  & 440666 & 12.91437 & 61.86205 & 38.13795 &  23.72409\\\\\n\t Tuesday   & 450782 & 13.21084 & 62.82194 & 37.17806 &  25.64388\\\\\n\t Wednesday & 458563 & 13.43887 & 63.65014 & 36.34986 &  27.30028\\\\\n\\end{tabular}\n",
            "text/plain": [
              "  day_of_week count  total_%  member_perc casual_perc member_casual_perc_diff\n",
              "1 Friday      487649 14.29128 55.67283    44.32717     11.34566              \n",
              "2 Monday      434497 12.73358 59.36313    40.63687     18.72625              \n",
              "3 Saturday    607354 17.79941 43.85367    56.14633    -12.29267              \n",
              "4 Sunday      532703 15.61165 43.79157    56.20843    -12.41686              \n",
              "5 Thursday    440666 12.91437 61.86205    38.13795     23.72409              \n",
              "6 Tuesday     450782 13.21084 62.82194    37.17806     25.64388              \n",
              "7 Wednesday   458563 13.43887 63.65014    36.34986     27.30028              "
            ]
          },
          "metadata": {}
        }
      ]
    },
    {
      "cell_type": "code",
      "source": [
        "#Finding distribution by day\n",
        "df_filtered %>%\n",
        "  group_by(member_casual, day_of_week) %>%\n",
        "  summarise(number_of_rides = n()) %>%\n",
        "  arrange(member_casual, day_of_week) %>%\n",
        "  ggplot(aes(x = day_of_week, y = number_of_rides, fill = member_casual)) + geom_col(position = \"dodge\") +\n",
        "  labs(x='Day of Week', y='Total Number of Rides', title='Rides per Day of Week', fill = 'Type of Membership') +\n",
        "  scale_y_continuous(breaks = c(250000, 400000, 550000), labels = c(\"250K\", \"400K\", \"550K\"))"
      ],
      "metadata": {
        "colab": {
          "base_uri": "https://localhost:8080/",
          "height": 532
        },
        "id": "8zSXCa6YOJwM",
        "outputId": "2d99cbbc-8604-460a-e1ff-532a4e971d74"
      },
      "execution_count": null,
      "outputs": [
        {
          "output_type": "stream",
          "name": "stderr",
          "text": [
            "\u001b[1m\u001b[22m`summarise()` has grouped output by 'member_casual'. You can override using the\n",
            "`.groups` argument.\n"
          ]
        },
        {
          "output_type": "display_data",
          "data": {
            "text/plain": [
              "plot without title"
            ],
            "image/png": "[encoded data removed]"
          },
          "metadata": {
            "image/png": {
              "width": 960,
              "height": 480
            }
          }
        }
      ]
    },
    {
      "cell_type": "code",
      "source": [
        "df_filtered%>%\n",
        "  group_by(rideable_type)%>%\n",
        "  summarise(count = length(ride_id),\n",
        " 'total_%'=length(ride_id)/nrow(df_filtered),\n",
        " 'member_perc'=(sum(member_casual=='member')/length(ride_id))*100,\n",
        " 'casual_perc'=(sum(member_casual=='casual')/length(ride_id))*100,\n",
        " 'memer_casual_perc_diff'=member_perc-casual_perc)"
      ],
      "metadata": {
        "colab": {
          "base_uri": "https://localhost:8080/",
          "height": 192
        },
        "id": "Dhg5annbKsR9",
        "outputId": "d26f74b7-2b11-4500-83af-c17504ce6174"
      },
      "execution_count": null,
      "outputs": [
        {
          "output_type": "display_data",
          "data": {
            "text/html": [
              "<table class=\"dataframe\">\n",
              "<caption>A tibble: 3 × 6</caption>\n",
              "<thead>\n",
              "\t<tr><th scope=col>rideable_type</th><th scope=col>count</th><th scope=col>total_%</th><th scope=col>member_perc</th><th scope=col>casual_perc</th><th scope=col>memer_casual_perc_diff</th></tr>\n",
              "\t<tr><th scope=col>&lt;chr&gt;</th><th scope=col>&lt;int&gt;</th><th scope=col>&lt;dbl&gt;</th><th scope=col>&lt;dbl&gt;</th><th scope=col>&lt;dbl&gt;</th><th scope=col>&lt;dbl&gt;</th></tr>\n",
              "</thead>\n",
              "<tbody>\n",
              "\t<tr><td>classic_bike </td><td>2145259</td><td>0.6287000</td><td>61.955502809</td><td>38.04450</td><td> 23.911006</td></tr>\n",
              "\t<tr><td>docked_bike  </td><td> 218006</td><td>0.0638899</td><td> 0.000458703</td><td>99.99954</td><td>-99.999083</td></tr>\n",
              "\t<tr><td>electric_bike</td><td>1048949</td><td>0.3074101</td><td>52.205493308</td><td>47.79451</td><td>  4.410987</td></tr>\n",
              "</tbody>\n",
              "</table>\n"
            ],
            "text/markdown": "\nA tibble: 3 × 6\n\n| rideable_type &lt;chr&gt; | count &lt;int&gt; | total_% &lt;dbl&gt; | member_perc &lt;dbl&gt; | casual_perc &lt;dbl&gt; | memer_casual_perc_diff &lt;dbl&gt; |\n|---|---|---|---|---|---|\n| classic_bike  | 2145259 | 0.6287000 | 61.955502809 | 38.04450 |  23.911006 |\n| docked_bike   |  218006 | 0.0638899 |  0.000458703 | 99.99954 | -99.999083 |\n| electric_bike | 1048949 | 0.3074101 | 52.205493308 | 47.79451 |   4.410987 |\n\n",
            "text/latex": "A tibble: 3 × 6\n\\begin{tabular}{llllll}\n rideable\\_type & count & total\\_\\% & member\\_perc & casual\\_perc & memer\\_casual\\_perc\\_diff\\\\\n <chr> & <int> & <dbl> & <dbl> & <dbl> & <dbl>\\\\\n\\hline\n\t classic\\_bike  & 2145259 & 0.6287000 & 61.955502809 & 38.04450 &  23.911006\\\\\n\t docked\\_bike   &  218006 & 0.0638899 &  0.000458703 & 99.99954 & -99.999083\\\\\n\t electric\\_bike & 1048949 & 0.3074101 & 52.205493308 & 47.79451 &   4.410987\\\\\n\\end{tabular}\n",
            "text/plain": [
              "  rideable_type count   total_%   member_perc  casual_perc\n",
              "1 classic_bike  2145259 0.6287000 61.955502809 38.04450   \n",
              "2 docked_bike    218006 0.0638899  0.000458703 99.99954   \n",
              "3 electric_bike 1048949 0.3074101 52.205493308 47.79451   \n",
              "  memer_casual_perc_diff\n",
              "1  23.911006            \n",
              "2 -99.999083            \n",
              "3   4.410987            "
            ]
          },
          "metadata": {}
        }
      ]
    },
    {
      "cell_type": "code",
      "source": [
        "df_filtered %>%    #looking at breakdown of bike types rented\n",
        "  ggplot(aes(x = rideable_type, fill = member_casual)) + geom_bar(position = \"dodge\") +\n",
        "  labs(x= 'Type of Bike', y='Number of Rentals', title='Which bike works the most', fill = 'Type of Membership') +\n",
        "  scale_y_continuous(breaks = c(500000, 1000000, 1500000), labels = c(\"500K\", \"1Mil\", \"1.5Mil\"))"
      ],
      "metadata": {
        "colab": {
          "base_uri": "https://localhost:8080/",
          "height": 497
        },
        "id": "0T5cWRgmPoVO",
        "outputId": "655cab75-347f-4dd4-ed8a-0a2314de1ffb"
      },
      "execution_count": null,
      "outputs": [
        {
          "output_type": "display_data",
          "data": {
            "text/plain": [
              "plot without title"
            ],
            "image/png": "[encoded data removed]"
          },
          "metadata": {
            "image/png": {
              "width": 960,
              "height": 480
            }
          }
        }
      ]
    },
    {
      "cell_type": "markdown",
      "metadata": {
        "id": "RRLKgxF9S7Bc"
      },
      "source": [
        "\n",
        "\n",
        "Guiding questions\n",
        "\n",
        "● How should you organize your data to perform analysis on it?\n",
        "\n",
        "The data has been consolidated into a unified CSV file by combining all the individual files from the dataset.\n",
        "\n",
        "● Has your data been properly formatted?\n",
        "\n",
        "A notable revelation is the contrasting behavior between members and casual riders when analyzed on weekdays. Additionally, it is surprising to observe that members have shorter riding durations compared to casual riders.\n",
        "\n",
        "Yes, all the columns have their correct data type.\n",
        "\n",
        "● What surprises did you discover in the data?\n",
        "\n",
        "● What trends or relationships did you find in the data?\n",
        "\n",
        "● How will these insights help answer your business questions?"
      ]
    },
    {
      "cell_type": "markdown",
      "source": [
        "###PHASE 5- SHARE\n",
        "\n",
        " The Share step is important for ensuring that your findings are communicated to the right people. This may involve writing a report, giving a presentation, or creating a dashboard.\n",
        "\n",
        "\n",
        "## Guiding questions\n",
        "\n",
        "● Were you able to answer the question of how annual members and casual riders use Cyclistic bikes differently?\n",
        "\n",
        "Yes,the data shows the difference how annual members and casual riders use the cyclistic bikes.\n",
        "\n",
        "● What story does your data tell?\n",
        "The findings establish a distinct profile for members, highlighting the key disparities between casual riders and annual riders.\n",
        "\n",
        "\n",
        "\n",
        "\n",
        "● How do your findings relate to your original question?\n",
        "\n",
        "The data shows that annual riders uses the cyclistic bikes on a regular basis whereas casual riders uses cyclistic bikes mostly on weekends.\n",
        "The Casual users have leisure, and tourism rides mostly on weekends and using classic bikes.\n",
        "\n",
        "● Who is your audience? What is the best way to communicate with them?\n",
        "\n",
        "The main target audience is my cyclistic marketing analytics team and Lily Moreno. The best way to communicate is through a slide presentation of the findings.\n",
        "\n",
        "● Can data visualization help you share your findings?\n",
        "\n",
        "Yes, the main part of the analysis is through data visualization.\n",
        "\n",
        "\n",
        "● Is your presentation accessible to your audience?\n",
        "\n",
        "Yes, the graphs were made using vibrant colors, and corresponding labels.\n",
        "\n",
        "##Key tasks\n",
        "1. Determine the best way to share your findings.\n",
        "2. Create effective data visualizations.\n",
        "3. Present your findings.\n",
        "4. Ensure your work is accessible"
      ],
      "metadata": {
        "id": "pygRTBl2Q-Jj"
      }
    },
    {
      "cell_type": "markdown",
      "source": [
        "PHASE 6-ACT\n",
        "\n",
        "\n",
        "The Act step is the final step in the data analysis process. This is where you will take action based on your findings. This may involve making changes to your business processes, launching a new product, or targeting a new market.\n",
        "\n",
        "Guiding questions\n",
        "● What is your final conclusion based on your analysis?\n",
        "\n",
        "Members and casual riders exhibit contrasting bike usage patterns. This conclusion is reiterated in the subsequent share phase.\n"
      ],
      "metadata": {
        "id": "TnF4DJX1X3qd"
      }
    }
  ],
  "metadata": {
    "colab": {
      "provenance": []
    },
    "kernelspec": {
      "display_name": "R",
      "name": "ir"
    },
    "language_info": {
      "name": "R"
    }
  },
  "nbformat": 4,
  "nbformat_minor": 0
}